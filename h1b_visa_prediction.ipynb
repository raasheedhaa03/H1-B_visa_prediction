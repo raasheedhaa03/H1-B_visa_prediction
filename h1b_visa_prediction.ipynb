{
  "cells": [
    {
      "cell_type": "code",
      "execution_count": null,
      "metadata": {
        "colab": {
          "base_uri": "https://localhost:8080/"
        },
        "id": "j_qMJ5vOjWQR",
        "outputId": "3ef21aad-d90a-4864-a2cb-2382e40de7de"
      },
      "outputs": [
        {
          "output_type": "stream",
          "name": "stdout",
          "text": [
            "Looking in indexes: https://pypi.org/simple, https://us-python.pkg.dev/colab-wheels/public/simple/\n",
            "Collecting category_encoders\n",
            "  Downloading category_encoders-2.6.0-py2.py3-none-any.whl (81 kB)\n",
            "\u001b[?25l     \u001b[90m━━━━━━━━━━━━━━━━━━━━━━━━━━━━━━━━━━━━━━━━\u001b[0m \u001b[32m0.0/81.2 KB\u001b[0m \u001b[31m?\u001b[0m eta \u001b[36m-:--:--\u001b[0m\r\u001b[2K     \u001b[90m━━━━━━━━━━━━━━━━━━━━━━━━━━━━━━━━━━━━━━━━\u001b[0m \u001b[32m81.2/81.2 KB\u001b[0m \u001b[31m4.0 MB/s\u001b[0m eta \u001b[36m0:00:00\u001b[0m\n",
            "\u001b[?25hRequirement already satisfied: scikit-learn>=0.20.0 in /usr/local/lib/python3.8/dist-packages (from category_encoders) (1.0.2)\n",
            "Requirement already satisfied: scipy>=1.0.0 in /usr/local/lib/python3.8/dist-packages (from category_encoders) (1.7.3)\n",
            "Requirement already satisfied: patsy>=0.5.1 in /usr/local/lib/python3.8/dist-packages (from category_encoders) (0.5.3)\n",
            "Requirement already satisfied: pandas>=1.0.5 in /usr/local/lib/python3.8/dist-packages (from category_encoders) (1.3.5)\n",
            "Requirement already satisfied: statsmodels>=0.9.0 in /usr/local/lib/python3.8/dist-packages (from category_encoders) (0.12.2)\n",
            "Requirement already satisfied: numpy>=1.14.0 in /usr/local/lib/python3.8/dist-packages (from category_encoders) (1.22.4)\n",
            "Requirement already satisfied: python-dateutil>=2.7.3 in /usr/local/lib/python3.8/dist-packages (from pandas>=1.0.5->category_encoders) (2.8.2)\n",
            "Requirement already satisfied: pytz>=2017.3 in /usr/local/lib/python3.8/dist-packages (from pandas>=1.0.5->category_encoders) (2022.7.1)\n",
            "Requirement already satisfied: six in /usr/local/lib/python3.8/dist-packages (from patsy>=0.5.1->category_encoders) (1.15.0)\n",
            "Requirement already satisfied: joblib>=0.11 in /usr/local/lib/python3.8/dist-packages (from scikit-learn>=0.20.0->category_encoders) (1.2.0)\n",
            "Requirement already satisfied: threadpoolctl>=2.0.0 in /usr/local/lib/python3.8/dist-packages (from scikit-learn>=0.20.0->category_encoders) (3.1.0)\n",
            "Installing collected packages: category_encoders\n",
            "Successfully installed category_encoders-2.6.0\n"
          ]
        }
      ],
      "source": [
        "pip install category_encoders"
      ]
    },
    {
      "cell_type": "code",
      "execution_count": null,
      "metadata": {
        "id": "EgXabr3yNNb5"
      },
      "outputs": [],
      "source": [
        "import numpy as np\n",
        "import pandas as pd\n",
        "from sklearn.impute import SimpleImputer\n",
        "import category_encoders as ce\n",
        "from sklearn.preprocessing import StandardScaler, MinMaxScaler\n",
        "import matplotlib.pyplot as plt\n",
        "from scipy.stats import skew\n",
        "import seaborn as sns"
      ]
    },
    {
      "cell_type": "code",
      "execution_count": null,
      "metadata": {
        "colab": {
          "base_uri": "https://localhost:8080/"
        },
        "id": "Pcz4sfbcNk8D",
        "outputId": "8d749d75-a6d9-4558-999d-fc9a8dd40993"
      },
      "outputs": [
        {
          "output_type": "stream",
          "name": "stdout",
          "text": [
            "Mounted at /content/drive\n"
          ]
        }
      ],
      "source": [
        "from google.colab import drive\n",
        "drive.mount('/content/drive')"
      ]
    },
    {
      "cell_type": "code",
      "execution_count": null,
      "metadata": {
        "colab": {
          "base_uri": "https://localhost:8080/",
          "height": 478
        },
        "id": "uMAdUMAGOyOf",
        "outputId": "5d6817fa-d43e-4f7c-8d8d-cf75116aa874"
      },
      "outputs": [
        {
          "output_type": "execute_result",
          "data": {
            "text/plain": [
              "          CASE_NUMBER          CASE_STATUS  \\\n",
              "0  I-200-09285-514415            CERTIFIED   \n",
              "1  I-200-09341-564186  CERTIFIED-WITHDRAWN   \n",
              "2  I-200-09342-274341            CERTIFIED   \n",
              "3  I-200-09364-425868            CERTIFIED   \n",
              "4  I-200-10006-413683            WITHDRAWN   \n",
              "\n",
              "                          EMPLOYER_NAME  \\\n",
              "0                           IT CATS LLC   \n",
              "1              XPERT TECHNOLOGIES, INC.   \n",
              "2                    ISR INFO WAY, INC.   \n",
              "3  MAGIC CIRCLE FILMS INTERNATIONAL LLC   \n",
              "4                 SAPHIRE SOLUTIONS INC   \n",
              "\n",
              "                                      SOC_NAME SOC_CODE  \\\n",
              "0                    COMPUTER SYSTEMS ANALYSTS  15-1121   \n",
              "1             COMPUTER OCCUPATIONS, ALL OTHER*  15-1799   \n",
              "2            SOFTWARE DEVELOPERS, APPLICATIONS  15-1132   \n",
              "3                       FILM AND VIDEO EDITORS  27-4032   \n",
              "4  NETWORK AND COMPUTER SYSTEMS ADMINISTRATORS  15-1142   \n",
              "\n",
              "                   JOB_TITLE FULL_TIME_POSITION  PREVAILING_WAGE  \\\n",
              "0    SENIOR BUSINESS ANALYST                  Y         109116.8   \n",
              "1  QUALITY ASSURANCE ANALYST                  Y          58282.0   \n",
              "2     SR. SOFTWARE DEVELOPER                  Y          84906.0   \n",
              "3               VIDEO EDITOR                  Y          39333.0   \n",
              "4      SYSTEMS ADMINISTRATOR                  Y          68638.0   \n",
              "\n",
              "  WORKSITE_CITY WORKSITE_STATE_ABB  YEAR WORKSITE_STATE_FULL  \\\n",
              "0  NORTH WALES,                 PA  2015        PENNSYLVANIA   \n",
              "1     CAMP HILL                 PA  2015        PENNSYLVANIA   \n",
              "2       CHICAGO                 IL  2015            ILLINOIS   \n",
              "3        AUBURN                 NY  2015            NEW YORK   \n",
              "4      BETHPAGE                 NY  2015            NEW YORK   \n",
              "\n",
              "                    WORKSITE  \n",
              "0  NORTH WALES, PENNSYLVANIA  \n",
              "1    CAMP HILL, PENNSYLVANIA  \n",
              "2          CHICAGO, ILLINOIS  \n",
              "3           AUBURN, NEW YORK  \n",
              "4         BETHPAGE, NEW YORK  "
            ],
            "text/html": [
              "\n",
              "  <div id=\"df-625312c2-9880-4978-bf0c-85846dca50a2\">\n",
              "    <div class=\"colab-df-container\">\n",
              "      <div>\n",
              "<style scoped>\n",
              "    .dataframe tbody tr th:only-of-type {\n",
              "        vertical-align: middle;\n",
              "    }\n",
              "\n",
              "    .dataframe tbody tr th {\n",
              "        vertical-align: top;\n",
              "    }\n",
              "\n",
              "    .dataframe thead th {\n",
              "        text-align: right;\n",
              "    }\n",
              "</style>\n",
              "<table border=\"1\" class=\"dataframe\">\n",
              "  <thead>\n",
              "    <tr style=\"text-align: right;\">\n",
              "      <th></th>\n",
              "      <th>CASE_NUMBER</th>\n",
              "      <th>CASE_STATUS</th>\n",
              "      <th>EMPLOYER_NAME</th>\n",
              "      <th>SOC_NAME</th>\n",
              "      <th>SOC_CODE</th>\n",
              "      <th>JOB_TITLE</th>\n",
              "      <th>FULL_TIME_POSITION</th>\n",
              "      <th>PREVAILING_WAGE</th>\n",
              "      <th>WORKSITE_CITY</th>\n",
              "      <th>WORKSITE_STATE_ABB</th>\n",
              "      <th>YEAR</th>\n",
              "      <th>WORKSITE_STATE_FULL</th>\n",
              "      <th>WORKSITE</th>\n",
              "    </tr>\n",
              "  </thead>\n",
              "  <tbody>\n",
              "    <tr>\n",
              "      <th>0</th>\n",
              "      <td>I-200-09285-514415</td>\n",
              "      <td>CERTIFIED</td>\n",
              "      <td>IT CATS LLC</td>\n",
              "      <td>COMPUTER SYSTEMS ANALYSTS</td>\n",
              "      <td>15-1121</td>\n",
              "      <td>SENIOR BUSINESS ANALYST</td>\n",
              "      <td>Y</td>\n",
              "      <td>109116.8</td>\n",
              "      <td>NORTH WALES,</td>\n",
              "      <td>PA</td>\n",
              "      <td>2015</td>\n",
              "      <td>PENNSYLVANIA</td>\n",
              "      <td>NORTH WALES, PENNSYLVANIA</td>\n",
              "    </tr>\n",
              "    <tr>\n",
              "      <th>1</th>\n",
              "      <td>I-200-09341-564186</td>\n",
              "      <td>CERTIFIED-WITHDRAWN</td>\n",
              "      <td>XPERT TECHNOLOGIES, INC.</td>\n",
              "      <td>COMPUTER OCCUPATIONS, ALL OTHER*</td>\n",
              "      <td>15-1799</td>\n",
              "      <td>QUALITY ASSURANCE ANALYST</td>\n",
              "      <td>Y</td>\n",
              "      <td>58282.0</td>\n",
              "      <td>CAMP HILL</td>\n",
              "      <td>PA</td>\n",
              "      <td>2015</td>\n",
              "      <td>PENNSYLVANIA</td>\n",
              "      <td>CAMP HILL, PENNSYLVANIA</td>\n",
              "    </tr>\n",
              "    <tr>\n",
              "      <th>2</th>\n",
              "      <td>I-200-09342-274341</td>\n",
              "      <td>CERTIFIED</td>\n",
              "      <td>ISR INFO WAY, INC.</td>\n",
              "      <td>SOFTWARE DEVELOPERS, APPLICATIONS</td>\n",
              "      <td>15-1132</td>\n",
              "      <td>SR. SOFTWARE DEVELOPER</td>\n",
              "      <td>Y</td>\n",
              "      <td>84906.0</td>\n",
              "      <td>CHICAGO</td>\n",
              "      <td>IL</td>\n",
              "      <td>2015</td>\n",
              "      <td>ILLINOIS</td>\n",
              "      <td>CHICAGO, ILLINOIS</td>\n",
              "    </tr>\n",
              "    <tr>\n",
              "      <th>3</th>\n",
              "      <td>I-200-09364-425868</td>\n",
              "      <td>CERTIFIED</td>\n",
              "      <td>MAGIC CIRCLE FILMS INTERNATIONAL LLC</td>\n",
              "      <td>FILM AND VIDEO EDITORS</td>\n",
              "      <td>27-4032</td>\n",
              "      <td>VIDEO EDITOR</td>\n",
              "      <td>Y</td>\n",
              "      <td>39333.0</td>\n",
              "      <td>AUBURN</td>\n",
              "      <td>NY</td>\n",
              "      <td>2015</td>\n",
              "      <td>NEW YORK</td>\n",
              "      <td>AUBURN, NEW YORK</td>\n",
              "    </tr>\n",
              "    <tr>\n",
              "      <th>4</th>\n",
              "      <td>I-200-10006-413683</td>\n",
              "      <td>WITHDRAWN</td>\n",
              "      <td>SAPHIRE SOLUTIONS INC</td>\n",
              "      <td>NETWORK AND COMPUTER SYSTEMS ADMINISTRATORS</td>\n",
              "      <td>15-1142</td>\n",
              "      <td>SYSTEMS ADMINISTRATOR</td>\n",
              "      <td>Y</td>\n",
              "      <td>68638.0</td>\n",
              "      <td>BETHPAGE</td>\n",
              "      <td>NY</td>\n",
              "      <td>2015</td>\n",
              "      <td>NEW YORK</td>\n",
              "      <td>BETHPAGE, NEW YORK</td>\n",
              "    </tr>\n",
              "  </tbody>\n",
              "</table>\n",
              "</div>\n",
              "      <button class=\"colab-df-convert\" onclick=\"convertToInteractive('df-625312c2-9880-4978-bf0c-85846dca50a2')\"\n",
              "              title=\"Convert this dataframe to an interactive table.\"\n",
              "              style=\"display:none;\">\n",
              "        \n",
              "  <svg xmlns=\"http://www.w3.org/2000/svg\" height=\"24px\"viewBox=\"0 0 24 24\"\n",
              "       width=\"24px\">\n",
              "    <path d=\"M0 0h24v24H0V0z\" fill=\"none\"/>\n",
              "    <path d=\"M18.56 5.44l.94 2.06.94-2.06 2.06-.94-2.06-.94-.94-2.06-.94 2.06-2.06.94zm-11 1L8.5 8.5l.94-2.06 2.06-.94-2.06-.94L8.5 2.5l-.94 2.06-2.06.94zm10 10l.94 2.06.94-2.06 2.06-.94-2.06-.94-.94-2.06-.94 2.06-2.06.94z\"/><path d=\"M17.41 7.96l-1.37-1.37c-.4-.4-.92-.59-1.43-.59-.52 0-1.04.2-1.43.59L10.3 9.45l-7.72 7.72c-.78.78-.78 2.05 0 2.83L4 21.41c.39.39.9.59 1.41.59.51 0 1.02-.2 1.41-.59l7.78-7.78 2.81-2.81c.8-.78.8-2.07 0-2.86zM5.41 20L4 18.59l7.72-7.72 1.47 1.35L5.41 20z\"/>\n",
              "  </svg>\n",
              "      </button>\n",
              "      \n",
              "  <style>\n",
              "    .colab-df-container {\n",
              "      display:flex;\n",
              "      flex-wrap:wrap;\n",
              "      gap: 12px;\n",
              "    }\n",
              "\n",
              "    .colab-df-convert {\n",
              "      background-color: #E8F0FE;\n",
              "      border: none;\n",
              "      border-radius: 50%;\n",
              "      cursor: pointer;\n",
              "      display: none;\n",
              "      fill: #1967D2;\n",
              "      height: 32px;\n",
              "      padding: 0 0 0 0;\n",
              "      width: 32px;\n",
              "    }\n",
              "\n",
              "    .colab-df-convert:hover {\n",
              "      background-color: #E2EBFA;\n",
              "      box-shadow: 0px 1px 2px rgba(60, 64, 67, 0.3), 0px 1px 3px 1px rgba(60, 64, 67, 0.15);\n",
              "      fill: #174EA6;\n",
              "    }\n",
              "\n",
              "    [theme=dark] .colab-df-convert {\n",
              "      background-color: #3B4455;\n",
              "      fill: #D2E3FC;\n",
              "    }\n",
              "\n",
              "    [theme=dark] .colab-df-convert:hover {\n",
              "      background-color: #434B5C;\n",
              "      box-shadow: 0px 1px 3px 1px rgba(0, 0, 0, 0.15);\n",
              "      filter: drop-shadow(0px 1px 2px rgba(0, 0, 0, 0.3));\n",
              "      fill: #FFFFFF;\n",
              "    }\n",
              "  </style>\n",
              "\n",
              "      <script>\n",
              "        const buttonEl =\n",
              "          document.querySelector('#df-625312c2-9880-4978-bf0c-85846dca50a2 button.colab-df-convert');\n",
              "        buttonEl.style.display =\n",
              "          google.colab.kernel.accessAllowed ? 'block' : 'none';\n",
              "\n",
              "        async function convertToInteractive(key) {\n",
              "          const element = document.querySelector('#df-625312c2-9880-4978-bf0c-85846dca50a2');\n",
              "          const dataTable =\n",
              "            await google.colab.kernel.invokeFunction('convertToInteractive',\n",
              "                                                     [key], {});\n",
              "          if (!dataTable) return;\n",
              "\n",
              "          const docLinkHtml = 'Like what you see? Visit the ' +\n",
              "            '<a target=\"_blank\" href=https://colab.research.google.com/notebooks/data_table.ipynb>data table notebook</a>'\n",
              "            + ' to learn more about interactive tables.';\n",
              "          element.innerHTML = '';\n",
              "          dataTable['output_type'] = 'display_data';\n",
              "          await google.colab.output.renderOutput(dataTable, element);\n",
              "          const docLink = document.createElement('div');\n",
              "          docLink.innerHTML = docLinkHtml;\n",
              "          element.appendChild(docLink);\n",
              "        }\n",
              "      </script>\n",
              "    </div>\n",
              "  </div>\n",
              "  "
            ]
          },
          "metadata": {},
          "execution_count": 4
        }
      ],
      "source": [
        "df = pd.read_csv('/content/drive/MyDrive/Research Paper/Dataset/Copy of h1bdataset.csv',encoding='latin')\n",
        "df.head()\n"
      ]
    },
    {
      "cell_type": "code",
      "execution_count": null,
      "metadata": {
        "colab": {
          "base_uri": "https://localhost:8080/",
          "height": 337
        },
        "id": "fiwL9OtlNNcE",
        "outputId": "71f1dcb5-7e67-44fe-ce6d-dc74b267edd8"
      },
      "outputs": [
        {
          "output_type": "execute_result",
          "data": {
            "text/plain": [
              "           CASE_STATUS                         EMPLOYER_NAME  \\\n",
              "0            CERTIFIED                           IT CATS LLC   \n",
              "1  CERTIFIED-WITHDRAWN              XPERT TECHNOLOGIES, INC.   \n",
              "2            CERTIFIED                    ISR INFO WAY, INC.   \n",
              "3            CERTIFIED  MAGIC CIRCLE FILMS INTERNATIONAL LLC   \n",
              "4            WITHDRAWN                 SAPHIRE SOLUTIONS INC   \n",
              "\n",
              "                                      SOC_NAME                  JOB_TITLE  \\\n",
              "0                    COMPUTER SYSTEMS ANALYSTS    SENIOR BUSINESS ANALYST   \n",
              "1             COMPUTER OCCUPATIONS, ALL OTHER*  QUALITY ASSURANCE ANALYST   \n",
              "2            SOFTWARE DEVELOPERS, APPLICATIONS     SR. SOFTWARE DEVELOPER   \n",
              "3                       FILM AND VIDEO EDITORS               VIDEO EDITOR   \n",
              "4  NETWORK AND COMPUTER SYSTEMS ADMINISTRATORS      SYSTEMS ADMINISTRATOR   \n",
              "\n",
              "  FULL_TIME_POSITION  PREVAILING_WAGE                   WORKSITE  \n",
              "0                  Y         109116.8  NORTH WALES, PENNSYLVANIA  \n",
              "1                  Y          58282.0    CAMP HILL, PENNSYLVANIA  \n",
              "2                  Y          84906.0          CHICAGO, ILLINOIS  \n",
              "3                  Y          39333.0           AUBURN, NEW YORK  \n",
              "4                  Y          68638.0         BETHPAGE, NEW YORK  "
            ],
            "text/html": [
              "\n",
              "  <div id=\"df-ab94eb9b-96e5-4cef-8000-cff6c9c846dd\">\n",
              "    <div class=\"colab-df-container\">\n",
              "      <div>\n",
              "<style scoped>\n",
              "    .dataframe tbody tr th:only-of-type {\n",
              "        vertical-align: middle;\n",
              "    }\n",
              "\n",
              "    .dataframe tbody tr th {\n",
              "        vertical-align: top;\n",
              "    }\n",
              "\n",
              "    .dataframe thead th {\n",
              "        text-align: right;\n",
              "    }\n",
              "</style>\n",
              "<table border=\"1\" class=\"dataframe\">\n",
              "  <thead>\n",
              "    <tr style=\"text-align: right;\">\n",
              "      <th></th>\n",
              "      <th>CASE_STATUS</th>\n",
              "      <th>EMPLOYER_NAME</th>\n",
              "      <th>SOC_NAME</th>\n",
              "      <th>JOB_TITLE</th>\n",
              "      <th>FULL_TIME_POSITION</th>\n",
              "      <th>PREVAILING_WAGE</th>\n",
              "      <th>WORKSITE</th>\n",
              "    </tr>\n",
              "  </thead>\n",
              "  <tbody>\n",
              "    <tr>\n",
              "      <th>0</th>\n",
              "      <td>CERTIFIED</td>\n",
              "      <td>IT CATS LLC</td>\n",
              "      <td>COMPUTER SYSTEMS ANALYSTS</td>\n",
              "      <td>SENIOR BUSINESS ANALYST</td>\n",
              "      <td>Y</td>\n",
              "      <td>109116.8</td>\n",
              "      <td>NORTH WALES, PENNSYLVANIA</td>\n",
              "    </tr>\n",
              "    <tr>\n",
              "      <th>1</th>\n",
              "      <td>CERTIFIED-WITHDRAWN</td>\n",
              "      <td>XPERT TECHNOLOGIES, INC.</td>\n",
              "      <td>COMPUTER OCCUPATIONS, ALL OTHER*</td>\n",
              "      <td>QUALITY ASSURANCE ANALYST</td>\n",
              "      <td>Y</td>\n",
              "      <td>58282.0</td>\n",
              "      <td>CAMP HILL, PENNSYLVANIA</td>\n",
              "    </tr>\n",
              "    <tr>\n",
              "      <th>2</th>\n",
              "      <td>CERTIFIED</td>\n",
              "      <td>ISR INFO WAY, INC.</td>\n",
              "      <td>SOFTWARE DEVELOPERS, APPLICATIONS</td>\n",
              "      <td>SR. SOFTWARE DEVELOPER</td>\n",
              "      <td>Y</td>\n",
              "      <td>84906.0</td>\n",
              "      <td>CHICAGO, ILLINOIS</td>\n",
              "    </tr>\n",
              "    <tr>\n",
              "      <th>3</th>\n",
              "      <td>CERTIFIED</td>\n",
              "      <td>MAGIC CIRCLE FILMS INTERNATIONAL LLC</td>\n",
              "      <td>FILM AND VIDEO EDITORS</td>\n",
              "      <td>VIDEO EDITOR</td>\n",
              "      <td>Y</td>\n",
              "      <td>39333.0</td>\n",
              "      <td>AUBURN, NEW YORK</td>\n",
              "    </tr>\n",
              "    <tr>\n",
              "      <th>4</th>\n",
              "      <td>WITHDRAWN</td>\n",
              "      <td>SAPHIRE SOLUTIONS INC</td>\n",
              "      <td>NETWORK AND COMPUTER SYSTEMS ADMINISTRATORS</td>\n",
              "      <td>SYSTEMS ADMINISTRATOR</td>\n",
              "      <td>Y</td>\n",
              "      <td>68638.0</td>\n",
              "      <td>BETHPAGE, NEW YORK</td>\n",
              "    </tr>\n",
              "  </tbody>\n",
              "</table>\n",
              "</div>\n",
              "      <button class=\"colab-df-convert\" onclick=\"convertToInteractive('df-ab94eb9b-96e5-4cef-8000-cff6c9c846dd')\"\n",
              "              title=\"Convert this dataframe to an interactive table.\"\n",
              "              style=\"display:none;\">\n",
              "        \n",
              "  <svg xmlns=\"http://www.w3.org/2000/svg\" height=\"24px\"viewBox=\"0 0 24 24\"\n",
              "       width=\"24px\">\n",
              "    <path d=\"M0 0h24v24H0V0z\" fill=\"none\"/>\n",
              "    <path d=\"M18.56 5.44l.94 2.06.94-2.06 2.06-.94-2.06-.94-.94-2.06-.94 2.06-2.06.94zm-11 1L8.5 8.5l.94-2.06 2.06-.94-2.06-.94L8.5 2.5l-.94 2.06-2.06.94zm10 10l.94 2.06.94-2.06 2.06-.94-2.06-.94-.94-2.06-.94 2.06-2.06.94z\"/><path d=\"M17.41 7.96l-1.37-1.37c-.4-.4-.92-.59-1.43-.59-.52 0-1.04.2-1.43.59L10.3 9.45l-7.72 7.72c-.78.78-.78 2.05 0 2.83L4 21.41c.39.39.9.59 1.41.59.51 0 1.02-.2 1.41-.59l7.78-7.78 2.81-2.81c.8-.78.8-2.07 0-2.86zM5.41 20L4 18.59l7.72-7.72 1.47 1.35L5.41 20z\"/>\n",
              "  </svg>\n",
              "      </button>\n",
              "      \n",
              "  <style>\n",
              "    .colab-df-container {\n",
              "      display:flex;\n",
              "      flex-wrap:wrap;\n",
              "      gap: 12px;\n",
              "    }\n",
              "\n",
              "    .colab-df-convert {\n",
              "      background-color: #E8F0FE;\n",
              "      border: none;\n",
              "      border-radius: 50%;\n",
              "      cursor: pointer;\n",
              "      display: none;\n",
              "      fill: #1967D2;\n",
              "      height: 32px;\n",
              "      padding: 0 0 0 0;\n",
              "      width: 32px;\n",
              "    }\n",
              "\n",
              "    .colab-df-convert:hover {\n",
              "      background-color: #E2EBFA;\n",
              "      box-shadow: 0px 1px 2px rgba(60, 64, 67, 0.3), 0px 1px 3px 1px rgba(60, 64, 67, 0.15);\n",
              "      fill: #174EA6;\n",
              "    }\n",
              "\n",
              "    [theme=dark] .colab-df-convert {\n",
              "      background-color: #3B4455;\n",
              "      fill: #D2E3FC;\n",
              "    }\n",
              "\n",
              "    [theme=dark] .colab-df-convert:hover {\n",
              "      background-color: #434B5C;\n",
              "      box-shadow: 0px 1px 3px 1px rgba(0, 0, 0, 0.15);\n",
              "      filter: drop-shadow(0px 1px 2px rgba(0, 0, 0, 0.3));\n",
              "      fill: #FFFFFF;\n",
              "    }\n",
              "  </style>\n",
              "\n",
              "      <script>\n",
              "        const buttonEl =\n",
              "          document.querySelector('#df-ab94eb9b-96e5-4cef-8000-cff6c9c846dd button.colab-df-convert');\n",
              "        buttonEl.style.display =\n",
              "          google.colab.kernel.accessAllowed ? 'block' : 'none';\n",
              "\n",
              "        async function convertToInteractive(key) {\n",
              "          const element = document.querySelector('#df-ab94eb9b-96e5-4cef-8000-cff6c9c846dd');\n",
              "          const dataTable =\n",
              "            await google.colab.kernel.invokeFunction('convertToInteractive',\n",
              "                                                     [key], {});\n",
              "          if (!dataTable) return;\n",
              "\n",
              "          const docLinkHtml = 'Like what you see? Visit the ' +\n",
              "            '<a target=\"_blank\" href=https://colab.research.google.com/notebooks/data_table.ipynb>data table notebook</a>'\n",
              "            + ' to learn more about interactive tables.';\n",
              "          element.innerHTML = '';\n",
              "          dataTable['output_type'] = 'display_data';\n",
              "          await google.colab.output.renderOutput(dataTable, element);\n",
              "          const docLink = document.createElement('div');\n",
              "          docLink.innerHTML = docLinkHtml;\n",
              "          element.appendChild(docLink);\n",
              "        }\n",
              "      </script>\n",
              "    </div>\n",
              "  </div>\n",
              "  "
            ]
          },
          "metadata": {},
          "execution_count": 5
        }
      ],
      "source": [
        "df.drop('WORKSITE_STATE_FULL',inplace=True,axis=1)\n",
        "df.drop('CASE_NUMBER',inplace=True,axis=1)\n",
        "df.drop('YEAR',inplace=True,axis=1)\n",
        "df.drop('WORKSITE_CITY',inplace=True,axis=1)\n",
        "df.drop('WORKSITE_STATE_ABB',inplace=True,axis=1)\n",
        "df.drop('SOC_CODE',inplace=True,axis=1)\n",
        "df.head()"
      ]
    },
    {
      "cell_type": "code",
      "execution_count": null,
      "metadata": {
        "id": "ZDdrShDfNNcF"
      },
      "outputs": [],
      "source": [
        "df.drop(df.index[(df[\"CASE_STATUS\"] == \"WITHDRAWN\")],axis=0,inplace=True)\n",
        "df.drop(df.index[(df[\"CASE_STATUS\"] == \"CERTIFIED-WITHDRAWN\")],axis=0,inplace=True)"
      ]
    },
    {
      "cell_type": "code",
      "execution_count": null,
      "metadata": {
        "colab": {
          "base_uri": "https://localhost:8080/"
        },
        "id": "My3Ryb8ZNNcG",
        "outputId": "5a049fc4-7cd2-47b0-892f-70a10768956b"
      },
      "outputs": [
        {
          "output_type": "stream",
          "name": "stdout",
          "text": [
            "False\n"
          ]
        }
      ],
      "source": [
        "print('WITHDRAWN' in set(df['CASE_STATUS']))"
      ]
    },
    {
      "cell_type": "code",
      "execution_count": null,
      "metadata": {
        "colab": {
          "base_uri": "https://localhost:8080/"
        },
        "id": "Z4kMi47tNNcH",
        "outputId": "2d855a83-1466-47cb-aa57-e4ef8be1dba8"
      },
      "outputs": [
        {
          "output_type": "stream",
          "name": "stdout",
          "text": [
            "False\n"
          ]
        }
      ],
      "source": [
        "print('CERTIFIED-WITHDRAWN' in set(df['CASE_STATUS']))"
      ]
    },
    {
      "cell_type": "code",
      "execution_count": null,
      "metadata": {
        "colab": {
          "base_uri": "https://localhost:8080/",
          "height": 302
        },
        "id": "PG--LNxNNNcI",
        "outputId": "74e1140a-ca72-4f93-b4ad-6f747a1ac6b4"
      },
      "outputs": [
        {
          "output_type": "execute_result",
          "data": {
            "text/plain": [
              "  CASE_STATUS                         EMPLOYER_NAME  \\\n",
              "0   CERTIFIED                           IT CATS LLC   \n",
              "2   CERTIFIED                    ISR INFO WAY, INC.   \n",
              "3   CERTIFIED  MAGIC CIRCLE FILMS INTERNATIONAL LLC   \n",
              "5   CERTIFIED              SUNERA TECHNOLOGIES, INC   \n",
              "7   CERTIFIED                             LIANG LLC   \n",
              "\n",
              "                            SOC_NAME                JOB_TITLE  \\\n",
              "0          COMPUTER SYSTEMS ANALYSTS  SENIOR BUSINESS ANALYST   \n",
              "2  SOFTWARE DEVELOPERS, APPLICATIONS   SR. SOFTWARE DEVELOPER   \n",
              "3             FILM AND VIDEO EDITORS             VIDEO EDITOR   \n",
              "5               COMPUTER PROGRAMMERS       PROGRAMMER ANALYST   \n",
              "7                 FINANCIAL ANALYSTS        FINANCIAL ANALYST   \n",
              "\n",
              "  FULL_TIME_POSITION  PREVAILING_WAGE                   WORKSITE  \n",
              "0                  Y         109116.8  NORTH WALES, PENNSYLVANIA  \n",
              "2                  Y          84906.0          CHICAGO, ILLINOIS  \n",
              "3                  Y          39333.0           AUBURN, NEW YORK  \n",
              "5                  Y          61901.0             TROY, MICHIGAN  \n",
              "7                  N          49108.8       CARBONDALE, ILLINOIS  "
            ],
            "text/html": [
              "\n",
              "  <div id=\"df-02c0f255-9147-4f09-a339-59b857940449\">\n",
              "    <div class=\"colab-df-container\">\n",
              "      <div>\n",
              "<style scoped>\n",
              "    .dataframe tbody tr th:only-of-type {\n",
              "        vertical-align: middle;\n",
              "    }\n",
              "\n",
              "    .dataframe tbody tr th {\n",
              "        vertical-align: top;\n",
              "    }\n",
              "\n",
              "    .dataframe thead th {\n",
              "        text-align: right;\n",
              "    }\n",
              "</style>\n",
              "<table border=\"1\" class=\"dataframe\">\n",
              "  <thead>\n",
              "    <tr style=\"text-align: right;\">\n",
              "      <th></th>\n",
              "      <th>CASE_STATUS</th>\n",
              "      <th>EMPLOYER_NAME</th>\n",
              "      <th>SOC_NAME</th>\n",
              "      <th>JOB_TITLE</th>\n",
              "      <th>FULL_TIME_POSITION</th>\n",
              "      <th>PREVAILING_WAGE</th>\n",
              "      <th>WORKSITE</th>\n",
              "    </tr>\n",
              "  </thead>\n",
              "  <tbody>\n",
              "    <tr>\n",
              "      <th>0</th>\n",
              "      <td>CERTIFIED</td>\n",
              "      <td>IT CATS LLC</td>\n",
              "      <td>COMPUTER SYSTEMS ANALYSTS</td>\n",
              "      <td>SENIOR BUSINESS ANALYST</td>\n",
              "      <td>Y</td>\n",
              "      <td>109116.8</td>\n",
              "      <td>NORTH WALES, PENNSYLVANIA</td>\n",
              "    </tr>\n",
              "    <tr>\n",
              "      <th>2</th>\n",
              "      <td>CERTIFIED</td>\n",
              "      <td>ISR INFO WAY, INC.</td>\n",
              "      <td>SOFTWARE DEVELOPERS, APPLICATIONS</td>\n",
              "      <td>SR. SOFTWARE DEVELOPER</td>\n",
              "      <td>Y</td>\n",
              "      <td>84906.0</td>\n",
              "      <td>CHICAGO, ILLINOIS</td>\n",
              "    </tr>\n",
              "    <tr>\n",
              "      <th>3</th>\n",
              "      <td>CERTIFIED</td>\n",
              "      <td>MAGIC CIRCLE FILMS INTERNATIONAL LLC</td>\n",
              "      <td>FILM AND VIDEO EDITORS</td>\n",
              "      <td>VIDEO EDITOR</td>\n",
              "      <td>Y</td>\n",
              "      <td>39333.0</td>\n",
              "      <td>AUBURN, NEW YORK</td>\n",
              "    </tr>\n",
              "    <tr>\n",
              "      <th>5</th>\n",
              "      <td>CERTIFIED</td>\n",
              "      <td>SUNERA TECHNOLOGIES, INC</td>\n",
              "      <td>COMPUTER PROGRAMMERS</td>\n",
              "      <td>PROGRAMMER ANALYST</td>\n",
              "      <td>Y</td>\n",
              "      <td>61901.0</td>\n",
              "      <td>TROY, MICHIGAN</td>\n",
              "    </tr>\n",
              "    <tr>\n",
              "      <th>7</th>\n",
              "      <td>CERTIFIED</td>\n",
              "      <td>LIANG LLC</td>\n",
              "      <td>FINANCIAL ANALYSTS</td>\n",
              "      <td>FINANCIAL ANALYST</td>\n",
              "      <td>N</td>\n",
              "      <td>49108.8</td>\n",
              "      <td>CARBONDALE, ILLINOIS</td>\n",
              "    </tr>\n",
              "  </tbody>\n",
              "</table>\n",
              "</div>\n",
              "      <button class=\"colab-df-convert\" onclick=\"convertToInteractive('df-02c0f255-9147-4f09-a339-59b857940449')\"\n",
              "              title=\"Convert this dataframe to an interactive table.\"\n",
              "              style=\"display:none;\">\n",
              "        \n",
              "  <svg xmlns=\"http://www.w3.org/2000/svg\" height=\"24px\"viewBox=\"0 0 24 24\"\n",
              "       width=\"24px\">\n",
              "    <path d=\"M0 0h24v24H0V0z\" fill=\"none\"/>\n",
              "    <path d=\"M18.56 5.44l.94 2.06.94-2.06 2.06-.94-2.06-.94-.94-2.06-.94 2.06-2.06.94zm-11 1L8.5 8.5l.94-2.06 2.06-.94-2.06-.94L8.5 2.5l-.94 2.06-2.06.94zm10 10l.94 2.06.94-2.06 2.06-.94-2.06-.94-.94-2.06-.94 2.06-2.06.94z\"/><path d=\"M17.41 7.96l-1.37-1.37c-.4-.4-.92-.59-1.43-.59-.52 0-1.04.2-1.43.59L10.3 9.45l-7.72 7.72c-.78.78-.78 2.05 0 2.83L4 21.41c.39.39.9.59 1.41.59.51 0 1.02-.2 1.41-.59l7.78-7.78 2.81-2.81c.8-.78.8-2.07 0-2.86zM5.41 20L4 18.59l7.72-7.72 1.47 1.35L5.41 20z\"/>\n",
              "  </svg>\n",
              "      </button>\n",
              "      \n",
              "  <style>\n",
              "    .colab-df-container {\n",
              "      display:flex;\n",
              "      flex-wrap:wrap;\n",
              "      gap: 12px;\n",
              "    }\n",
              "\n",
              "    .colab-df-convert {\n",
              "      background-color: #E8F0FE;\n",
              "      border: none;\n",
              "      border-radius: 50%;\n",
              "      cursor: pointer;\n",
              "      display: none;\n",
              "      fill: #1967D2;\n",
              "      height: 32px;\n",
              "      padding: 0 0 0 0;\n",
              "      width: 32px;\n",
              "    }\n",
              "\n",
              "    .colab-df-convert:hover {\n",
              "      background-color: #E2EBFA;\n",
              "      box-shadow: 0px 1px 2px rgba(60, 64, 67, 0.3), 0px 1px 3px 1px rgba(60, 64, 67, 0.15);\n",
              "      fill: #174EA6;\n",
              "    }\n",
              "\n",
              "    [theme=dark] .colab-df-convert {\n",
              "      background-color: #3B4455;\n",
              "      fill: #D2E3FC;\n",
              "    }\n",
              "\n",
              "    [theme=dark] .colab-df-convert:hover {\n",
              "      background-color: #434B5C;\n",
              "      box-shadow: 0px 1px 3px 1px rgba(0, 0, 0, 0.15);\n",
              "      filter: drop-shadow(0px 1px 2px rgba(0, 0, 0, 0.3));\n",
              "      fill: #FFFFFF;\n",
              "    }\n",
              "  </style>\n",
              "\n",
              "      <script>\n",
              "        const buttonEl =\n",
              "          document.querySelector('#df-02c0f255-9147-4f09-a339-59b857940449 button.colab-df-convert');\n",
              "        buttonEl.style.display =\n",
              "          google.colab.kernel.accessAllowed ? 'block' : 'none';\n",
              "\n",
              "        async function convertToInteractive(key) {\n",
              "          const element = document.querySelector('#df-02c0f255-9147-4f09-a339-59b857940449');\n",
              "          const dataTable =\n",
              "            await google.colab.kernel.invokeFunction('convertToInteractive',\n",
              "                                                     [key], {});\n",
              "          if (!dataTable) return;\n",
              "\n",
              "          const docLinkHtml = 'Like what you see? Visit the ' +\n",
              "            '<a target=\"_blank\" href=https://colab.research.google.com/notebooks/data_table.ipynb>data table notebook</a>'\n",
              "            + ' to learn more about interactive tables.';\n",
              "          element.innerHTML = '';\n",
              "          dataTable['output_type'] = 'display_data';\n",
              "          await google.colab.output.renderOutput(dataTable, element);\n",
              "          const docLink = document.createElement('div');\n",
              "          docLink.innerHTML = docLinkHtml;\n",
              "          element.appendChild(docLink);\n",
              "        }\n",
              "      </script>\n",
              "    </div>\n",
              "  </div>\n",
              "  "
            ]
          },
          "metadata": {},
          "execution_count": 9
        }
      ],
      "source": [
        "df.head()"
      ]
    },
    {
      "cell_type": "code",
      "execution_count": null,
      "metadata": {
        "id": "tcvFkjCpNNcK"
      },
      "outputs": [],
      "source": [
        "dff=df.dropna()\n"
      ]
    },
    {
      "cell_type": "code",
      "execution_count": null,
      "metadata": {
        "colab": {
          "base_uri": "https://localhost:8080/"
        },
        "id": "W3iUOh30La93",
        "outputId": "4f9b3bec-3e24-4fe0-b6ed-3c438c03a9c0"
      },
      "outputs": [
        {
          "output_type": "execute_result",
          "data": {
            "text/plain": [
              "CASE_STATUS           0\n",
              "EMPLOYER_NAME         0\n",
              "SOC_NAME              0\n",
              "JOB_TITLE             0\n",
              "FULL_TIME_POSITION    0\n",
              "PREVAILING_WAGE       0\n",
              "WORKSITE              0\n",
              "dtype: int64"
            ]
          },
          "metadata": {},
          "execution_count": 11
        }
      ],
      "source": [
        "dff.isnull().sum()"
      ]
    },
    {
      "cell_type": "code",
      "execution_count": null,
      "metadata": {
        "id": "CWbMEE2BNNcQ"
      },
      "outputs": [],
      "source": [
        "Q1 = np.percentile(dff['PREVAILING_WAGE'] , 25)\n",
        "Q3 = np.percentile(dff['PREVAILING_WAGE'] , 75)"
      ]
    },
    {
      "cell_type": "code",
      "execution_count": null,
      "metadata": {
        "id": "3ruyB-sgNNcR"
      },
      "outputs": [],
      "source": [
        "\n",
        "IQR = Q3 - Q1\n",
        "ul = Q3+1.5*IQR\n",
        "ll = Q1-1.5*IQR"
      ]
    },
    {
      "cell_type": "code",
      "execution_count": null,
      "metadata": {
        "colab": {
          "base_uri": "https://localhost:8080/"
        },
        "id": "EXOcvbu_NNcR",
        "outputId": "f0f4a89a-0ed4-4e8a-d823-32ea512af39e"
      },
      "outputs": [
        {
          "output_type": "execute_result",
          "data": {
            "text/plain": [
              "53        170394.0\n",
              "902       133515.0\n",
              "2540      205650.0\n",
              "3545      129355.0\n",
              "3601      179254.0\n",
              "            ...   \n",
              "856976    131893.0\n",
              "856981    131893.0\n",
              "856984    131893.0\n",
              "856985    131893.0\n",
              "857191    161220.8\n",
              "Name: PREVAILING_WAGE, Length: 32303, dtype: float64"
            ]
          },
          "metadata": {},
          "execution_count": 14
        }
      ],
      "source": [
        "outliers = dff['PREVAILING_WAGE'][(dff['PREVAILING_WAGE'] > ul) | (dff['PREVAILING_WAGE'] < ll)]\n",
        "outliers"
      ]
    },
    {
      "cell_type": "code",
      "execution_count": null,
      "metadata": {
        "colab": {
          "base_uri": "https://localhost:8080/",
          "height": 355
        },
        "id": "mZIyW3TzNNcT",
        "outputId": "9008586b-bfbf-4fea-ffd5-921ac3688530"
      },
      "outputs": [
        {
          "output_type": "stream",
          "name": "stderr",
          "text": [
            "/usr/local/lib/python3.8/dist-packages/seaborn/_decorators.py:36: FutureWarning: Pass the following variable as a keyword arg: x. From version 0.12, the only valid positional argument will be `data`, and passing other arguments without an explicit keyword will result in an error or misinterpretation.\n",
            "  warnings.warn(\n"
          ]
        },
        {
          "output_type": "execute_result",
          "data": {
            "text/plain": [
              "<AxesSubplot:xlabel='PREVAILING_WAGE'>"
            ]
          },
          "metadata": {},
          "execution_count": 15
        },
        {
          "output_type": "display_data",
          "data": {
            "text/plain": [
              "<Figure size 432x288 with 1 Axes>"
            ],
            "image/png": "[encoded data removed]"
          },
          "metadata": {
            "needs_background": "light"
          }
        }
      ],
      "source": [
        "\n",
        "sns.boxplot(dff[\"PREVAILING_WAGE\"])"
      ]
    },
    {
      "cell_type": "code",
      "execution_count": null,
      "metadata": {
        "colab": {
          "base_uri": "https://localhost:8080/"
        },
        "id": "4gpwxhA5NNcU",
        "outputId": "1cf0a44c-329a-4064-fad8-9d72ec4fd3a1"
      },
      "outputs": [
        {
          "output_type": "stream",
          "name": "stderr",
          "text": [
            "<ipython-input-16-e36e83086bfd>:1: SettingWithCopyWarning: \n",
            "A value is trying to be set on a copy of a slice from a DataFrame.\n",
            "Try using .loc[row_indexer,col_indexer] = value instead\n",
            "\n",
            "See the caveats in the documentation: https://pandas.pydata.org/pandas-docs/stable/user_guide/indexing.html#returning-a-view-versus-a-copy\n",
            "  dff[\"PREVAILING_WAGE\"] = np.where(dff[\"PREVAILING_WAGE\"]  >ul, ul,dff[\"PREVAILING_WAGE\"] )\n",
            "<ipython-input-16-e36e83086bfd>:2: SettingWithCopyWarning: \n",
            "A value is trying to be set on a copy of a slice from a DataFrame.\n",
            "Try using .loc[row_indexer,col_indexer] = value instead\n",
            "\n",
            "See the caveats in the documentation: https://pandas.pydata.org/pandas-docs/stable/user_guide/indexing.html#returning-a-view-versus-a-copy\n",
            "  dff[\"PREVAILING_WAGE\"] = np.where(dff[\"PREVAILING_WAGE\"]  <ll, ll,dff[\"PREVAILING_WAGE\"] )\n"
          ]
        }
      ],
      "source": [
        "dff[\"PREVAILING_WAGE\"] = np.where(dff[\"PREVAILING_WAGE\"]  >ul, ul,dff[\"PREVAILING_WAGE\"] )\n",
        "dff[\"PREVAILING_WAGE\"] = np.where(dff[\"PREVAILING_WAGE\"]  <ll, ll,dff[\"PREVAILING_WAGE\"] )"
      ]
    },
    {
      "cell_type": "code",
      "execution_count": null,
      "metadata": {
        "id": "kUGaScEwNNcV",
        "colab": {
          "base_uri": "https://localhost:8080/",
          "height": 355
        },
        "outputId": "ca7ba599-ce38-4ff3-f776-d60d267ac7bb"
      },
      "outputs": [
        {
          "output_type": "stream",
          "name": "stderr",
          "text": [
            "/usr/local/lib/python3.8/dist-packages/seaborn/_decorators.py:36: FutureWarning: Pass the following variable as a keyword arg: x. From version 0.12, the only valid positional argument will be `data`, and passing other arguments without an explicit keyword will result in an error or misinterpretation.\n",
            "  warnings.warn(\n"
          ]
        },
        {
          "output_type": "execute_result",
          "data": {
            "text/plain": [
              "<AxesSubplot:xlabel='PREVAILING_WAGE'>"
            ]
          },
          "metadata": {},
          "execution_count": 17
        },
        {
          "output_type": "display_data",
          "data": {
            "text/plain": [
              "<Figure size 432x288 with 1 Axes>"
            ],
            "image/png": "[encoded data removed]"
          },
          "metadata": {
            "needs_background": "light"
          }
        }
      ],
      "source": [
        "sns.boxplot(dff[\"PREVAILING_WAGE\"])"
      ]
    },
    {
      "cell_type": "code",
      "execution_count": null,
      "metadata": {
        "id": "25ERSuxPNNcW",
        "colab": {
          "base_uri": "https://localhost:8080/"
        },
        "outputId": "f36a4cd6-9cd3-43a6-a40b-9ffdf3221cb5"
      },
      "outputs": [
        {
          "output_type": "stream",
          "name": "stderr",
          "text": [
            "<ipython-input-18-45d893576406>:1: FutureWarning: Dropping of nuisance columns in DataFrame reductions (with 'numeric_only=None') is deprecated; in a future version this will raise TypeError.  Select only valid columns before calling the reduction.\n",
            "  dff.skew(axis=0,skipna=True)\n"
          ]
        },
        {
          "output_type": "execute_result",
          "data": {
            "text/plain": [
              "PREVAILING_WAGE    0.686029\n",
              "dtype: float64"
            ]
          },
          "metadata": {},
          "execution_count": 18
        }
      ],
      "source": [
        "dff.skew(axis=0,skipna=True)"
      ]
    },
    {
      "cell_type": "code",
      "execution_count": null,
      "metadata": {
        "id": "gUadhxZ-NNcX",
        "colab": {
          "base_uri": "https://localhost:8080/"
        },
        "outputId": "3ff4d6d4-f957-4d11-f8b8-00269266079d"
      },
      "outputs": [
        {
          "output_type": "stream",
          "name": "stderr",
          "text": [
            "/usr/local/lib/python3.8/dist-packages/pandas/util/_decorators.py:311: SettingWithCopyWarning: \n",
            "A value is trying to be set on a copy of a slice from a DataFrame\n",
            "\n",
            "See the caveats in the documentation: https://pandas.pydata.org/pandas-docs/stable/user_guide/indexing.html#returning-a-view-versus-a-copy\n",
            "  return func(*args, **kwargs)\n"
          ]
        }
      ],
      "source": [
        "\n",
        "dff.dropna(axis=0, how='any', thresh=None, subset=None, inplace=True)"
      ]
    },
    {
      "cell_type": "code",
      "execution_count": null,
      "metadata": {
        "id": "l5L34q1BNNcX",
        "colab": {
          "base_uri": "https://localhost:8080/"
        },
        "outputId": "4a8197c4-cc19-4b30-d582-65226ba90a70"
      },
      "outputs": [
        {
          "output_type": "execute_result",
          "data": {
            "text/plain": [
              "CASE_STATUS           0\n",
              "EMPLOYER_NAME         0\n",
              "SOC_NAME              0\n",
              "JOB_TITLE             0\n",
              "FULL_TIME_POSITION    0\n",
              "PREVAILING_WAGE       0\n",
              "WORKSITE              0\n",
              "dtype: int64"
            ]
          },
          "metadata": {},
          "execution_count": 20
        }
      ],
      "source": [
        "dff.isnull().sum()"
      ]
    },
    {
      "cell_type": "code",
      "execution_count": null,
      "metadata": {
        "id": "qbI92jbhNNcY",
        "colab": {
          "base_uri": "https://localhost:8080/"
        },
        "outputId": "fa540d98-dbd0-428c-824d-73fe262c33b1"
      },
      "outputs": [
        {
          "output_type": "execute_result",
          "data": {
            "text/plain": [
              "CERTIFIED    765088\n",
              "DENIED        11758\n",
              "Name: CASE_STATUS, dtype: int64"
            ]
          },
          "metadata": {},
          "execution_count": 21
        }
      ],
      "source": [
        "dff['CASE_STATUS'].value_counts()"
      ]
    },
    {
      "cell_type": "code",
      "execution_count": null,
      "metadata": {
        "id": "v1w1sE9FNNcZ",
        "colab": {
          "base_uri": "https://localhost:8080/"
        },
        "outputId": "2354539d-2239-4df8-9909-4f9fd0c6d92f"
      },
      "outputs": [
        {
          "output_type": "execute_result",
          "data": {
            "text/plain": [
              "CERTIFIED    98.483401\n",
              "DENIED        1.513509\n",
              "Name: CASE_STATUS, dtype: float64"
            ]
          },
          "metadata": {},
          "execution_count": 22
        }
      ],
      "source": [
        "\n",
        "(dff['CASE_STATUS'].value_counts()) / len(df) * 100"
      ]
    },
    {
      "cell_type": "code",
      "execution_count": null,
      "metadata": {
        "id": "Wc3Zr_B4iwv-"
      },
      "outputs": [],
      "source": [
        "sdf=pd.DataFrame(dff[dff['CASE_STATUS'] == 'CERTIFIED'])"
      ]
    },
    {
      "cell_type": "code",
      "execution_count": null,
      "metadata": {
        "id": "aEPHhK4PPaCw",
        "colab": {
          "base_uri": "https://localhost:8080/"
        },
        "outputId": "9f37cd43-d985-4e01-cea2-eadea8699bdb"
      },
      "outputs": [
        {
          "output_type": "execute_result",
          "data": {
            "text/plain": [
              "CASE_STATUS           765088\n",
              "EMPLOYER_NAME         765088\n",
              "SOC_NAME              765088\n",
              "JOB_TITLE             765088\n",
              "FULL_TIME_POSITION    765088\n",
              "PREVAILING_WAGE       765088\n",
              "WORKSITE              765088\n",
              "dtype: int64"
            ]
          },
          "metadata": {},
          "execution_count": 24
        }
      ],
      "source": [
        "sdf.count()"
      ]
    },
    {
      "cell_type": "code",
      "execution_count": null,
      "metadata": {
        "id": "Jx_id4eykElI",
        "colab": {
          "base_uri": "https://localhost:8080/",
          "height": 302
        },
        "outputId": "7f1494ad-05e7-43c8-c1c4-e47c91789e1c"
      },
      "outputs": [
        {
          "output_type": "execute_result",
          "data": {
            "text/plain": [
              "  CASE_STATUS                         EMPLOYER_NAME  \\\n",
              "0   CERTIFIED                           IT CATS LLC   \n",
              "2   CERTIFIED                    ISR INFO WAY, INC.   \n",
              "3   CERTIFIED  MAGIC CIRCLE FILMS INTERNATIONAL LLC   \n",
              "5   CERTIFIED              SUNERA TECHNOLOGIES, INC   \n",
              "7   CERTIFIED                             LIANG LLC   \n",
              "\n",
              "                            SOC_NAME                JOB_TITLE  \\\n",
              "0          COMPUTER SYSTEMS ANALYSTS  SENIOR BUSINESS ANALYST   \n",
              "2  SOFTWARE DEVELOPERS, APPLICATIONS   SR. SOFTWARE DEVELOPER   \n",
              "3             FILM AND VIDEO EDITORS             VIDEO EDITOR   \n",
              "5               COMPUTER PROGRAMMERS       PROGRAMMER ANALYST   \n",
              "7                 FINANCIAL ANALYSTS        FINANCIAL ANALYST   \n",
              "\n",
              "  FULL_TIME_POSITION  PREVAILING_WAGE                   WORKSITE  \n",
              "0                  Y         109116.8  NORTH WALES, PENNSYLVANIA  \n",
              "2                  Y          84906.0          CHICAGO, ILLINOIS  \n",
              "3                  Y          39333.0           AUBURN, NEW YORK  \n",
              "5                  Y          61901.0             TROY, MICHIGAN  \n",
              "7                  N          49108.8       CARBONDALE, ILLINOIS  "
            ],
            "text/html": [
              "\n",
              "  <div id=\"df-58b8b25e-63ff-4ff4-88fa-2aa1b2bcbe61\">\n",
              "    <div class=\"colab-df-container\">\n",
              "      <div>\n",
              "<style scoped>\n",
              "    .dataframe tbody tr th:only-of-type {\n",
              "        vertical-align: middle;\n",
              "    }\n",
              "\n",
              "    .dataframe tbody tr th {\n",
              "        vertical-align: top;\n",
              "    }\n",
              "\n",
              "    .dataframe thead th {\n",
              "        text-align: right;\n",
              "    }\n",
              "</style>\n",
              "<table border=\"1\" class=\"dataframe\">\n",
              "  <thead>\n",
              "    <tr style=\"text-align: right;\">\n",
              "      <th></th>\n",
              "      <th>CASE_STATUS</th>\n",
              "      <th>EMPLOYER_NAME</th>\n",
              "      <th>SOC_NAME</th>\n",
              "      <th>JOB_TITLE</th>\n",
              "      <th>FULL_TIME_POSITION</th>\n",
              "      <th>PREVAILING_WAGE</th>\n",
              "      <th>WORKSITE</th>\n",
              "    </tr>\n",
              "  </thead>\n",
              "  <tbody>\n",
              "    <tr>\n",
              "      <th>0</th>\n",
              "      <td>CERTIFIED</td>\n",
              "      <td>IT CATS LLC</td>\n",
              "      <td>COMPUTER SYSTEMS ANALYSTS</td>\n",
              "      <td>SENIOR BUSINESS ANALYST</td>\n",
              "      <td>Y</td>\n",
              "      <td>109116.8</td>\n",
              "      <td>NORTH WALES, PENNSYLVANIA</td>\n",
              "    </tr>\n",
              "    <tr>\n",
              "      <th>2</th>\n",
              "      <td>CERTIFIED</td>\n",
              "      <td>ISR INFO WAY, INC.</td>\n",
              "      <td>SOFTWARE DEVELOPERS, APPLICATIONS</td>\n",
              "      <td>SR. SOFTWARE DEVELOPER</td>\n",
              "      <td>Y</td>\n",
              "      <td>84906.0</td>\n",
              "      <td>CHICAGO, ILLINOIS</td>\n",
              "    </tr>\n",
              "    <tr>\n",
              "      <th>3</th>\n",
              "      <td>CERTIFIED</td>\n",
              "      <td>MAGIC CIRCLE FILMS INTERNATIONAL LLC</td>\n",
              "      <td>FILM AND VIDEO EDITORS</td>\n",
              "      <td>VIDEO EDITOR</td>\n",
              "      <td>Y</td>\n",
              "      <td>39333.0</td>\n",
              "      <td>AUBURN, NEW YORK</td>\n",
              "    </tr>\n",
              "    <tr>\n",
              "      <th>5</th>\n",
              "      <td>CERTIFIED</td>\n",
              "      <td>SUNERA TECHNOLOGIES, INC</td>\n",
              "      <td>COMPUTER PROGRAMMERS</td>\n",
              "      <td>PROGRAMMER ANALYST</td>\n",
              "      <td>Y</td>\n",
              "      <td>61901.0</td>\n",
              "      <td>TROY, MICHIGAN</td>\n",
              "    </tr>\n",
              "    <tr>\n",
              "      <th>7</th>\n",
              "      <td>CERTIFIED</td>\n",
              "      <td>LIANG LLC</td>\n",
              "      <td>FINANCIAL ANALYSTS</td>\n",
              "      <td>FINANCIAL ANALYST</td>\n",
              "      <td>N</td>\n",
              "      <td>49108.8</td>\n",
              "      <td>CARBONDALE, ILLINOIS</td>\n",
              "    </tr>\n",
              "  </tbody>\n",
              "</table>\n",
              "</div>\n",
              "      <button class=\"colab-df-convert\" onclick=\"convertToInteractive('df-58b8b25e-63ff-4ff4-88fa-2aa1b2bcbe61')\"\n",
              "              title=\"Convert this dataframe to an interactive table.\"\n",
              "              style=\"display:none;\">\n",
              "        \n",
              "  <svg xmlns=\"http://www.w3.org/2000/svg\" height=\"24px\"viewBox=\"0 0 24 24\"\n",
              "       width=\"24px\">\n",
              "    <path d=\"M0 0h24v24H0V0z\" fill=\"none\"/>\n",
              "    <path d=\"M18.56 5.44l.94 2.06.94-2.06 2.06-.94-2.06-.94-.94-2.06-.94 2.06-2.06.94zm-11 1L8.5 8.5l.94-2.06 2.06-.94-2.06-.94L8.5 2.5l-.94 2.06-2.06.94zm10 10l.94 2.06.94-2.06 2.06-.94-2.06-.94-.94-2.06-.94 2.06-2.06.94z\"/><path d=\"M17.41 7.96l-1.37-1.37c-.4-.4-.92-.59-1.43-.59-.52 0-1.04.2-1.43.59L10.3 9.45l-7.72 7.72c-.78.78-.78 2.05 0 2.83L4 21.41c.39.39.9.59 1.41.59.51 0 1.02-.2 1.41-.59l7.78-7.78 2.81-2.81c.8-.78.8-2.07 0-2.86zM5.41 20L4 18.59l7.72-7.72 1.47 1.35L5.41 20z\"/>\n",
              "  </svg>\n",
              "      </button>\n",
              "      \n",
              "  <style>\n",
              "    .colab-df-container {\n",
              "      display:flex;\n",
              "      flex-wrap:wrap;\n",
              "      gap: 12px;\n",
              "    }\n",
              "\n",
              "    .colab-df-convert {\n",
              "      background-color: #E8F0FE;\n",
              "      border: none;\n",
              "      border-radius: 50%;\n",
              "      cursor: pointer;\n",
              "      display: none;\n",
              "      fill: #1967D2;\n",
              "      height: 32px;\n",
              "      padding: 0 0 0 0;\n",
              "      width: 32px;\n",
              "    }\n",
              "\n",
              "    .colab-df-convert:hover {\n",
              "      background-color: #E2EBFA;\n",
              "      box-shadow: 0px 1px 2px rgba(60, 64, 67, 0.3), 0px 1px 3px 1px rgba(60, 64, 67, 0.15);\n",
              "      fill: #174EA6;\n",
              "    }\n",
              "\n",
              "    [theme=dark] .colab-df-convert {\n",
              "      background-color: #3B4455;\n",
              "      fill: #D2E3FC;\n",
              "    }\n",
              "\n",
              "    [theme=dark] .colab-df-convert:hover {\n",
              "      background-color: #434B5C;\n",
              "      box-shadow: 0px 1px 3px 1px rgba(0, 0, 0, 0.15);\n",
              "      filter: drop-shadow(0px 1px 2px rgba(0, 0, 0, 0.3));\n",
              "      fill: #FFFFFF;\n",
              "    }\n",
              "  </style>\n",
              "\n",
              "      <script>\n",
              "        const buttonEl =\n",
              "          document.querySelector('#df-58b8b25e-63ff-4ff4-88fa-2aa1b2bcbe61 button.colab-df-convert');\n",
              "        buttonEl.style.display =\n",
              "          google.colab.kernel.accessAllowed ? 'block' : 'none';\n",
              "\n",
              "        async function convertToInteractive(key) {\n",
              "          const element = document.querySelector('#df-58b8b25e-63ff-4ff4-88fa-2aa1b2bcbe61');\n",
              "          const dataTable =\n",
              "            await google.colab.kernel.invokeFunction('convertToInteractive',\n",
              "                                                     [key], {});\n",
              "          if (!dataTable) return;\n",
              "\n",
              "          const docLinkHtml = 'Like what you see? Visit the ' +\n",
              "            '<a target=\"_blank\" href=https://colab.research.google.com/notebooks/data_table.ipynb>data table notebook</a>'\n",
              "            + ' to learn more about interactive tables.';\n",
              "          element.innerHTML = '';\n",
              "          dataTable['output_type'] = 'display_data';\n",
              "          await google.colab.output.renderOutput(dataTable, element);\n",
              "          const docLink = document.createElement('div');\n",
              "          docLink.innerHTML = docLinkHtml;\n",
              "          element.appendChild(docLink);\n",
              "        }\n",
              "      </script>\n",
              "    </div>\n",
              "  </div>\n",
              "  "
            ]
          },
          "metadata": {},
          "execution_count": 25
        }
      ],
      "source": [
        "sdf.head()"
      ]
    },
    {
      "cell_type": "code",
      "execution_count": null,
      "metadata": {
        "id": "OJVnY8b7i96M"
      },
      "outputs": [],
      "source": [
        "rdf=pd.DataFrame(dff[dff['CASE_STATUS']=='DENIED'])"
      ]
    },
    {
      "cell_type": "code",
      "execution_count": null,
      "metadata": {
        "id": "9qAbaCLnPTZg",
        "colab": {
          "base_uri": "https://localhost:8080/"
        },
        "outputId": "24d004b5-cf69-4b04-99ac-521c548d8ca6"
      },
      "outputs": [
        {
          "output_type": "execute_result",
          "data": {
            "text/plain": [
              "CASE_STATUS           11758\n",
              "EMPLOYER_NAME         11758\n",
              "SOC_NAME              11758\n",
              "JOB_TITLE             11758\n",
              "FULL_TIME_POSITION    11758\n",
              "PREVAILING_WAGE       11758\n",
              "WORKSITE              11758\n",
              "dtype: int64"
            ]
          },
          "metadata": {},
          "execution_count": 27
        }
      ],
      "source": [
        "rdf.count()"
      ]
    },
    {
      "cell_type": "code",
      "execution_count": null,
      "metadata": {
        "id": "dQOunfhLlNyP"
      },
      "outputs": [],
      "source": [
        "fdf=rdf.groupby('FULL_TIME_POSITION', group_keys=False).apply(lambda x: x.sample(382544,replace=True))\n"
      ]
    },
    {
      "cell_type": "code",
      "execution_count": null,
      "metadata": {
        "id": "4JLwpAeAPn7h",
        "colab": {
          "base_uri": "https://localhost:8080/"
        },
        "outputId": "e8285ff8-6645-453d-c514-6780ebe07e72"
      },
      "outputs": [
        {
          "output_type": "execute_result",
          "data": {
            "text/plain": [
              "CASE_STATUS           765088\n",
              "EMPLOYER_NAME         765088\n",
              "SOC_NAME              765088\n",
              "JOB_TITLE             765088\n",
              "FULL_TIME_POSITION    765088\n",
              "PREVAILING_WAGE       765088\n",
              "WORKSITE              765088\n",
              "dtype: int64"
            ]
          },
          "metadata": {},
          "execution_count": 29
        }
      ],
      "source": [
        "fdf.count()"
      ]
    },
    {
      "cell_type": "code",
      "execution_count": null,
      "metadata": {
        "id": "641r14Kvp40B"
      },
      "outputs": [],
      "source": [
        "#sdf['FULL_TIME_POSITION'].value_counts()"
      ]
    },
    {
      "cell_type": "code",
      "execution_count": null,
      "metadata": {
        "id": "YxNRLUYU0aC1"
      },
      "outputs": [],
      "source": [
        "#fdf['FULL_TIME_POSITION'].value_counts()"
      ]
    },
    {
      "cell_type": "code",
      "execution_count": null,
      "metadata": {
        "id": "fla4LGybqOvb"
      },
      "outputs": [],
      "source": [
        "cdf= pd.concat([fdf, sdf], ignore_index=True)"
      ]
    },
    {
      "cell_type": "code",
      "execution_count": null,
      "metadata": {
        "id": "8TwfnKtONNca"
      },
      "outputs": [],
      "source": [
        "\n",
        "#ndf=dff.groupby('CASE_STATUS', group_keys=False).apply(lambda x: x.sample(11758))"
      ]
    },
    {
      "cell_type": "code",
      "execution_count": null,
      "metadata": {
        "id": "O5nzguvzNNcb",
        "colab": {
          "base_uri": "https://localhost:8080/",
          "height": 319
        },
        "outputId": "f74b9ee8-0d7d-446b-fe82-0e3ae4c4d6c8"
      },
      "outputs": [
        {
          "output_type": "execute_result",
          "data": {
            "text/plain": [
              "  CASE_STATUS                                      EMPLOYER_NAME  \\\n",
              "0      DENIED  CTLS, LLC D/B/A MEDICAL KNOWLEDGE SHARED SERVICES   \n",
              "1      DENIED                             BRIGADE MARKETING, LLC   \n",
              "2      DENIED                                         ACCENZ LLC   \n",
              "3      DENIED                                  FORD MODELS, INC.   \n",
              "4      DENIED              BLUE IVY NYC INTERNATIONAL GROUP INC.   \n",
              "\n",
              "                              SOC_NAME             JOB_TITLE  \\\n",
              "0             ACCOUNTANTS AND AUDITORS  CORPORATE ACCOUNTANT   \n",
              "1  ADVERTISING AND PROMOTIONS MANAGERS  SOCIAL MEDIA MANAGER   \n",
              "2            COMPUTER SYSTEMS ANALYSTS       SYSTEMS ANALYST   \n",
              "3                               MODELS         FASHION MODEL   \n",
              "4     LEGAL SUPPORT WORKERS, ALL OTHER         LEGAL SUPPORT   \n",
              "\n",
              "  FULL_TIME_POSITION  PREVAILING_WAGE            WORKSITE  \n",
              "0                  N          55370.0  NEW YORK, NEW YORK  \n",
              "1                  N          50000.0  NEW YORK, NEW YORK  \n",
              "2                  N          51979.0      TROY, MICHIGAN  \n",
              "3                  N          48006.4  NEW YORK, NEW YORK  \n",
              "4                  N          52561.6  NEW YORK, NEW YORK  "
            ],
            "text/html": [
              "\n",
              "  <div id=\"df-dcf73a56-60f2-4740-8bff-ef935837f42e\">\n",
              "    <div class=\"colab-df-container\">\n",
              "      <div>\n",
              "<style scoped>\n",
              "    .dataframe tbody tr th:only-of-type {\n",
              "        vertical-align: middle;\n",
              "    }\n",
              "\n",
              "    .dataframe tbody tr th {\n",
              "        vertical-align: top;\n",
              "    }\n",
              "\n",
              "    .dataframe thead th {\n",
              "        text-align: right;\n",
              "    }\n",
              "</style>\n",
              "<table border=\"1\" class=\"dataframe\">\n",
              "  <thead>\n",
              "    <tr style=\"text-align: right;\">\n",
              "      <th></th>\n",
              "      <th>CASE_STATUS</th>\n",
              "      <th>EMPLOYER_NAME</th>\n",
              "      <th>SOC_NAME</th>\n",
              "      <th>JOB_TITLE</th>\n",
              "      <th>FULL_TIME_POSITION</th>\n",
              "      <th>PREVAILING_WAGE</th>\n",
              "      <th>WORKSITE</th>\n",
              "    </tr>\n",
              "  </thead>\n",
              "  <tbody>\n",
              "    <tr>\n",
              "      <th>0</th>\n",
              "      <td>DENIED</td>\n",
              "      <td>CTLS, LLC D/B/A MEDICAL KNOWLEDGE SHARED SERVICES</td>\n",
              "      <td>ACCOUNTANTS AND AUDITORS</td>\n",
              "      <td>CORPORATE ACCOUNTANT</td>\n",
              "      <td>N</td>\n",
              "      <td>55370.0</td>\n",
              "      <td>NEW YORK, NEW YORK</td>\n",
              "    </tr>\n",
              "    <tr>\n",
              "      <th>1</th>\n",
              "      <td>DENIED</td>\n",
              "      <td>BRIGADE MARKETING, LLC</td>\n",
              "      <td>ADVERTISING AND PROMOTIONS MANAGERS</td>\n",
              "      <td>SOCIAL MEDIA MANAGER</td>\n",
              "      <td>N</td>\n",
              "      <td>50000.0</td>\n",
              "      <td>NEW YORK, NEW YORK</td>\n",
              "    </tr>\n",
              "    <tr>\n",
              "      <th>2</th>\n",
              "      <td>DENIED</td>\n",
              "      <td>ACCENZ LLC</td>\n",
              "      <td>COMPUTER SYSTEMS ANALYSTS</td>\n",
              "      <td>SYSTEMS ANALYST</td>\n",
              "      <td>N</td>\n",
              "      <td>51979.0</td>\n",
              "      <td>TROY, MICHIGAN</td>\n",
              "    </tr>\n",
              "    <tr>\n",
              "      <th>3</th>\n",
              "      <td>DENIED</td>\n",
              "      <td>FORD MODELS, INC.</td>\n",
              "      <td>MODELS</td>\n",
              "      <td>FASHION MODEL</td>\n",
              "      <td>N</td>\n",
              "      <td>48006.4</td>\n",
              "      <td>NEW YORK, NEW YORK</td>\n",
              "    </tr>\n",
              "    <tr>\n",
              "      <th>4</th>\n",
              "      <td>DENIED</td>\n",
              "      <td>BLUE IVY NYC INTERNATIONAL GROUP INC.</td>\n",
              "      <td>LEGAL SUPPORT WORKERS, ALL OTHER</td>\n",
              "      <td>LEGAL SUPPORT</td>\n",
              "      <td>N</td>\n",
              "      <td>52561.6</td>\n",
              "      <td>NEW YORK, NEW YORK</td>\n",
              "    </tr>\n",
              "  </tbody>\n",
              "</table>\n",
              "</div>\n",
              "      <button class=\"colab-df-convert\" onclick=\"convertToInteractive('df-dcf73a56-60f2-4740-8bff-ef935837f42e')\"\n",
              "              title=\"Convert this dataframe to an interactive table.\"\n",
              "              style=\"display:none;\">\n",
              "        \n",
              "  <svg xmlns=\"http://www.w3.org/2000/svg\" height=\"24px\"viewBox=\"0 0 24 24\"\n",
              "       width=\"24px\">\n",
              "    <path d=\"M0 0h24v24H0V0z\" fill=\"none\"/>\n",
              "    <path d=\"M18.56 5.44l.94 2.06.94-2.06 2.06-.94-2.06-.94-.94-2.06-.94 2.06-2.06.94zm-11 1L8.5 8.5l.94-2.06 2.06-.94-2.06-.94L8.5 2.5l-.94 2.06-2.06.94zm10 10l.94 2.06.94-2.06 2.06-.94-2.06-.94-.94-2.06-.94 2.06-2.06.94z\"/><path d=\"M17.41 7.96l-1.37-1.37c-.4-.4-.92-.59-1.43-.59-.52 0-1.04.2-1.43.59L10.3 9.45l-7.72 7.72c-.78.78-.78 2.05 0 2.83L4 21.41c.39.39.9.59 1.41.59.51 0 1.02-.2 1.41-.59l7.78-7.78 2.81-2.81c.8-.78.8-2.07 0-2.86zM5.41 20L4 18.59l7.72-7.72 1.47 1.35L5.41 20z\"/>\n",
              "  </svg>\n",
              "      </button>\n",
              "      \n",
              "  <style>\n",
              "    .colab-df-container {\n",
              "      display:flex;\n",
              "      flex-wrap:wrap;\n",
              "      gap: 12px;\n",
              "    }\n",
              "\n",
              "    .colab-df-convert {\n",
              "      background-color: #E8F0FE;\n",
              "      border: none;\n",
              "      border-radius: 50%;\n",
              "      cursor: pointer;\n",
              "      display: none;\n",
              "      fill: #1967D2;\n",
              "      height: 32px;\n",
              "      padding: 0 0 0 0;\n",
              "      width: 32px;\n",
              "    }\n",
              "\n",
              "    .colab-df-convert:hover {\n",
              "      background-color: #E2EBFA;\n",
              "      box-shadow: 0px 1px 2px rgba(60, 64, 67, 0.3), 0px 1px 3px 1px rgba(60, 64, 67, 0.15);\n",
              "      fill: #174EA6;\n",
              "    }\n",
              "\n",
              "    [theme=dark] .colab-df-convert {\n",
              "      background-color: #3B4455;\n",
              "      fill: #D2E3FC;\n",
              "    }\n",
              "\n",
              "    [theme=dark] .colab-df-convert:hover {\n",
              "      background-color: #434B5C;\n",
              "      box-shadow: 0px 1px 3px 1px rgba(0, 0, 0, 0.15);\n",
              "      filter: drop-shadow(0px 1px 2px rgba(0, 0, 0, 0.3));\n",
              "      fill: #FFFFFF;\n",
              "    }\n",
              "  </style>\n",
              "\n",
              "      <script>\n",
              "        const buttonEl =\n",
              "          document.querySelector('#df-dcf73a56-60f2-4740-8bff-ef935837f42e button.colab-df-convert');\n",
              "        buttonEl.style.display =\n",
              "          google.colab.kernel.accessAllowed ? 'block' : 'none';\n",
              "\n",
              "        async function convertToInteractive(key) {\n",
              "          const element = document.querySelector('#df-dcf73a56-60f2-4740-8bff-ef935837f42e');\n",
              "          const dataTable =\n",
              "            await google.colab.kernel.invokeFunction('convertToInteractive',\n",
              "                                                     [key], {});\n",
              "          if (!dataTable) return;\n",
              "\n",
              "          const docLinkHtml = 'Like what you see? Visit the ' +\n",
              "            '<a target=\"_blank\" href=https://colab.research.google.com/notebooks/data_table.ipynb>data table notebook</a>'\n",
              "            + ' to learn more about interactive tables.';\n",
              "          element.innerHTML = '';\n",
              "          dataTable['output_type'] = 'display_data';\n",
              "          await google.colab.output.renderOutput(dataTable, element);\n",
              "          const docLink = document.createElement('div');\n",
              "          docLink.innerHTML = docLinkHtml;\n",
              "          element.appendChild(docLink);\n",
              "        }\n",
              "      </script>\n",
              "    </div>\n",
              "  </div>\n",
              "  "
            ]
          },
          "metadata": {},
          "execution_count": 34
        }
      ],
      "source": [
        "cdf.head()"
      ]
    },
    {
      "cell_type": "code",
      "execution_count": null,
      "metadata": {
        "id": "Q-dv712nNNcc",
        "colab": {
          "base_uri": "https://localhost:8080/"
        },
        "outputId": "a1b6a919-bbc3-446c-ac23-7a26309c4549"
      },
      "outputs": [
        {
          "output_type": "execute_result",
          "data": {
            "text/plain": [
              "DENIED       765088\n",
              "CERTIFIED    765088\n",
              "Name: CASE_STATUS, dtype: int64"
            ]
          },
          "metadata": {},
          "execution_count": 35
        }
      ],
      "source": [
        "cdf['CASE_STATUS'].value_counts()"
      ]
    },
    {
      "cell_type": "code",
      "execution_count": null,
      "metadata": {
        "colab": {
          "base_uri": "https://localhost:8080/"
        },
        "id": "4xwV2segNNcd",
        "outputId": "c32e7858-e9cf-4a3b-bbf1-f1646e64f09f"
      },
      "outputs": [
        {
          "output_type": "execute_result",
          "data": {
            "text/plain": [
              "DENIED       50.0\n",
              "CERTIFIED    50.0\n",
              "Name: CASE_STATUS, dtype: float64"
            ]
          },
          "metadata": {},
          "execution_count": 36
        }
      ],
      "source": [
        "(cdf['CASE_STATUS'].value_counts()) / len(cdf) * 100"
      ]
    },
    {
      "cell_type": "code",
      "execution_count": null,
      "metadata": {
        "colab": {
          "base_uri": "https://localhost:8080/"
        },
        "id": "diegnXjmNNce",
        "outputId": "7c252461-f4fb-4784-f93a-8c4deb597fb0"
      },
      "outputs": [
        {
          "output_type": "stream",
          "name": "stderr",
          "text": [
            "<ipython-input-37-6514f21e909b>:1: FutureWarning: Dropping of nuisance columns in DataFrame reductions (with 'numeric_only=None') is deprecated; in a future version this will raise TypeError.  Select only valid columns before calling the reduction.\n",
            "  cdf.skew(axis=0,skipna=True)\n"
          ]
        },
        {
          "output_type": "execute_result",
          "data": {
            "text/plain": [
              "PREVAILING_WAGE    0.703159\n",
              "dtype: float64"
            ]
          },
          "metadata": {},
          "execution_count": 37
        }
      ],
      "source": [
        "cdf.skew(axis=0,skipna=True)"
      ]
    },
    {
      "cell_type": "code",
      "execution_count": null,
      "metadata": {
        "colab": {
          "base_uri": "https://localhost:8080/"
        },
        "id": "OjWXr1EeNNcf",
        "outputId": "45ec0b56-6add-41db-f6e8-bfce68d6e495"
      },
      "outputs": [
        {
          "output_type": "stream",
          "name": "stdout",
          "text": [
            "CASE_STATUS : 2\n",
            "EMPLOYER_NAME : 68148\n",
            "SOC_NAME : 1073\n",
            "JOB_TITLE : 105767\n",
            "FULL_TIME_POSITION : 2\n",
            "PREVAILING_WAGE : 18763\n",
            "WORKSITE : 7054\n"
          ]
        }
      ],
      "source": [
        "for x in cdf.columns:\n",
        "    #prinfting unique values\n",
        "    print(x ,':', len(cdf[x].unique()))"
      ]
    },
    {
      "cell_type": "code",
      "execution_count": null,
      "metadata": {
        "id": "sSWgZTmsNNcg"
      },
      "outputs": [],
      "source": [
        "cdf['CASE_STATUS'].replace(['CERTIFIED', 'DENIED'],[1, 0], inplace=True)\n",
        "cdf['FULL_TIME_POSITION'].replace(['Y', 'N'],[1, 0], inplace=True)"
      ]
    },
    {
      "cell_type": "code",
      "execution_count": null,
      "metadata": {
        "colab": {
          "base_uri": "https://localhost:8080/",
          "height": 319
        },
        "id": "_Ycq090INNch",
        "outputId": "1176109a-63f4-47fc-df8b-1424959f0ae8"
      },
      "outputs": [
        {
          "output_type": "execute_result",
          "data": {
            "text/plain": [
              "   CASE_STATUS                                      EMPLOYER_NAME  \\\n",
              "0            0  CTLS, LLC D/B/A MEDICAL KNOWLEDGE SHARED SERVICES   \n",
              "1            0                             BRIGADE MARKETING, LLC   \n",
              "2            0                                         ACCENZ LLC   \n",
              "3            0                                  FORD MODELS, INC.   \n",
              "4            0              BLUE IVY NYC INTERNATIONAL GROUP INC.   \n",
              "\n",
              "                              SOC_NAME             JOB_TITLE  \\\n",
              "0             ACCOUNTANTS AND AUDITORS  CORPORATE ACCOUNTANT   \n",
              "1  ADVERTISING AND PROMOTIONS MANAGERS  SOCIAL MEDIA MANAGER   \n",
              "2            COMPUTER SYSTEMS ANALYSTS       SYSTEMS ANALYST   \n",
              "3                               MODELS         FASHION MODEL   \n",
              "4     LEGAL SUPPORT WORKERS, ALL OTHER         LEGAL SUPPORT   \n",
              "\n",
              "   FULL_TIME_POSITION  PREVAILING_WAGE            WORKSITE  \n",
              "0                   0          55370.0  NEW YORK, NEW YORK  \n",
              "1                   0          50000.0  NEW YORK, NEW YORK  \n",
              "2                   0          51979.0      TROY, MICHIGAN  \n",
              "3                   0          48006.4  NEW YORK, NEW YORK  \n",
              "4                   0          52561.6  NEW YORK, NEW YORK  "
            ],
            "text/html": [
              "\n",
              "  <div id=\"df-f63ff455-51d5-4d0a-a43f-2c62b1c493fa\">\n",
              "    <div class=\"colab-df-container\">\n",
              "      <div>\n",
              "<style scoped>\n",
              "    .dataframe tbody tr th:only-of-type {\n",
              "        vertical-align: middle;\n",
              "    }\n",
              "\n",
              "    .dataframe tbody tr th {\n",
              "        vertical-align: top;\n",
              "    }\n",
              "\n",
              "    .dataframe thead th {\n",
              "        text-align: right;\n",
              "    }\n",
              "</style>\n",
              "<table border=\"1\" class=\"dataframe\">\n",
              "  <thead>\n",
              "    <tr style=\"text-align: right;\">\n",
              "      <th></th>\n",
              "      <th>CASE_STATUS</th>\n",
              "      <th>EMPLOYER_NAME</th>\n",
              "      <th>SOC_NAME</th>\n",
              "      <th>JOB_TITLE</th>\n",
              "      <th>FULL_TIME_POSITION</th>\n",
              "      <th>PREVAILING_WAGE</th>\n",
              "      <th>WORKSITE</th>\n",
              "    </tr>\n",
              "  </thead>\n",
              "  <tbody>\n",
              "    <tr>\n",
              "      <th>0</th>\n",
              "      <td>0</td>\n",
              "      <td>CTLS, LLC D/B/A MEDICAL KNOWLEDGE SHARED SERVICES</td>\n",
              "      <td>ACCOUNTANTS AND AUDITORS</td>\n",
              "      <td>CORPORATE ACCOUNTANT</td>\n",
              "      <td>0</td>\n",
              "      <td>55370.0</td>\n",
              "      <td>NEW YORK, NEW YORK</td>\n",
              "    </tr>\n",
              "    <tr>\n",
              "      <th>1</th>\n",
              "      <td>0</td>\n",
              "      <td>BRIGADE MARKETING, LLC</td>\n",
              "      <td>ADVERTISING AND PROMOTIONS MANAGERS</td>\n",
              "      <td>SOCIAL MEDIA MANAGER</td>\n",
              "      <td>0</td>\n",
              "      <td>50000.0</td>\n",
              "      <td>NEW YORK, NEW YORK</td>\n",
              "    </tr>\n",
              "    <tr>\n",
              "      <th>2</th>\n",
              "      <td>0</td>\n",
              "      <td>ACCENZ LLC</td>\n",
              "      <td>COMPUTER SYSTEMS ANALYSTS</td>\n",
              "      <td>SYSTEMS ANALYST</td>\n",
              "      <td>0</td>\n",
              "      <td>51979.0</td>\n",
              "      <td>TROY, MICHIGAN</td>\n",
              "    </tr>\n",
              "    <tr>\n",
              "      <th>3</th>\n",
              "      <td>0</td>\n",
              "      <td>FORD MODELS, INC.</td>\n",
              "      <td>MODELS</td>\n",
              "      <td>FASHION MODEL</td>\n",
              "      <td>0</td>\n",
              "      <td>48006.4</td>\n",
              "      <td>NEW YORK, NEW YORK</td>\n",
              "    </tr>\n",
              "    <tr>\n",
              "      <th>4</th>\n",
              "      <td>0</td>\n",
              "      <td>BLUE IVY NYC INTERNATIONAL GROUP INC.</td>\n",
              "      <td>LEGAL SUPPORT WORKERS, ALL OTHER</td>\n",
              "      <td>LEGAL SUPPORT</td>\n",
              "      <td>0</td>\n",
              "      <td>52561.6</td>\n",
              "      <td>NEW YORK, NEW YORK</td>\n",
              "    </tr>\n",
              "  </tbody>\n",
              "</table>\n",
              "</div>\n",
              "      <button class=\"colab-df-convert\" onclick=\"convertToInteractive('df-f63ff455-51d5-4d0a-a43f-2c62b1c493fa')\"\n",
              "              title=\"Convert this dataframe to an interactive table.\"\n",
              "              style=\"display:none;\">\n",
              "        \n",
              "  <svg xmlns=\"http://www.w3.org/2000/svg\" height=\"24px\"viewBox=\"0 0 24 24\"\n",
              "       width=\"24px\">\n",
              "    <path d=\"M0 0h24v24H0V0z\" fill=\"none\"/>\n",
              "    <path d=\"M18.56 5.44l.94 2.06.94-2.06 2.06-.94-2.06-.94-.94-2.06-.94 2.06-2.06.94zm-11 1L8.5 8.5l.94-2.06 2.06-.94-2.06-.94L8.5 2.5l-.94 2.06-2.06.94zm10 10l.94 2.06.94-2.06 2.06-.94-2.06-.94-.94-2.06-.94 2.06-2.06.94z\"/><path d=\"M17.41 7.96l-1.37-1.37c-.4-.4-.92-.59-1.43-.59-.52 0-1.04.2-1.43.59L10.3 9.45l-7.72 7.72c-.78.78-.78 2.05 0 2.83L4 21.41c.39.39.9.59 1.41.59.51 0 1.02-.2 1.41-.59l7.78-7.78 2.81-2.81c.8-.78.8-2.07 0-2.86zM5.41 20L4 18.59l7.72-7.72 1.47 1.35L5.41 20z\"/>\n",
              "  </svg>\n",
              "      </button>\n",
              "      \n",
              "  <style>\n",
              "    .colab-df-container {\n",
              "      display:flex;\n",
              "      flex-wrap:wrap;\n",
              "      gap: 12px;\n",
              "    }\n",
              "\n",
              "    .colab-df-convert {\n",
              "      background-color: #E8F0FE;\n",
              "      border: none;\n",
              "      border-radius: 50%;\n",
              "      cursor: pointer;\n",
              "      display: none;\n",
              "      fill: #1967D2;\n",
              "      height: 32px;\n",
              "      padding: 0 0 0 0;\n",
              "      width: 32px;\n",
              "    }\n",
              "\n",
              "    .colab-df-convert:hover {\n",
              "      background-color: #E2EBFA;\n",
              "      box-shadow: 0px 1px 2px rgba(60, 64, 67, 0.3), 0px 1px 3px 1px rgba(60, 64, 67, 0.15);\n",
              "      fill: #174EA6;\n",
              "    }\n",
              "\n",
              "    [theme=dark] .colab-df-convert {\n",
              "      background-color: #3B4455;\n",
              "      fill: #D2E3FC;\n",
              "    }\n",
              "\n",
              "    [theme=dark] .colab-df-convert:hover {\n",
              "      background-color: #434B5C;\n",
              "      box-shadow: 0px 1px 3px 1px rgba(0, 0, 0, 0.15);\n",
              "      filter: drop-shadow(0px 1px 2px rgba(0, 0, 0, 0.3));\n",
              "      fill: #FFFFFF;\n",
              "    }\n",
              "  </style>\n",
              "\n",
              "      <script>\n",
              "        const buttonEl =\n",
              "          document.querySelector('#df-f63ff455-51d5-4d0a-a43f-2c62b1c493fa button.colab-df-convert');\n",
              "        buttonEl.style.display =\n",
              "          google.colab.kernel.accessAllowed ? 'block' : 'none';\n",
              "\n",
              "        async function convertToInteractive(key) {\n",
              "          const element = document.querySelector('#df-f63ff455-51d5-4d0a-a43f-2c62b1c493fa');\n",
              "          const dataTable =\n",
              "            await google.colab.kernel.invokeFunction('convertToInteractive',\n",
              "                                                     [key], {});\n",
              "          if (!dataTable) return;\n",
              "\n",
              "          const docLinkHtml = 'Like what you see? Visit the ' +\n",
              "            '<a target=\"_blank\" href=https://colab.research.google.com/notebooks/data_table.ipynb>data table notebook</a>'\n",
              "            + ' to learn more about interactive tables.';\n",
              "          element.innerHTML = '';\n",
              "          dataTable['output_type'] = 'display_data';\n",
              "          await google.colab.output.renderOutput(dataTable, element);\n",
              "          const docLink = document.createElement('div');\n",
              "          docLink.innerHTML = docLinkHtml;\n",
              "          element.appendChild(docLink);\n",
              "        }\n",
              "      </script>\n",
              "    </div>\n",
              "  </div>\n",
              "  "
            ]
          },
          "metadata": {},
          "execution_count": 40
        }
      ],
      "source": [
        "cdf.head()"
      ]
    },
    {
      "cell_type": "code",
      "execution_count": null,
      "metadata": {
        "colab": {
          "base_uri": "https://localhost:8080/"
        },
        "id": "HlDLHT8hsN4o",
        "outputId": "d437626d-1ea9-428a-d116-567750585ce2"
      },
      "outputs": [
        {
          "output_type": "stream",
          "name": "stdout",
          "text": [
            "                    CASE_STATUS  FULL_TIME_POSITION  PREVAILING_WAGE\n",
            "CASE_STATUS            1.000000            0.342506         0.166520\n",
            "FULL_TIME_POSITION     0.342506            1.000000         0.347102\n",
            "PREVAILING_WAGE        0.166520            0.347102         1.000000\n"
          ]
        }
      ],
      "source": [
        "matrix = cdf.corr()\n",
        "print(matrix)"
      ]
    },
    {
      "cell_type": "code",
      "execution_count": null,
      "metadata": {
        "colab": {
          "base_uri": "https://localhost:8080/",
          "height": 487
        },
        "id": "99OXUYV0M3yw",
        "outputId": "22ba5721-2c9d-4887-ee72-54f80d2d9ce6"
      },
      "outputs": [
        {
          "output_type": "execute_result",
          "data": {
            "text/plain": [
              "         CASE_STATUS  EMPLOYER_NAME_0  EMPLOYER_NAME_1  EMPLOYER_NAME_2  \\\n",
              "0                  0                0                0                0   \n",
              "1                  0                0                0                0   \n",
              "2                  0                0                0                0   \n",
              "3                  0                0                0                0   \n",
              "4                  0                0                0                0   \n",
              "...              ...              ...              ...              ...   \n",
              "1530171            1                0                0                1   \n",
              "1530172            1                1                0                0   \n",
              "1530173            1                0                0                0   \n",
              "1530174            1                0                0                0   \n",
              "1530175            1                0                0                0   \n",
              "\n",
              "         EMPLOYER_NAME_3  EMPLOYER_NAME_4  EMPLOYER_NAME_5  EMPLOYER_NAME_6  \\\n",
              "0                      0                0                0                0   \n",
              "1                      0                0                0                0   \n",
              "2                      0                0                0                0   \n",
              "3                      0                0                0                0   \n",
              "4                      0                0                0                0   \n",
              "...                  ...              ...              ...              ...   \n",
              "1530171                1                0                1                1   \n",
              "1530172                0                0                1                0   \n",
              "1530173                0                1                0                0   \n",
              "1530174                0                0                1                0   \n",
              "1530175                0                1                0                1   \n",
              "\n",
              "         EMPLOYER_NAME_7  EMPLOYER_NAME_8  ...  WORKSITE_3  WORKSITE_4  \\\n",
              "0                      0                0  ...           0           0   \n",
              "1                      0                0  ...           0           0   \n",
              "2                      0                0  ...           0           0   \n",
              "3                      0                0  ...           0           0   \n",
              "4                      0                0  ...           0           0   \n",
              "...                  ...              ...  ...         ...         ...   \n",
              "1530171                1                0  ...           1           1   \n",
              "1530172                1                0  ...           1           1   \n",
              "1530173                0                0  ...           1           1   \n",
              "1530174                1                1  ...           0           0   \n",
              "1530175                0                1  ...           0           0   \n",
              "\n",
              "         WORKSITE_5  WORKSITE_6  WORKSITE_7  WORKSITE_8  WORKSITE_9  \\\n",
              "0                 0           0           0           0           0   \n",
              "1                 0           0           0           0           0   \n",
              "2                 0           0           0           0           0   \n",
              "3                 0           0           0           0           0   \n",
              "4                 0           0           0           0           0   \n",
              "...             ...         ...         ...         ...         ...   \n",
              "1530171           0           0           0           0           1   \n",
              "1530172           1           0           0           0           1   \n",
              "1530173           1           1           0           1           1   \n",
              "1530174           0           0           0           1           0   \n",
              "1530175           1           1           0           1           0   \n",
              "\n",
              "         WORKSITE_10  WORKSITE_11  WORKSITE_12  \n",
              "0                  0            0            1  \n",
              "1                  0            0            1  \n",
              "2                  0            1            0  \n",
              "3                  0            0            1  \n",
              "4                  0            0            1  \n",
              "...              ...          ...          ...  \n",
              "1530171            0            1            0  \n",
              "1530172            1            1            0  \n",
              "1530173            0            1            0  \n",
              "1530174            1            1            1  \n",
              "1530175            0            1            1  \n",
              "\n",
              "[1530176 rows x 61 columns]"
            ],
            "text/html": [
              "\n",
              "  <div id=\"df-2f52791f-13fa-4932-b917-e4191b893b07\">\n",
              "    <div class=\"colab-df-container\">\n",
              "      <div>\n",
              "<style scoped>\n",
              "    .dataframe tbody tr th:only-of-type {\n",
              "        vertical-align: middle;\n",
              "    }\n",
              "\n",
              "    .dataframe tbody tr th {\n",
              "        vertical-align: top;\n",
              "    }\n",
              "\n",
              "    .dataframe thead th {\n",
              "        text-align: right;\n",
              "    }\n",
              "</style>\n",
              "<table border=\"1\" class=\"dataframe\">\n",
              "  <thead>\n",
              "    <tr style=\"text-align: right;\">\n",
              "      <th></th>\n",
              "      <th>CASE_STATUS</th>\n",
              "      <th>EMPLOYER_NAME_0</th>\n",
              "      <th>EMPLOYER_NAME_1</th>\n",
              "      <th>EMPLOYER_NAME_2</th>\n",
              "      <th>EMPLOYER_NAME_3</th>\n",
              "      <th>EMPLOYER_NAME_4</th>\n",
              "      <th>EMPLOYER_NAME_5</th>\n",
              "      <th>EMPLOYER_NAME_6</th>\n",
              "      <th>EMPLOYER_NAME_7</th>\n",
              "      <th>EMPLOYER_NAME_8</th>\n",
              "      <th>...</th>\n",
              "      <th>WORKSITE_3</th>\n",
              "      <th>WORKSITE_4</th>\n",
              "      <th>WORKSITE_5</th>\n",
              "      <th>WORKSITE_6</th>\n",
              "      <th>WORKSITE_7</th>\n",
              "      <th>WORKSITE_8</th>\n",
              "      <th>WORKSITE_9</th>\n",
              "      <th>WORKSITE_10</th>\n",
              "      <th>WORKSITE_11</th>\n",
              "      <th>WORKSITE_12</th>\n",
              "    </tr>\n",
              "  </thead>\n",
              "  <tbody>\n",
              "    <tr>\n",
              "      <th>0</th>\n",
              "      <td>0</td>\n",
              "      <td>0</td>\n",
              "      <td>0</td>\n",
              "      <td>0</td>\n",
              "      <td>0</td>\n",
              "      <td>0</td>\n",
              "      <td>0</td>\n",
              "      <td>0</td>\n",
              "      <td>0</td>\n",
              "      <td>0</td>\n",
              "      <td>...</td>\n",
              "      <td>0</td>\n",
              "      <td>0</td>\n",
              "      <td>0</td>\n",
              "      <td>0</td>\n",
              "      <td>0</td>\n",
              "      <td>0</td>\n",
              "      <td>0</td>\n",
              "      <td>0</td>\n",
              "      <td>0</td>\n",
              "      <td>1</td>\n",
              "    </tr>\n",
              "    <tr>\n",
              "      <th>1</th>\n",
              "      <td>0</td>\n",
              "      <td>0</td>\n",
              "      <td>0</td>\n",
              "      <td>0</td>\n",
              "      <td>0</td>\n",
              "      <td>0</td>\n",
              "      <td>0</td>\n",
              "      <td>0</td>\n",
              "      <td>0</td>\n",
              "      <td>0</td>\n",
              "      <td>...</td>\n",
              "      <td>0</td>\n",
              "      <td>0</td>\n",
              "      <td>0</td>\n",
              "      <td>0</td>\n",
              "      <td>0</td>\n",
              "      <td>0</td>\n",
              "      <td>0</td>\n",
              "      <td>0</td>\n",
              "      <td>0</td>\n",
              "      <td>1</td>\n",
              "    </tr>\n",
              "    <tr>\n",
              "      <th>2</th>\n",
              "      <td>0</td>\n",
              "      <td>0</td>\n",
              "      <td>0</td>\n",
              "      <td>0</td>\n",
              "      <td>0</td>\n",
              "      <td>0</td>\n",
              "      <td>0</td>\n",
              "      <td>0</td>\n",
              "      <td>0</td>\n",
              "      <td>0</td>\n",
              "      <td>...</td>\n",
              "      <td>0</td>\n",
              "      <td>0</td>\n",
              "      <td>0</td>\n",
              "      <td>0</td>\n",
              "      <td>0</td>\n",
              "      <td>0</td>\n",
              "      <td>0</td>\n",
              "      <td>0</td>\n",
              "      <td>1</td>\n",
              "      <td>0</td>\n",
              "    </tr>\n",
              "    <tr>\n",
              "      <th>3</th>\n",
              "      <td>0</td>\n",
              "      <td>0</td>\n",
              "      <td>0</td>\n",
              "      <td>0</td>\n",
              "      <td>0</td>\n",
              "      <td>0</td>\n",
              "      <td>0</td>\n",
              "      <td>0</td>\n",
              "      <td>0</td>\n",
              "      <td>0</td>\n",
              "      <td>...</td>\n",
              "      <td>0</td>\n",
              "      <td>0</td>\n",
              "      <td>0</td>\n",
              "      <td>0</td>\n",
              "      <td>0</td>\n",
              "      <td>0</td>\n",
              "      <td>0</td>\n",
              "      <td>0</td>\n",
              "      <td>0</td>\n",
              "      <td>1</td>\n",
              "    </tr>\n",
              "    <tr>\n",
              "      <th>4</th>\n",
              "      <td>0</td>\n",
              "      <td>0</td>\n",
              "      <td>0</td>\n",
              "      <td>0</td>\n",
              "      <td>0</td>\n",
              "      <td>0</td>\n",
              "      <td>0</td>\n",
              "      <td>0</td>\n",
              "      <td>0</td>\n",
              "      <td>0</td>\n",
              "      <td>...</td>\n",
              "      <td>0</td>\n",
              "      <td>0</td>\n",
              "      <td>0</td>\n",
              "      <td>0</td>\n",
              "      <td>0</td>\n",
              "      <td>0</td>\n",
              "      <td>0</td>\n",
              "      <td>0</td>\n",
              "      <td>0</td>\n",
              "      <td>1</td>\n",
              "    </tr>\n",
              "    <tr>\n",
              "      <th>...</th>\n",
              "      <td>...</td>\n",
              "      <td>...</td>\n",
              "      <td>...</td>\n",
              "      <td>...</td>\n",
              "      <td>...</td>\n",
              "      <td>...</td>\n",
              "      <td>...</td>\n",
              "      <td>...</td>\n",
              "      <td>...</td>\n",
              "      <td>...</td>\n",
              "      <td>...</td>\n",
              "      <td>...</td>\n",
              "      <td>...</td>\n",
              "      <td>...</td>\n",
              "      <td>...</td>\n",
              "      <td>...</td>\n",
              "      <td>...</td>\n",
              "      <td>...</td>\n",
              "      <td>...</td>\n",
              "      <td>...</td>\n",
              "      <td>...</td>\n",
              "    </tr>\n",
              "    <tr>\n",
              "      <th>1530171</th>\n",
              "      <td>1</td>\n",
              "      <td>0</td>\n",
              "      <td>0</td>\n",
              "      <td>1</td>\n",
              "      <td>1</td>\n",
              "      <td>0</td>\n",
              "      <td>1</td>\n",
              "      <td>1</td>\n",
              "      <td>1</td>\n",
              "      <td>0</td>\n",
              "      <td>...</td>\n",
              "      <td>1</td>\n",
              "      <td>1</td>\n",
              "      <td>0</td>\n",
              "      <td>0</td>\n",
              "      <td>0</td>\n",
              "      <td>0</td>\n",
              "      <td>1</td>\n",
              "      <td>0</td>\n",
              "      <td>1</td>\n",
              "      <td>0</td>\n",
              "    </tr>\n",
              "    <tr>\n",
              "      <th>1530172</th>\n",
              "      <td>1</td>\n",
              "      <td>1</td>\n",
              "      <td>0</td>\n",
              "      <td>0</td>\n",
              "      <td>0</td>\n",
              "      <td>0</td>\n",
              "      <td>1</td>\n",
              "      <td>0</td>\n",
              "      <td>1</td>\n",
              "      <td>0</td>\n",
              "      <td>...</td>\n",
              "      <td>1</td>\n",
              "      <td>1</td>\n",
              "      <td>1</td>\n",
              "      <td>0</td>\n",
              "      <td>0</td>\n",
              "      <td>0</td>\n",
              "      <td>1</td>\n",
              "      <td>1</td>\n",
              "      <td>1</td>\n",
              "      <td>0</td>\n",
              "    </tr>\n",
              "    <tr>\n",
              "      <th>1530173</th>\n",
              "      <td>1</td>\n",
              "      <td>0</td>\n",
              "      <td>0</td>\n",
              "      <td>0</td>\n",
              "      <td>0</td>\n",
              "      <td>1</td>\n",
              "      <td>0</td>\n",
              "      <td>0</td>\n",
              "      <td>0</td>\n",
              "      <td>0</td>\n",
              "      <td>...</td>\n",
              "      <td>1</td>\n",
              "      <td>1</td>\n",
              "      <td>1</td>\n",
              "      <td>1</td>\n",
              "      <td>0</td>\n",
              "      <td>1</td>\n",
              "      <td>1</td>\n",
              "      <td>0</td>\n",
              "      <td>1</td>\n",
              "      <td>0</td>\n",
              "    </tr>\n",
              "    <tr>\n",
              "      <th>1530174</th>\n",
              "      <td>1</td>\n",
              "      <td>0</td>\n",
              "      <td>0</td>\n",
              "      <td>0</td>\n",
              "      <td>0</td>\n",
              "      <td>0</td>\n",
              "      <td>1</td>\n",
              "      <td>0</td>\n",
              "      <td>1</td>\n",
              "      <td>1</td>\n",
              "      <td>...</td>\n",
              "      <td>0</td>\n",
              "      <td>0</td>\n",
              "      <td>0</td>\n",
              "      <td>0</td>\n",
              "      <td>0</td>\n",
              "      <td>1</td>\n",
              "      <td>0</td>\n",
              "      <td>1</td>\n",
              "      <td>1</td>\n",
              "      <td>1</td>\n",
              "    </tr>\n",
              "    <tr>\n",
              "      <th>1530175</th>\n",
              "      <td>1</td>\n",
              "      <td>0</td>\n",
              "      <td>0</td>\n",
              "      <td>0</td>\n",
              "      <td>0</td>\n",
              "      <td>1</td>\n",
              "      <td>0</td>\n",
              "      <td>1</td>\n",
              "      <td>0</td>\n",
              "      <td>1</td>\n",
              "      <td>...</td>\n",
              "      <td>0</td>\n",
              "      <td>0</td>\n",
              "      <td>1</td>\n",
              "      <td>1</td>\n",
              "      <td>0</td>\n",
              "      <td>1</td>\n",
              "      <td>0</td>\n",
              "      <td>0</td>\n",
              "      <td>1</td>\n",
              "      <td>1</td>\n",
              "    </tr>\n",
              "  </tbody>\n",
              "</table>\n",
              "<p>1530176 rows × 61 columns</p>\n",
              "</div>\n",
              "      <button class=\"colab-df-convert\" onclick=\"convertToInteractive('df-2f52791f-13fa-4932-b917-e4191b893b07')\"\n",
              "              title=\"Convert this dataframe to an interactive table.\"\n",
              "              style=\"display:none;\">\n",
              "        \n",
              "  <svg xmlns=\"http://www.w3.org/2000/svg\" height=\"24px\"viewBox=\"0 0 24 24\"\n",
              "       width=\"24px\">\n",
              "    <path d=\"M0 0h24v24H0V0z\" fill=\"none\"/>\n",
              "    <path d=\"M18.56 5.44l.94 2.06.94-2.06 2.06-.94-2.06-.94-.94-2.06-.94 2.06-2.06.94zm-11 1L8.5 8.5l.94-2.06 2.06-.94-2.06-.94L8.5 2.5l-.94 2.06-2.06.94zm10 10l.94 2.06.94-2.06 2.06-.94-2.06-.94-.94-2.06-.94 2.06-2.06.94z\"/><path d=\"M17.41 7.96l-1.37-1.37c-.4-.4-.92-.59-1.43-.59-.52 0-1.04.2-1.43.59L10.3 9.45l-7.72 7.72c-.78.78-.78 2.05 0 2.83L4 21.41c.39.39.9.59 1.41.59.51 0 1.02-.2 1.41-.59l7.78-7.78 2.81-2.81c.8-.78.8-2.07 0-2.86zM5.41 20L4 18.59l7.72-7.72 1.47 1.35L5.41 20z\"/>\n",
              "  </svg>\n",
              "      </button>\n",
              "      \n",
              "  <style>\n",
              "    .colab-df-container {\n",
              "      display:flex;\n",
              "      flex-wrap:wrap;\n",
              "      gap: 12px;\n",
              "    }\n",
              "\n",
              "    .colab-df-convert {\n",
              "      background-color: #E8F0FE;\n",
              "      border: none;\n",
              "      border-radius: 50%;\n",
              "      cursor: pointer;\n",
              "      display: none;\n",
              "      fill: #1967D2;\n",
              "      height: 32px;\n",
              "      padding: 0 0 0 0;\n",
              "      width: 32px;\n",
              "    }\n",
              "\n",
              "    .colab-df-convert:hover {\n",
              "      background-color: #E2EBFA;\n",
              "      box-shadow: 0px 1px 2px rgba(60, 64, 67, 0.3), 0px 1px 3px 1px rgba(60, 64, 67, 0.15);\n",
              "      fill: #174EA6;\n",
              "    }\n",
              "\n",
              "    [theme=dark] .colab-df-convert {\n",
              "      background-color: #3B4455;\n",
              "      fill: #D2E3FC;\n",
              "    }\n",
              "\n",
              "    [theme=dark] .colab-df-convert:hover {\n",
              "      background-color: #434B5C;\n",
              "      box-shadow: 0px 1px 3px 1px rgba(0, 0, 0, 0.15);\n",
              "      filter: drop-shadow(0px 1px 2px rgba(0, 0, 0, 0.3));\n",
              "      fill: #FFFFFF;\n",
              "    }\n",
              "  </style>\n",
              "\n",
              "      <script>\n",
              "        const buttonEl =\n",
              "          document.querySelector('#df-2f52791f-13fa-4932-b917-e4191b893b07 button.colab-df-convert');\n",
              "        buttonEl.style.display =\n",
              "          google.colab.kernel.accessAllowed ? 'block' : 'none';\n",
              "\n",
              "        async function convertToInteractive(key) {\n",
              "          const element = document.querySelector('#df-2f52791f-13fa-4932-b917-e4191b893b07');\n",
              "          const dataTable =\n",
              "            await google.colab.kernel.invokeFunction('convertToInteractive',\n",
              "                                                     [key], {});\n",
              "          if (!dataTable) return;\n",
              "\n",
              "          const docLinkHtml = 'Like what you see? Visit the ' +\n",
              "            '<a target=\"_blank\" href=https://colab.research.google.com/notebooks/data_table.ipynb>data table notebook</a>'\n",
              "            + ' to learn more about interactive tables.';\n",
              "          element.innerHTML = '';\n",
              "          dataTable['output_type'] = 'display_data';\n",
              "          await google.colab.output.renderOutput(dataTable, element);\n",
              "          const docLink = document.createElement('div');\n",
              "          docLink.innerHTML = docLinkHtml;\n",
              "          element.appendChild(docLink);\n",
              "        }\n",
              "      </script>\n",
              "    </div>\n",
              "  </div>\n",
              "  "
            ]
          },
          "metadata": {},
          "execution_count": 42
        }
      ],
      "source": [
        "encoder= ce.BinaryEncoder(cols=['EMPLOYER_NAME','SOC_NAME','JOB_TITLE','WORKSITE'],return_df=True)\n",
        "nndf=encoder.fit_transform(cdf) \n",
        "nndf"
      ]
    },
    {
      "cell_type": "code",
      "execution_count": null,
      "metadata": {
        "id": "r-HNnCD2NNcj"
      },
      "outputs": [],
      "source": [
        "#ohe = OneHotEncoder()\n",
        "#nndf=pd.DataFrame(ohe.fit_transform(ndf[['EMPLOYER_NAME','SOC_CODE','JOB_TITLE','WORKSITE']]))"
      ]
    },
    {
      "cell_type": "code",
      "execution_count": null,
      "metadata": {
        "id": "ndxM6CmiOU--"
      },
      "outputs": [],
      "source": [
        "#ndf.drop('EMPLOYER_NAME',inplace=True,axis=1)\n",
        "#ndf.drop('SOC_CODE',inplace=True,axis=1)\n",
        "#ndf.drop('WORKSITE',inplace=True,axis=1)\n",
        "#ndf.drop('JOB_TITLE',inplace=True,axis=1)"
      ]
    },
    {
      "cell_type": "code",
      "execution_count": null,
      "metadata": {
        "id": "01JwaVbZNNcj"
      },
      "outputs": [],
      "source": [
        "#nnndf=ndf.join(nndf, lsuffix='suffix_name', rsuffix='suffix_name')"
      ]
    },
    {
      "cell_type": "code",
      "execution_count": null,
      "metadata": {
        "colab": {
          "base_uri": "https://localhost:8080/",
          "height": 487
        },
        "id": "Pg0iiklhNNck",
        "outputId": "43c91923-5139-4eaf-94b2-b8b6931b66bf"
      },
      "outputs": [
        {
          "output_type": "execute_result",
          "data": {
            "text/plain": [
              "         CASE_STATUS  EMPLOYER_NAME_0  EMPLOYER_NAME_1  EMPLOYER_NAME_2  \\\n",
              "0                  0                0                0                0   \n",
              "1                  0                0                0                0   \n",
              "2                  0                0                0                0   \n",
              "3                  0                0                0                0   \n",
              "4                  0                0                0                0   \n",
              "...              ...              ...              ...              ...   \n",
              "1530171            1                0                0                1   \n",
              "1530172            1                1                0                0   \n",
              "1530173            1                0                0                0   \n",
              "1530174            1                0                0                0   \n",
              "1530175            1                0                0                0   \n",
              "\n",
              "         EMPLOYER_NAME_3  EMPLOYER_NAME_4  EMPLOYER_NAME_5  EMPLOYER_NAME_6  \\\n",
              "0                      0                0                0                0   \n",
              "1                      0                0                0                0   \n",
              "2                      0                0                0                0   \n",
              "3                      0                0                0                0   \n",
              "4                      0                0                0                0   \n",
              "...                  ...              ...              ...              ...   \n",
              "1530171                1                0                1                1   \n",
              "1530172                0                0                1                0   \n",
              "1530173                0                1                0                0   \n",
              "1530174                0                0                1                0   \n",
              "1530175                0                1                0                1   \n",
              "\n",
              "         EMPLOYER_NAME_7  EMPLOYER_NAME_8  ...  WORKSITE_3  WORKSITE_4  \\\n",
              "0                      0                0  ...           0           0   \n",
              "1                      0                0  ...           0           0   \n",
              "2                      0                0  ...           0           0   \n",
              "3                      0                0  ...           0           0   \n",
              "4                      0                0  ...           0           0   \n",
              "...                  ...              ...  ...         ...         ...   \n",
              "1530171                1                0  ...           1           1   \n",
              "1530172                1                0  ...           1           1   \n",
              "1530173                0                0  ...           1           1   \n",
              "1530174                1                1  ...           0           0   \n",
              "1530175                0                1  ...           0           0   \n",
              "\n",
              "         WORKSITE_5  WORKSITE_6  WORKSITE_7  WORKSITE_8  WORKSITE_9  \\\n",
              "0                 0           0           0           0           0   \n",
              "1                 0           0           0           0           0   \n",
              "2                 0           0           0           0           0   \n",
              "3                 0           0           0           0           0   \n",
              "4                 0           0           0           0           0   \n",
              "...             ...         ...         ...         ...         ...   \n",
              "1530171           0           0           0           0           1   \n",
              "1530172           1           0           0           0           1   \n",
              "1530173           1           1           0           1           1   \n",
              "1530174           0           0           0           1           0   \n",
              "1530175           1           1           0           1           0   \n",
              "\n",
              "         WORKSITE_10  WORKSITE_11  WORKSITE_12  \n",
              "0                  0            0            1  \n",
              "1                  0            0            1  \n",
              "2                  0            1            0  \n",
              "3                  0            0            1  \n",
              "4                  0            0            1  \n",
              "...              ...          ...          ...  \n",
              "1530171            0            1            0  \n",
              "1530172            1            1            0  \n",
              "1530173            0            1            0  \n",
              "1530174            1            1            1  \n",
              "1530175            0            1            1  \n",
              "\n",
              "[1530176 rows x 61 columns]"
            ],
            "text/html": [
              "\n",
              "  <div id=\"df-58d5323b-bc46-4f3a-90aa-46ecf1ae2c8d\">\n",
              "    <div class=\"colab-df-container\">\n",
              "      <div>\n",
              "<style scoped>\n",
              "    .dataframe tbody tr th:only-of-type {\n",
              "        vertical-align: middle;\n",
              "    }\n",
              "\n",
              "    .dataframe tbody tr th {\n",
              "        vertical-align: top;\n",
              "    }\n",
              "\n",
              "    .dataframe thead th {\n",
              "        text-align: right;\n",
              "    }\n",
              "</style>\n",
              "<table border=\"1\" class=\"dataframe\">\n",
              "  <thead>\n",
              "    <tr style=\"text-align: right;\">\n",
              "      <th></th>\n",
              "      <th>CASE_STATUS</th>\n",
              "      <th>EMPLOYER_NAME_0</th>\n",
              "      <th>EMPLOYER_NAME_1</th>\n",
              "      <th>EMPLOYER_NAME_2</th>\n",
              "      <th>EMPLOYER_NAME_3</th>\n",
              "      <th>EMPLOYER_NAME_4</th>\n",
              "      <th>EMPLOYER_NAME_5</th>\n",
              "      <th>EMPLOYER_NAME_6</th>\n",
              "      <th>EMPLOYER_NAME_7</th>\n",
              "      <th>EMPLOYER_NAME_8</th>\n",
              "      <th>...</th>\n",
              "      <th>WORKSITE_3</th>\n",
              "      <th>WORKSITE_4</th>\n",
              "      <th>WORKSITE_5</th>\n",
              "      <th>WORKSITE_6</th>\n",
              "      <th>WORKSITE_7</th>\n",
              "      <th>WORKSITE_8</th>\n",
              "      <th>WORKSITE_9</th>\n",
              "      <th>WORKSITE_10</th>\n",
              "      <th>WORKSITE_11</th>\n",
              "      <th>WORKSITE_12</th>\n",
              "    </tr>\n",
              "  </thead>\n",
              "  <tbody>\n",
              "    <tr>\n",
              "      <th>0</th>\n",
              "      <td>0</td>\n",
              "      <td>0</td>\n",
              "      <td>0</td>\n",
              "      <td>0</td>\n",
              "      <td>0</td>\n",
              "      <td>0</td>\n",
              "      <td>0</td>\n",
              "      <td>0</td>\n",
              "      <td>0</td>\n",
              "      <td>0</td>\n",
              "      <td>...</td>\n",
              "      <td>0</td>\n",
              "      <td>0</td>\n",
              "      <td>0</td>\n",
              "      <td>0</td>\n",
              "      <td>0</td>\n",
              "      <td>0</td>\n",
              "      <td>0</td>\n",
              "      <td>0</td>\n",
              "      <td>0</td>\n",
              "      <td>1</td>\n",
              "    </tr>\n",
              "    <tr>\n",
              "      <th>1</th>\n",
              "      <td>0</td>\n",
              "      <td>0</td>\n",
              "      <td>0</td>\n",
              "      <td>0</td>\n",
              "      <td>0</td>\n",
              "      <td>0</td>\n",
              "      <td>0</td>\n",
              "      <td>0</td>\n",
              "      <td>0</td>\n",
              "      <td>0</td>\n",
              "      <td>...</td>\n",
              "      <td>0</td>\n",
              "      <td>0</td>\n",
              "      <td>0</td>\n",
              "      <td>0</td>\n",
              "      <td>0</td>\n",
              "      <td>0</td>\n",
              "      <td>0</td>\n",
              "      <td>0</td>\n",
              "      <td>0</td>\n",
              "      <td>1</td>\n",
              "    </tr>\n",
              "    <tr>\n",
              "      <th>2</th>\n",
              "      <td>0</td>\n",
              "      <td>0</td>\n",
              "      <td>0</td>\n",
              "      <td>0</td>\n",
              "      <td>0</td>\n",
              "      <td>0</td>\n",
              "      <td>0</td>\n",
              "      <td>0</td>\n",
              "      <td>0</td>\n",
              "      <td>0</td>\n",
              "      <td>...</td>\n",
              "      <td>0</td>\n",
              "      <td>0</td>\n",
              "      <td>0</td>\n",
              "      <td>0</td>\n",
              "      <td>0</td>\n",
              "      <td>0</td>\n",
              "      <td>0</td>\n",
              "      <td>0</td>\n",
              "      <td>1</td>\n",
              "      <td>0</td>\n",
              "    </tr>\n",
              "    <tr>\n",
              "      <th>3</th>\n",
              "      <td>0</td>\n",
              "      <td>0</td>\n",
              "      <td>0</td>\n",
              "      <td>0</td>\n",
              "      <td>0</td>\n",
              "      <td>0</td>\n",
              "      <td>0</td>\n",
              "      <td>0</td>\n",
              "      <td>0</td>\n",
              "      <td>0</td>\n",
              "      <td>...</td>\n",
              "      <td>0</td>\n",
              "      <td>0</td>\n",
              "      <td>0</td>\n",
              "      <td>0</td>\n",
              "      <td>0</td>\n",
              "      <td>0</td>\n",
              "      <td>0</td>\n",
              "      <td>0</td>\n",
              "      <td>0</td>\n",
              "      <td>1</td>\n",
              "    </tr>\n",
              "    <tr>\n",
              "      <th>4</th>\n",
              "      <td>0</td>\n",
              "      <td>0</td>\n",
              "      <td>0</td>\n",
              "      <td>0</td>\n",
              "      <td>0</td>\n",
              "      <td>0</td>\n",
              "      <td>0</td>\n",
              "      <td>0</td>\n",
              "      <td>0</td>\n",
              "      <td>0</td>\n",
              "      <td>...</td>\n",
              "      <td>0</td>\n",
              "      <td>0</td>\n",
              "      <td>0</td>\n",
              "      <td>0</td>\n",
              "      <td>0</td>\n",
              "      <td>0</td>\n",
              "      <td>0</td>\n",
              "      <td>0</td>\n",
              "      <td>0</td>\n",
              "      <td>1</td>\n",
              "    </tr>\n",
              "    <tr>\n",
              "      <th>...</th>\n",
              "      <td>...</td>\n",
              "      <td>...</td>\n",
              "      <td>...</td>\n",
              "      <td>...</td>\n",
              "      <td>...</td>\n",
              "      <td>...</td>\n",
              "      <td>...</td>\n",
              "      <td>...</td>\n",
              "      <td>...</td>\n",
              "      <td>...</td>\n",
              "      <td>...</td>\n",
              "      <td>...</td>\n",
              "      <td>...</td>\n",
              "      <td>...</td>\n",
              "      <td>...</td>\n",
              "      <td>...</td>\n",
              "      <td>...</td>\n",
              "      <td>...</td>\n",
              "      <td>...</td>\n",
              "      <td>...</td>\n",
              "      <td>...</td>\n",
              "    </tr>\n",
              "    <tr>\n",
              "      <th>1530171</th>\n",
              "      <td>1</td>\n",
              "      <td>0</td>\n",
              "      <td>0</td>\n",
              "      <td>1</td>\n",
              "      <td>1</td>\n",
              "      <td>0</td>\n",
              "      <td>1</td>\n",
              "      <td>1</td>\n",
              "      <td>1</td>\n",
              "      <td>0</td>\n",
              "      <td>...</td>\n",
              "      <td>1</td>\n",
              "      <td>1</td>\n",
              "      <td>0</td>\n",
              "      <td>0</td>\n",
              "      <td>0</td>\n",
              "      <td>0</td>\n",
              "      <td>1</td>\n",
              "      <td>0</td>\n",
              "      <td>1</td>\n",
              "      <td>0</td>\n",
              "    </tr>\n",
              "    <tr>\n",
              "      <th>1530172</th>\n",
              "      <td>1</td>\n",
              "      <td>1</td>\n",
              "      <td>0</td>\n",
              "      <td>0</td>\n",
              "      <td>0</td>\n",
              "      <td>0</td>\n",
              "      <td>1</td>\n",
              "      <td>0</td>\n",
              "      <td>1</td>\n",
              "      <td>0</td>\n",
              "      <td>...</td>\n",
              "      <td>1</td>\n",
              "      <td>1</td>\n",
              "      <td>1</td>\n",
              "      <td>0</td>\n",
              "      <td>0</td>\n",
              "      <td>0</td>\n",
              "      <td>1</td>\n",
              "      <td>1</td>\n",
              "      <td>1</td>\n",
              "      <td>0</td>\n",
              "    </tr>\n",
              "    <tr>\n",
              "      <th>1530173</th>\n",
              "      <td>1</td>\n",
              "      <td>0</td>\n",
              "      <td>0</td>\n",
              "      <td>0</td>\n",
              "      <td>0</td>\n",
              "      <td>1</td>\n",
              "      <td>0</td>\n",
              "      <td>0</td>\n",
              "      <td>0</td>\n",
              "      <td>0</td>\n",
              "      <td>...</td>\n",
              "      <td>1</td>\n",
              "      <td>1</td>\n",
              "      <td>1</td>\n",
              "      <td>1</td>\n",
              "      <td>0</td>\n",
              "      <td>1</td>\n",
              "      <td>1</td>\n",
              "      <td>0</td>\n",
              "      <td>1</td>\n",
              "      <td>0</td>\n",
              "    </tr>\n",
              "    <tr>\n",
              "      <th>1530174</th>\n",
              "      <td>1</td>\n",
              "      <td>0</td>\n",
              "      <td>0</td>\n",
              "      <td>0</td>\n",
              "      <td>0</td>\n",
              "      <td>0</td>\n",
              "      <td>1</td>\n",
              "      <td>0</td>\n",
              "      <td>1</td>\n",
              "      <td>1</td>\n",
              "      <td>...</td>\n",
              "      <td>0</td>\n",
              "      <td>0</td>\n",
              "      <td>0</td>\n",
              "      <td>0</td>\n",
              "      <td>0</td>\n",
              "      <td>1</td>\n",
              "      <td>0</td>\n",
              "      <td>1</td>\n",
              "      <td>1</td>\n",
              "      <td>1</td>\n",
              "    </tr>\n",
              "    <tr>\n",
              "      <th>1530175</th>\n",
              "      <td>1</td>\n",
              "      <td>0</td>\n",
              "      <td>0</td>\n",
              "      <td>0</td>\n",
              "      <td>0</td>\n",
              "      <td>1</td>\n",
              "      <td>0</td>\n",
              "      <td>1</td>\n",
              "      <td>0</td>\n",
              "      <td>1</td>\n",
              "      <td>...</td>\n",
              "      <td>0</td>\n",
              "      <td>0</td>\n",
              "      <td>1</td>\n",
              "      <td>1</td>\n",
              "      <td>0</td>\n",
              "      <td>1</td>\n",
              "      <td>0</td>\n",
              "      <td>0</td>\n",
              "      <td>1</td>\n",
              "      <td>1</td>\n",
              "    </tr>\n",
              "  </tbody>\n",
              "</table>\n",
              "<p>1530176 rows × 61 columns</p>\n",
              "</div>\n",
              "      <button class=\"colab-df-convert\" onclick=\"convertToInteractive('df-58d5323b-bc46-4f3a-90aa-46ecf1ae2c8d')\"\n",
              "              title=\"Convert this dataframe to an interactive table.\"\n",
              "              style=\"display:none;\">\n",
              "        \n",
              "  <svg xmlns=\"http://www.w3.org/2000/svg\" height=\"24px\"viewBox=\"0 0 24 24\"\n",
              "       width=\"24px\">\n",
              "    <path d=\"M0 0h24v24H0V0z\" fill=\"none\"/>\n",
              "    <path d=\"M18.56 5.44l.94 2.06.94-2.06 2.06-.94-2.06-.94-.94-2.06-.94 2.06-2.06.94zm-11 1L8.5 8.5l.94-2.06 2.06-.94-2.06-.94L8.5 2.5l-.94 2.06-2.06.94zm10 10l.94 2.06.94-2.06 2.06-.94-2.06-.94-.94-2.06-.94 2.06-2.06.94z\"/><path d=\"M17.41 7.96l-1.37-1.37c-.4-.4-.92-.59-1.43-.59-.52 0-1.04.2-1.43.59L10.3 9.45l-7.72 7.72c-.78.78-.78 2.05 0 2.83L4 21.41c.39.39.9.59 1.41.59.51 0 1.02-.2 1.41-.59l7.78-7.78 2.81-2.81c.8-.78.8-2.07 0-2.86zM5.41 20L4 18.59l7.72-7.72 1.47 1.35L5.41 20z\"/>\n",
              "  </svg>\n",
              "      </button>\n",
              "      \n",
              "  <style>\n",
              "    .colab-df-container {\n",
              "      display:flex;\n",
              "      flex-wrap:wrap;\n",
              "      gap: 12px;\n",
              "    }\n",
              "\n",
              "    .colab-df-convert {\n",
              "      background-color: #E8F0FE;\n",
              "      border: none;\n",
              "      border-radius: 50%;\n",
              "      cursor: pointer;\n",
              "      display: none;\n",
              "      fill: #1967D2;\n",
              "      height: 32px;\n",
              "      padding: 0 0 0 0;\n",
              "      width: 32px;\n",
              "    }\n",
              "\n",
              "    .colab-df-convert:hover {\n",
              "      background-color: #E2EBFA;\n",
              "      box-shadow: 0px 1px 2px rgba(60, 64, 67, 0.3), 0px 1px 3px 1px rgba(60, 64, 67, 0.15);\n",
              "      fill: #174EA6;\n",
              "    }\n",
              "\n",
              "    [theme=dark] .colab-df-convert {\n",
              "      background-color: #3B4455;\n",
              "      fill: #D2E3FC;\n",
              "    }\n",
              "\n",
              "    [theme=dark] .colab-df-convert:hover {\n",
              "      background-color: #434B5C;\n",
              "      box-shadow: 0px 1px 3px 1px rgba(0, 0, 0, 0.15);\n",
              "      filter: drop-shadow(0px 1px 2px rgba(0, 0, 0, 0.3));\n",
              "      fill: #FFFFFF;\n",
              "    }\n",
              "  </style>\n",
              "\n",
              "      <script>\n",
              "        const buttonEl =\n",
              "          document.querySelector('#df-58d5323b-bc46-4f3a-90aa-46ecf1ae2c8d button.colab-df-convert');\n",
              "        buttonEl.style.display =\n",
              "          google.colab.kernel.accessAllowed ? 'block' : 'none';\n",
              "\n",
              "        async function convertToInteractive(key) {\n",
              "          const element = document.querySelector('#df-58d5323b-bc46-4f3a-90aa-46ecf1ae2c8d');\n",
              "          const dataTable =\n",
              "            await google.colab.kernel.invokeFunction('convertToInteractive',\n",
              "                                                     [key], {});\n",
              "          if (!dataTable) return;\n",
              "\n",
              "          const docLinkHtml = 'Like what you see? Visit the ' +\n",
              "            '<a target=\"_blank\" href=https://colab.research.google.com/notebooks/data_table.ipynb>data table notebook</a>'\n",
              "            + ' to learn more about interactive tables.';\n",
              "          element.innerHTML = '';\n",
              "          dataTable['output_type'] = 'display_data';\n",
              "          await google.colab.output.renderOutput(dataTable, element);\n",
              "          const docLink = document.createElement('div');\n",
              "          docLink.innerHTML = docLinkHtml;\n",
              "          element.appendChild(docLink);\n",
              "        }\n",
              "      </script>\n",
              "    </div>\n",
              "  </div>\n",
              "  "
            ]
          },
          "metadata": {},
          "execution_count": 46
        }
      ],
      "source": [
        "#nnndf.drop('EMPLOYER_NAME',inplace=True,axis=1)\n",
        "#nnndf.drop('SOC_CODE',inplace=True,axis=1)\n",
        "#nnndf.drop('WORKSITE',inplace=True,axis=1)\n",
        "#nnndf.drop('JOB_TITLE',inplace=True,axis=1)\n",
        "#print(nndf.FULL_TIME_POSITION)\n",
        "nndf"
      ]
    },
    {
      "cell_type": "code",
      "execution_count": null,
      "metadata": {
        "id": "SxP-rrYENNcl"
      },
      "outputs": [],
      "source": [
        "\n",
        "minmax_scaler = MinMaxScaler()\n",
        "#nndf['PREVAILING_WAGE']= minmax_scaler.fit_transform(nndf['PREVAILING_WAGE'])\n",
        "nndf['PREVAILING_WAGE']= minmax_scaler.fit_transform(nndf[['PREVAILING_WAGE']])\n",
        "##nnndf[['PREVAILING_WAGE']]= minmax_scaler.fit_transform(nnndf[['PREVAILING_WAGE']])\n"
      ]
    },
    {
      "cell_type": "code",
      "execution_count": null,
      "metadata": {
        "colab": {
          "base_uri": "https://localhost:8080/",
          "height": 487
        },
        "id": "FsGgIdxJzOEq",
        "outputId": "c0a4e543-74ec-4dd0-e578-ee20c5ea00ef"
      },
      "outputs": [
        {
          "output_type": "execute_result",
          "data": {
            "text/plain": [
              "         CASE_STATUS  EMPLOYER_NAME_0  EMPLOYER_NAME_1  EMPLOYER_NAME_2  \\\n",
              "0                  0                0                0                0   \n",
              "1                  0                0                0                0   \n",
              "2                  0                0                0                0   \n",
              "3                  0                0                0                0   \n",
              "4                  0                0                0                0   \n",
              "...              ...              ...              ...              ...   \n",
              "1530171            1                0                0                1   \n",
              "1530172            1                1                0                0   \n",
              "1530173            1                0                0                0   \n",
              "1530174            1                0                0                0   \n",
              "1530175            1                0                0                0   \n",
              "\n",
              "         EMPLOYER_NAME_3  EMPLOYER_NAME_4  EMPLOYER_NAME_5  EMPLOYER_NAME_6  \\\n",
              "0                      0                0                0                0   \n",
              "1                      0                0                0                0   \n",
              "2                      0                0                0                0   \n",
              "3                      0                0                0                0   \n",
              "4                      0                0                0                0   \n",
              "...                  ...              ...              ...              ...   \n",
              "1530171                1                0                1                1   \n",
              "1530172                0                0                1                0   \n",
              "1530173                0                1                0                0   \n",
              "1530174                0                0                1                0   \n",
              "1530175                0                1                0                1   \n",
              "\n",
              "         EMPLOYER_NAME_7  EMPLOYER_NAME_8  ...  WORKSITE_3  WORKSITE_4  \\\n",
              "0                      0                0  ...           0           0   \n",
              "1                      0                0  ...           0           0   \n",
              "2                      0                0  ...           0           0   \n",
              "3                      0                0  ...           0           0   \n",
              "4                      0                0  ...           0           0   \n",
              "...                  ...              ...  ...         ...         ...   \n",
              "1530171                1                0  ...           1           1   \n",
              "1530172                1                0  ...           1           1   \n",
              "1530173                0                0  ...           1           1   \n",
              "1530174                1                1  ...           0           0   \n",
              "1530175                0                1  ...           0           0   \n",
              "\n",
              "         WORKSITE_5  WORKSITE_6  WORKSITE_7  WORKSITE_8  WORKSITE_9  \\\n",
              "0                 0           0           0           0           0   \n",
              "1                 0           0           0           0           0   \n",
              "2                 0           0           0           0           0   \n",
              "3                 0           0           0           0           0   \n",
              "4                 0           0           0           0           0   \n",
              "...             ...         ...         ...         ...         ...   \n",
              "1530171           0           0           0           0           1   \n",
              "1530172           1           0           0           0           1   \n",
              "1530173           1           1           0           1           1   \n",
              "1530174           0           0           0           1           0   \n",
              "1530175           1           1           0           1           0   \n",
              "\n",
              "         WORKSITE_10  WORKSITE_11  WORKSITE_12  \n",
              "0                  0            0            1  \n",
              "1                  0            0            1  \n",
              "2                  0            1            0  \n",
              "3                  0            0            1  \n",
              "4                  0            0            1  \n",
              "...              ...          ...          ...  \n",
              "1530171            0            1            0  \n",
              "1530172            1            1            0  \n",
              "1530173            0            1            0  \n",
              "1530174            1            1            1  \n",
              "1530175            0            1            1  \n",
              "\n",
              "[1530176 rows x 61 columns]"
            ],
            "text/html": [
              "\n",
              "  <div id=\"df-23b35b89-0763-4039-8da8-a9bbb04a7cab\">\n",
              "    <div class=\"colab-df-container\">\n",
              "      <div>\n",
              "<style scoped>\n",
              "    .dataframe tbody tr th:only-of-type {\n",
              "        vertical-align: middle;\n",
              "    }\n",
              "\n",
              "    .dataframe tbody tr th {\n",
              "        vertical-align: top;\n",
              "    }\n",
              "\n",
              "    .dataframe thead th {\n",
              "        text-align: right;\n",
              "    }\n",
              "</style>\n",
              "<table border=\"1\" class=\"dataframe\">\n",
              "  <thead>\n",
              "    <tr style=\"text-align: right;\">\n",
              "      <th></th>\n",
              "      <th>CASE_STATUS</th>\n",
              "      <th>EMPLOYER_NAME_0</th>\n",
              "      <th>EMPLOYER_NAME_1</th>\n",
              "      <th>EMPLOYER_NAME_2</th>\n",
              "      <th>EMPLOYER_NAME_3</th>\n",
              "      <th>EMPLOYER_NAME_4</th>\n",
              "      <th>EMPLOYER_NAME_5</th>\n",
              "      <th>EMPLOYER_NAME_6</th>\n",
              "      <th>EMPLOYER_NAME_7</th>\n",
              "      <th>EMPLOYER_NAME_8</th>\n",
              "      <th>...</th>\n",
              "      <th>WORKSITE_3</th>\n",
              "      <th>WORKSITE_4</th>\n",
              "      <th>WORKSITE_5</th>\n",
              "      <th>WORKSITE_6</th>\n",
              "      <th>WORKSITE_7</th>\n",
              "      <th>WORKSITE_8</th>\n",
              "      <th>WORKSITE_9</th>\n",
              "      <th>WORKSITE_10</th>\n",
              "      <th>WORKSITE_11</th>\n",
              "      <th>WORKSITE_12</th>\n",
              "    </tr>\n",
              "  </thead>\n",
              "  <tbody>\n",
              "    <tr>\n",
              "      <th>0</th>\n",
              "      <td>0</td>\n",
              "      <td>0</td>\n",
              "      <td>0</td>\n",
              "      <td>0</td>\n",
              "      <td>0</td>\n",
              "      <td>0</td>\n",
              "      <td>0</td>\n",
              "      <td>0</td>\n",
              "      <td>0</td>\n",
              "      <td>0</td>\n",
              "      <td>...</td>\n",
              "      <td>0</td>\n",
              "      <td>0</td>\n",
              "      <td>0</td>\n",
              "      <td>0</td>\n",
              "      <td>0</td>\n",
              "      <td>0</td>\n",
              "      <td>0</td>\n",
              "      <td>0</td>\n",
              "      <td>0</td>\n",
              "      <td>1</td>\n",
              "    </tr>\n",
              "    <tr>\n",
              "      <th>1</th>\n",
              "      <td>0</td>\n",
              "      <td>0</td>\n",
              "      <td>0</td>\n",
              "      <td>0</td>\n",
              "      <td>0</td>\n",
              "      <td>0</td>\n",
              "      <td>0</td>\n",
              "      <td>0</td>\n",
              "      <td>0</td>\n",
              "      <td>0</td>\n",
              "      <td>...</td>\n",
              "      <td>0</td>\n",
              "      <td>0</td>\n",
              "      <td>0</td>\n",
              "      <td>0</td>\n",
              "      <td>0</td>\n",
              "      <td>0</td>\n",
              "      <td>0</td>\n",
              "      <td>0</td>\n",
              "      <td>0</td>\n",
              "      <td>1</td>\n",
              "    </tr>\n",
              "    <tr>\n",
              "      <th>2</th>\n",
              "      <td>0</td>\n",
              "      <td>0</td>\n",
              "      <td>0</td>\n",
              "      <td>0</td>\n",
              "      <td>0</td>\n",
              "      <td>0</td>\n",
              "      <td>0</td>\n",
              "      <td>0</td>\n",
              "      <td>0</td>\n",
              "      <td>0</td>\n",
              "      <td>...</td>\n",
              "      <td>0</td>\n",
              "      <td>0</td>\n",
              "      <td>0</td>\n",
              "      <td>0</td>\n",
              "      <td>0</td>\n",
              "      <td>0</td>\n",
              "      <td>0</td>\n",
              "      <td>0</td>\n",
              "      <td>1</td>\n",
              "      <td>0</td>\n",
              "    </tr>\n",
              "    <tr>\n",
              "      <th>3</th>\n",
              "      <td>0</td>\n",
              "      <td>0</td>\n",
              "      <td>0</td>\n",
              "      <td>0</td>\n",
              "      <td>0</td>\n",
              "      <td>0</td>\n",
              "      <td>0</td>\n",
              "      <td>0</td>\n",
              "      <td>0</td>\n",
              "      <td>0</td>\n",
              "      <td>...</td>\n",
              "      <td>0</td>\n",
              "      <td>0</td>\n",
              "      <td>0</td>\n",
              "      <td>0</td>\n",
              "      <td>0</td>\n",
              "      <td>0</td>\n",
              "      <td>0</td>\n",
              "      <td>0</td>\n",
              "      <td>0</td>\n",
              "      <td>1</td>\n",
              "    </tr>\n",
              "    <tr>\n",
              "      <th>4</th>\n",
              "      <td>0</td>\n",
              "      <td>0</td>\n",
              "      <td>0</td>\n",
              "      <td>0</td>\n",
              "      <td>0</td>\n",
              "      <td>0</td>\n",
              "      <td>0</td>\n",
              "      <td>0</td>\n",
              "      <td>0</td>\n",
              "      <td>0</td>\n",
              "      <td>...</td>\n",
              "      <td>0</td>\n",
              "      <td>0</td>\n",
              "      <td>0</td>\n",
              "      <td>0</td>\n",
              "      <td>0</td>\n",
              "      <td>0</td>\n",
              "      <td>0</td>\n",
              "      <td>0</td>\n",
              "      <td>0</td>\n",
              "      <td>1</td>\n",
              "    </tr>\n",
              "    <tr>\n",
              "      <th>...</th>\n",
              "      <td>...</td>\n",
              "      <td>...</td>\n",
              "      <td>...</td>\n",
              "      <td>...</td>\n",
              "      <td>...</td>\n",
              "      <td>...</td>\n",
              "      <td>...</td>\n",
              "      <td>...</td>\n",
              "      <td>...</td>\n",
              "      <td>...</td>\n",
              "      <td>...</td>\n",
              "      <td>...</td>\n",
              "      <td>...</td>\n",
              "      <td>...</td>\n",
              "      <td>...</td>\n",
              "      <td>...</td>\n",
              "      <td>...</td>\n",
              "      <td>...</td>\n",
              "      <td>...</td>\n",
              "      <td>...</td>\n",
              "      <td>...</td>\n",
              "    </tr>\n",
              "    <tr>\n",
              "      <th>1530171</th>\n",
              "      <td>1</td>\n",
              "      <td>0</td>\n",
              "      <td>0</td>\n",
              "      <td>1</td>\n",
              "      <td>1</td>\n",
              "      <td>0</td>\n",
              "      <td>1</td>\n",
              "      <td>1</td>\n",
              "      <td>1</td>\n",
              "      <td>0</td>\n",
              "      <td>...</td>\n",
              "      <td>1</td>\n",
              "      <td>1</td>\n",
              "      <td>0</td>\n",
              "      <td>0</td>\n",
              "      <td>0</td>\n",
              "      <td>0</td>\n",
              "      <td>1</td>\n",
              "      <td>0</td>\n",
              "      <td>1</td>\n",
              "      <td>0</td>\n",
              "    </tr>\n",
              "    <tr>\n",
              "      <th>1530172</th>\n",
              "      <td>1</td>\n",
              "      <td>1</td>\n",
              "      <td>0</td>\n",
              "      <td>0</td>\n",
              "      <td>0</td>\n",
              "      <td>0</td>\n",
              "      <td>1</td>\n",
              "      <td>0</td>\n",
              "      <td>1</td>\n",
              "      <td>0</td>\n",
              "      <td>...</td>\n",
              "      <td>1</td>\n",
              "      <td>1</td>\n",
              "      <td>1</td>\n",
              "      <td>0</td>\n",
              "      <td>0</td>\n",
              "      <td>0</td>\n",
              "      <td>1</td>\n",
              "      <td>1</td>\n",
              "      <td>1</td>\n",
              "      <td>0</td>\n",
              "    </tr>\n",
              "    <tr>\n",
              "      <th>1530173</th>\n",
              "      <td>1</td>\n",
              "      <td>0</td>\n",
              "      <td>0</td>\n",
              "      <td>0</td>\n",
              "      <td>0</td>\n",
              "      <td>1</td>\n",
              "      <td>0</td>\n",
              "      <td>0</td>\n",
              "      <td>0</td>\n",
              "      <td>0</td>\n",
              "      <td>...</td>\n",
              "      <td>1</td>\n",
              "      <td>1</td>\n",
              "      <td>1</td>\n",
              "      <td>1</td>\n",
              "      <td>0</td>\n",
              "      <td>1</td>\n",
              "      <td>1</td>\n",
              "      <td>0</td>\n",
              "      <td>1</td>\n",
              "      <td>0</td>\n",
              "    </tr>\n",
              "    <tr>\n",
              "      <th>1530174</th>\n",
              "      <td>1</td>\n",
              "      <td>0</td>\n",
              "      <td>0</td>\n",
              "      <td>0</td>\n",
              "      <td>0</td>\n",
              "      <td>0</td>\n",
              "      <td>1</td>\n",
              "      <td>0</td>\n",
              "      <td>1</td>\n",
              "      <td>1</td>\n",
              "      <td>...</td>\n",
              "      <td>0</td>\n",
              "      <td>0</td>\n",
              "      <td>0</td>\n",
              "      <td>0</td>\n",
              "      <td>0</td>\n",
              "      <td>1</td>\n",
              "      <td>0</td>\n",
              "      <td>1</td>\n",
              "      <td>1</td>\n",
              "      <td>1</td>\n",
              "    </tr>\n",
              "    <tr>\n",
              "      <th>1530175</th>\n",
              "      <td>1</td>\n",
              "      <td>0</td>\n",
              "      <td>0</td>\n",
              "      <td>0</td>\n",
              "      <td>0</td>\n",
              "      <td>1</td>\n",
              "      <td>0</td>\n",
              "      <td>1</td>\n",
              "      <td>0</td>\n",
              "      <td>1</td>\n",
              "      <td>...</td>\n",
              "      <td>0</td>\n",
              "      <td>0</td>\n",
              "      <td>1</td>\n",
              "      <td>1</td>\n",
              "      <td>0</td>\n",
              "      <td>1</td>\n",
              "      <td>0</td>\n",
              "      <td>0</td>\n",
              "      <td>1</td>\n",
              "      <td>1</td>\n",
              "    </tr>\n",
              "  </tbody>\n",
              "</table>\n",
              "<p>1530176 rows × 61 columns</p>\n",
              "</div>\n",
              "      <button class=\"colab-df-convert\" onclick=\"convertToInteractive('df-23b35b89-0763-4039-8da8-a9bbb04a7cab')\"\n",
              "              title=\"Convert this dataframe to an interactive table.\"\n",
              "              style=\"display:none;\">\n",
              "        \n",
              "  <svg xmlns=\"http://www.w3.org/2000/svg\" height=\"24px\"viewBox=\"0 0 24 24\"\n",
              "       width=\"24px\">\n",
              "    <path d=\"M0 0h24v24H0V0z\" fill=\"none\"/>\n",
              "    <path d=\"M18.56 5.44l.94 2.06.94-2.06 2.06-.94-2.06-.94-.94-2.06-.94 2.06-2.06.94zm-11 1L8.5 8.5l.94-2.06 2.06-.94-2.06-.94L8.5 2.5l-.94 2.06-2.06.94zm10 10l.94 2.06.94-2.06 2.06-.94-2.06-.94-.94-2.06-.94 2.06-2.06.94z\"/><path d=\"M17.41 7.96l-1.37-1.37c-.4-.4-.92-.59-1.43-.59-.52 0-1.04.2-1.43.59L10.3 9.45l-7.72 7.72c-.78.78-.78 2.05 0 2.83L4 21.41c.39.39.9.59 1.41.59.51 0 1.02-.2 1.41-.59l7.78-7.78 2.81-2.81c.8-.78.8-2.07 0-2.86zM5.41 20L4 18.59l7.72-7.72 1.47 1.35L5.41 20z\"/>\n",
              "  </svg>\n",
              "      </button>\n",
              "      \n",
              "  <style>\n",
              "    .colab-df-container {\n",
              "      display:flex;\n",
              "      flex-wrap:wrap;\n",
              "      gap: 12px;\n",
              "    }\n",
              "\n",
              "    .colab-df-convert {\n",
              "      background-color: #E8F0FE;\n",
              "      border: none;\n",
              "      border-radius: 50%;\n",
              "      cursor: pointer;\n",
              "      display: none;\n",
              "      fill: #1967D2;\n",
              "      height: 32px;\n",
              "      padding: 0 0 0 0;\n",
              "      width: 32px;\n",
              "    }\n",
              "\n",
              "    .colab-df-convert:hover {\n",
              "      background-color: #E2EBFA;\n",
              "      box-shadow: 0px 1px 2px rgba(60, 64, 67, 0.3), 0px 1px 3px 1px rgba(60, 64, 67, 0.15);\n",
              "      fill: #174EA6;\n",
              "    }\n",
              "\n",
              "    [theme=dark] .colab-df-convert {\n",
              "      background-color: #3B4455;\n",
              "      fill: #D2E3FC;\n",
              "    }\n",
              "\n",
              "    [theme=dark] .colab-df-convert:hover {\n",
              "      background-color: #434B5C;\n",
              "      box-shadow: 0px 1px 3px 1px rgba(0, 0, 0, 0.15);\n",
              "      filter: drop-shadow(0px 1px 2px rgba(0, 0, 0, 0.3));\n",
              "      fill: #FFFFFF;\n",
              "    }\n",
              "  </style>\n",
              "\n",
              "      <script>\n",
              "        const buttonEl =\n",
              "          document.querySelector('#df-23b35b89-0763-4039-8da8-a9bbb04a7cab button.colab-df-convert');\n",
              "        buttonEl.style.display =\n",
              "          google.colab.kernel.accessAllowed ? 'block' : 'none';\n",
              "\n",
              "        async function convertToInteractive(key) {\n",
              "          const element = document.querySelector('#df-23b35b89-0763-4039-8da8-a9bbb04a7cab');\n",
              "          const dataTable =\n",
              "            await google.colab.kernel.invokeFunction('convertToInteractive',\n",
              "                                                     [key], {});\n",
              "          if (!dataTable) return;\n",
              "\n",
              "          const docLinkHtml = 'Like what you see? Visit the ' +\n",
              "            '<a target=\"_blank\" href=https://colab.research.google.com/notebooks/data_table.ipynb>data table notebook</a>'\n",
              "            + ' to learn more about interactive tables.';\n",
              "          element.innerHTML = '';\n",
              "          dataTable['output_type'] = 'display_data';\n",
              "          await google.colab.output.renderOutput(dataTable, element);\n",
              "          const docLink = document.createElement('div');\n",
              "          docLink.innerHTML = docLinkHtml;\n",
              "          element.appendChild(docLink);\n",
              "        }\n",
              "      </script>\n",
              "    </div>\n",
              "  </div>\n",
              "  "
            ]
          },
          "metadata": {},
          "execution_count": 48
        }
      ],
      "source": [
        "\n",
        "nndf"
      ]
    },
    {
      "cell_type": "code",
      "execution_count": null,
      "metadata": {
        "id": "_5fA7M2RNNcm"
      },
      "outputs": [],
      "source": [
        "\n",
        "Y=pd.DataFrame(nndf['CASE_STATUS'])"
      ]
    },
    {
      "cell_type": "code",
      "execution_count": null,
      "metadata": {
        "colab": {
          "base_uri": "https://localhost:8080/"
        },
        "id": "R9rLnly_14Ty",
        "outputId": "c2a05422-5d7d-4fa9-c7a9-41b0c8526f39"
      },
      "outputs": [
        {
          "output_type": "stream",
          "name": "stdout",
          "text": [
            "         CASE_STATUS\n",
            "0                  0\n",
            "1                  0\n",
            "2                  0\n",
            "3                  0\n",
            "4                  0\n",
            "...              ...\n",
            "1530171            1\n",
            "1530172            1\n",
            "1530173            1\n",
            "1530174            1\n",
            "1530175            1\n",
            "\n",
            "[1530176 rows x 1 columns]\n"
          ]
        }
      ],
      "source": [
        "print(Y)"
      ]
    },
    {
      "cell_type": "code",
      "execution_count": null,
      "metadata": {
        "id": "LD8QfSI73KjJ"
      },
      "outputs": [],
      "source": [
        "nndf.drop('CASE_STATUS',inplace=True,axis=1)"
      ]
    },
    {
      "cell_type": "code",
      "execution_count": null,
      "metadata": {
        "id": "SsP0JuLTNNcm"
      },
      "outputs": [],
      "source": [
        "from sklearn.model_selection import train_test_split\n",
        "nndf_train,nndf_test,Y_train,Y_test=train_test_split(nndf,Y,test_size=0.2)\n"
      ]
    },
    {
      "cell_type": "code",
      "execution_count": null,
      "metadata": {
        "colab": {
          "base_uri": "https://localhost:8080/",
          "height": 91
        },
        "id": "dGWcYCQ7NNcn",
        "outputId": "9484cade-b4eb-41ff-8b10-a4b3d7ff8160"
      },
      "outputs": [
        {
          "output_type": "execute_result",
          "data": {
            "text/plain": [
              "\"\\nimport tensorflow as tf\\n# Initializing the ANN\\nann = tf.keras.models.Sequential()\\n# Add the input layer and first hidden layer\\n#ann.add(tf.keras.layers.Dense(units=2048, activation='relu'))\\nann.add(tf.keras.layers.Dense(units=1024, activation='relu'))\\nann.add(tf.keras.layers.Dense(units=512, activation='relu'))\\n# Add the second hidden layer\\nann.add(tf.keras.layers.Dense(units=128, activation='relu'))\\n\\nann.add(tf.keras.layers.Dense(units=64, activation='relu'))\\n\\nann.add(tf.keras.layers.Dense(units=32, activation='relu'))\\n# Add the output layer\\nann.add(tf.keras.layers.Dense(units=1, activation='sigmoid'))\""
            ],
            "application/vnd.google.colaboratory.intrinsic+json": {
              "type": "string"
            }
          },
          "metadata": {},
          "execution_count": 53
        }
      ],
      "source": [
        "\"\"\"\n",
        "import tensorflow as tf\n",
        "# Initializing the ANN\n",
        "ann = tf.keras.models.Sequential()\n",
        "# Add the input layer and first hidden layer\n",
        "#ann.add(tf.keras.layers.Dense(units=2048, activation='relu'))\n",
        "ann.add(tf.keras.layers.Dense(units=1024, activation='relu'))\n",
        "ann.add(tf.keras.layers.Dense(units=512, activation='relu'))\n",
        "# Add the second hidden layer\n",
        "ann.add(tf.keras.layers.Dense(units=128, activation='relu'))\n",
        "\n",
        "ann.add(tf.keras.layers.Dense(units=64, activation='relu'))\n",
        "\n",
        "ann.add(tf.keras.layers.Dense(units=32, activation='relu'))\n",
        "# Add the output layer\n",
        "ann.add(tf.keras.layers.Dense(units=1, activation='sigmoid'))\"\"\""
      ]
    },
    {
      "cell_type": "code",
      "execution_count": null,
      "metadata": {
        "colab": {
          "base_uri": "https://localhost:8080/"
        },
        "id": "j_XjfTLicr8n",
        "outputId": "a267ca55-dd01-4ddd-9e80-d33999b6f8cc"
      },
      "outputs": [
        {
          "output_type": "stream",
          "name": "stdout",
          "text": [
            "Epoch 1/100\n",
            "2721/2721 [==============================] - 24s 6ms/step - loss: 0.1889 - accuracy: 0.9230 - recall: 0.8999 - f1_score: 0.9205 - precision: 0.9437 - val_loss: 0.1346 - val_accuracy: 0.9511 - val_recall: 0.9262 - val_f1_score: 0.9500 - val_precision: 0.9752\n",
            "Epoch 2/100\n",
            "2721/2721 [==============================] - 17s 6ms/step - loss: 0.1147 - accuracy: 0.9600 - recall: 0.9447 - f1_score: 0.9592 - precision: 0.9744 - val_loss: 0.1056 - val_accuracy: 0.9636 - val_recall: 0.9510 - val_f1_score: 0.9632 - val_precision: 0.9759\n",
            "Epoch 3/100\n",
            "2721/2721 [==============================] - 16s 6ms/step - loss: 0.0969 - accuracy: 0.9671 - recall: 0.9541 - f1_score: 0.9666 - precision: 0.9796 - val_loss: 0.0978 - val_accuracy: 0.9668 - val_recall: 0.9511 - val_f1_score: 0.9664 - val_precision: 0.9823\n",
            "Epoch 4/100\n",
            "2721/2721 [==============================] - 18s 6ms/step - loss: 0.0896 - accuracy: 0.9699 - recall: 0.9571 - f1_score: 0.9694 - precision: 0.9822 - val_loss: 0.0944 - val_accuracy: 0.9672 - val_recall: 0.9510 - val_f1_score: 0.9667 - val_precision: 0.9832\n",
            "Epoch 5/100\n",
            "2721/2721 [==============================] - 16s 6ms/step - loss: 0.0850 - accuracy: 0.9716 - recall: 0.9591 - f1_score: 0.9711 - precision: 0.9836 - val_loss: 0.0896 - val_accuracy: 0.9703 - val_recall: 0.9558 - val_f1_score: 0.9700 - val_precision: 0.9847\n",
            "Epoch 6/100\n",
            "2721/2721 [==============================] - 18s 6ms/step - loss: 0.0820 - accuracy: 0.9727 - recall: 0.9604 - f1_score: 0.9722 - precision: 0.9845 - val_loss: 0.0878 - val_accuracy: 0.9710 - val_recall: 0.9559 - val_f1_score: 0.9706 - val_precision: 0.9859\n",
            "Epoch 7/100\n",
            "2721/2721 [==============================] - 17s 6ms/step - loss: 0.0799 - accuracy: 0.9733 - recall: 0.9610 - f1_score: 0.9729 - precision: 0.9852 - val_loss: 0.0871 - val_accuracy: 0.9718 - val_recall: 0.9579 - val_f1_score: 0.9714 - val_precision: 0.9855\n",
            "Epoch 8/100\n",
            "2721/2721 [==============================] - 17s 6ms/step - loss: 0.0781 - accuracy: 0.9741 - recall: 0.9617 - f1_score: 0.9737 - precision: 0.9862 - val_loss: 0.0870 - val_accuracy: 0.9715 - val_recall: 0.9579 - val_f1_score: 0.9712 - val_precision: 0.9850\n",
            "Epoch 9/100\n",
            "2721/2721 [==============================] - 16s 6ms/step - loss: 0.0766 - accuracy: 0.9746 - recall: 0.9625 - f1_score: 0.9742 - precision: 0.9863 - val_loss: 0.0869 - val_accuracy: 0.9716 - val_recall: 0.9549 - val_f1_score: 0.9712 - val_precision: 0.9882\n",
            "Epoch 10/100\n",
            "2721/2721 [==============================] - 16s 6ms/step - loss: 0.0757 - accuracy: 0.9749 - recall: 0.9626 - f1_score: 0.9745 - precision: 0.9868 - val_loss: 0.0855 - val_accuracy: 0.9724 - val_recall: 0.9567 - val_f1_score: 0.9720 - val_precision: 0.9881\n",
            "Epoch 11/100\n",
            "2721/2721 [==============================] - 17s 6ms/step - loss: 0.0744 - accuracy: 0.9755 - recall: 0.9635 - f1_score: 0.9751 - precision: 0.9871 - val_loss: 0.0842 - val_accuracy: 0.9723 - val_recall: 0.9593 - val_f1_score: 0.9720 - val_precision: 0.9852\n",
            "Epoch 12/100\n",
            "2721/2721 [==============================] - 17s 6ms/step - loss: 0.0738 - accuracy: 0.9756 - recall: 0.9638 - f1_score: 0.9753 - precision: 0.9871 - val_loss: 0.0847 - val_accuracy: 0.9729 - val_recall: 0.9590 - val_f1_score: 0.9726 - val_precision: 0.9868\n",
            "Epoch 13/100\n",
            "2721/2721 [==============================] - 16s 6ms/step - loss: 0.0728 - accuracy: 0.9760 - recall: 0.9644 - f1_score: 0.9757 - precision: 0.9873 - val_loss: 0.0857 - val_accuracy: 0.9729 - val_recall: 0.9590 - val_f1_score: 0.9725 - val_precision: 0.9866\n",
            "Epoch 14/100\n",
            "2721/2721 [==============================] - 16s 6ms/step - loss: 0.0720 - accuracy: 0.9763 - recall: 0.9646 - f1_score: 0.9759 - precision: 0.9877 - val_loss: 0.0825 - val_accuracy: 0.9740 - val_recall: 0.9594 - val_f1_score: 0.9737 - val_precision: 0.9886\n",
            "Epoch 15/100\n",
            "2721/2721 [==============================] - 17s 6ms/step - loss: 0.0712 - accuracy: 0.9766 - recall: 0.9652 - f1_score: 0.9762 - precision: 0.9877 - val_loss: 0.0835 - val_accuracy: 0.9736 - val_recall: 0.9582 - val_f1_score: 0.9733 - val_precision: 0.9890\n",
            "Epoch 16/100\n",
            "2721/2721 [==============================] - 18s 7ms/step - loss: 0.0710 - accuracy: 0.9767 - recall: 0.9652 - f1_score: 0.9764 - precision: 0.9879 - val_loss: 0.0824 - val_accuracy: 0.9743 - val_recall: 0.9614 - val_f1_score: 0.9740 - val_precision: 0.9870\n",
            "Epoch 17/100\n",
            "2721/2721 [==============================] - 17s 6ms/step - loss: 0.0700 - accuracy: 0.9771 - recall: 0.9657 - f1_score: 0.9768 - precision: 0.9882 - val_loss: 0.0822 - val_accuracy: 0.9745 - val_recall: 0.9594 - val_f1_score: 0.9742 - val_precision: 0.9895\n",
            "Epoch 18/100\n",
            "2721/2721 [==============================] - 17s 6ms/step - loss: 0.0694 - accuracy: 0.9772 - recall: 0.9658 - f1_score: 0.9769 - precision: 0.9883 - val_loss: 0.0823 - val_accuracy: 0.9749 - val_recall: 0.9611 - val_f1_score: 0.9746 - val_precision: 0.9887\n",
            "Epoch 19/100\n",
            "2721/2721 [==============================] - 17s 6ms/step - loss: 0.0688 - accuracy: 0.9774 - recall: 0.9661 - f1_score: 0.9771 - precision: 0.9884 - val_loss: 0.0848 - val_accuracy: 0.9741 - val_recall: 0.9589 - val_f1_score: 0.9737 - val_precision: 0.9892\n",
            "Epoch 20/100\n",
            "2721/2721 [==============================] - 17s 6ms/step - loss: 0.0682 - accuracy: 0.9777 - recall: 0.9662 - f1_score: 0.9773 - precision: 0.9888 - val_loss: 0.0814 - val_accuracy: 0.9755 - val_recall: 0.9627 - val_f1_score: 0.9752 - val_precision: 0.9882\n",
            "Epoch 21/100\n",
            "2721/2721 [==============================] - 16s 6ms/step - loss: 0.0677 - accuracy: 0.9778 - recall: 0.9669 - f1_score: 0.9775 - precision: 0.9885 - val_loss: 0.0852 - val_accuracy: 0.9750 - val_recall: 0.9604 - val_f1_score: 0.9747 - val_precision: 0.9895\n",
            "Epoch 22/100\n",
            "2721/2721 [==============================] - 16s 6ms/step - loss: 0.0674 - accuracy: 0.9780 - recall: 0.9669 - f1_score: 0.9777 - precision: 0.9889 - val_loss: 0.0822 - val_accuracy: 0.9757 - val_recall: 0.9631 - val_f1_score: 0.9755 - val_precision: 0.9884\n",
            "Epoch 23/100\n",
            "2721/2721 [==============================] - 16s 6ms/step - loss: 0.0670 - accuracy: 0.9782 - recall: 0.9668 - f1_score: 0.9778 - precision: 0.9892 - val_loss: 0.0842 - val_accuracy: 0.9754 - val_recall: 0.9603 - val_f1_score: 0.9751 - val_precision: 0.9904\n",
            "Epoch 24/100\n",
            "2721/2721 [==============================] - 18s 7ms/step - loss: 0.0665 - accuracy: 0.9784 - recall: 0.9672 - f1_score: 0.9780 - precision: 0.9893 - val_loss: 0.0793 - val_accuracy: 0.9759 - val_recall: 0.9624 - val_f1_score: 0.9756 - val_precision: 0.9893\n",
            "Epoch 25/100\n",
            "2721/2721 [==============================] - 18s 7ms/step - loss: 0.0660 - accuracy: 0.9785 - recall: 0.9673 - f1_score: 0.9782 - precision: 0.9896 - val_loss: 0.0819 - val_accuracy: 0.9763 - val_recall: 0.9641 - val_f1_score: 0.9761 - val_precision: 0.9885\n",
            "Epoch 26/100\n",
            "2721/2721 [==============================] - 17s 6ms/step - loss: 0.0655 - accuracy: 0.9787 - recall: 0.9675 - f1_score: 0.9784 - precision: 0.9896 - val_loss: 0.0806 - val_accuracy: 0.9766 - val_recall: 0.9633 - val_f1_score: 0.9764 - val_precision: 0.9899\n",
            "Epoch 27/100\n",
            "2721/2721 [==============================] - 18s 7ms/step - loss: 0.0650 - accuracy: 0.9788 - recall: 0.9676 - f1_score: 0.9785 - precision: 0.9898 - val_loss: 0.0837 - val_accuracy: 0.9764 - val_recall: 0.9619 - val_f1_score: 0.9761 - val_precision: 0.9910\n",
            "Epoch 28/100\n",
            "2721/2721 [==============================] - 17s 6ms/step - loss: 0.0649 - accuracy: 0.9790 - recall: 0.9678 - f1_score: 0.9787 - precision: 0.9899 - val_loss: 0.0812 - val_accuracy: 0.9760 - val_recall: 0.9640 - val_f1_score: 0.9758 - val_precision: 0.9880\n",
            "Epoch 29/100\n",
            "2721/2721 [==============================] - 17s 6ms/step - loss: 0.0644 - accuracy: 0.9790 - recall: 0.9679 - f1_score: 0.9788 - precision: 0.9899 - val_loss: 0.0813 - val_accuracy: 0.9763 - val_recall: 0.9629 - val_f1_score: 0.9760 - val_precision: 0.9896\n",
            "Epoch 30/100\n",
            "2721/2721 [==============================] - 16s 6ms/step - loss: 0.0638 - accuracy: 0.9793 - recall: 0.9682 - f1_score: 0.9790 - precision: 0.9901 - val_loss: 0.0853 - val_accuracy: 0.9763 - val_recall: 0.9624 - val_f1_score: 0.9760 - val_precision: 0.9902\n",
            "Epoch 32/100\n",
            "2721/2721 [==============================] - 16s 6ms/step - loss: 0.0635 - accuracy: 0.9794 - recall: 0.9684 - f1_score: 0.9791 - precision: 0.9901 - val_loss: 0.0814 - val_accuracy: 0.9766 - val_recall: 0.9648 - val_f1_score: 0.9763 - val_precision: 0.9882\n",
            "Epoch 33/100\n",
            "2721/2721 [==============================] - 17s 6ms/step - loss: 0.0635 - accuracy: 0.9794 - recall: 0.9684 - f1_score: 0.9791 - precision: 0.9901 - val_loss: 0.0843 - val_accuracy: 0.9767 - val_recall: 0.9627 - val_f1_score: 0.9764 - val_precision: 0.9907\n",
            "Epoch 34/100\n",
            "2721/2721 [==============================] - 17s 6ms/step - loss: 0.0631 - accuracy: 0.9795 - recall: 0.9684 - f1_score: 0.9792 - precision: 0.9903 - val_loss: 0.0808 - val_accuracy: 0.9771 - val_recall: 0.9646 - val_f1_score: 0.9769 - val_precision: 0.9896\n",
            "Epoch 35/100\n",
            "2721/2721 [==============================] - 17s 6ms/step - loss: 0.0626 - accuracy: 0.9797 - recall: 0.9686 - f1_score: 0.9794 - precision: 0.9905 - val_loss: 0.0863 - val_accuracy: 0.9770 - val_recall: 0.9626 - val_f1_score: 0.9767 - val_precision: 0.9914\n",
            "Epoch 36/100\n",
            "2721/2721 [==============================] - 17s 6ms/step - loss: 0.0626 - accuracy: 0.9797 - recall: 0.9686 - f1_score: 0.9794 - precision: 0.9905 - val_loss: 0.0857 - val_accuracy: 0.9769 - val_recall: 0.9650 - val_f1_score: 0.9767 - val_precision: 0.9888\n",
            "Epoch 37/100\n",
            "2721/2721 [==============================] - 18s 6ms/step - loss: 0.0623 - accuracy: 0.9798 - recall: 0.9686 - f1_score: 0.9795 - precision: 0.9907 - val_loss: 0.0800 - val_accuracy: 0.9776 - val_recall: 0.9644 - val_f1_score: 0.9774 - val_precision: 0.9908\n",
            "Epoch 38/100\n",
            "2721/2721 [==============================] - 16s 6ms/step - loss: 0.0620 - accuracy: 0.9798 - recall: 0.9686 - f1_score: 0.9795 - precision: 0.9908 - val_loss: 0.0838 - val_accuracy: 0.9774 - val_recall: 0.9655 - val_f1_score: 0.9772 - val_precision: 0.9893\n",
            "Epoch 39/100\n",
            "2721/2721 [==============================] - 16s 6ms/step - loss: 0.0620 - accuracy: 0.9799 - recall: 0.9690 - f1_score: 0.9796 - precision: 0.9907 - val_loss: 0.0835 - val_accuracy: 0.9775 - val_recall: 0.9640 - val_f1_score: 0.9773 - val_precision: 0.9910\n",
            "Epoch 40/100\n",
            "2721/2721 [==============================] - 17s 6ms/step - loss: 0.0618 - accuracy: 0.9799 - recall: 0.9690 - f1_score: 0.9796 - precision: 0.9905 - val_loss: 0.0840 - val_accuracy: 0.9766 - val_recall: 0.9640 - val_f1_score: 0.9764 - val_precision: 0.9892\n",
            "Epoch 41/100\n",
            "2721/2721 [==============================] - 16s 6ms/step - loss: 0.0614 - accuracy: 0.9801 - recall: 0.9692 - f1_score: 0.9798 - precision: 0.9909 - val_loss: 0.0850 - val_accuracy: 0.9771 - val_recall: 0.9632 - val_f1_score: 0.9768 - val_precision: 0.9909\n",
            "Epoch 42/100\n",
            "2721/2721 [==============================] - 16s 6ms/step - loss: 0.0614 - accuracy: 0.9801 - recall: 0.9691 - f1_score: 0.9798 - precision: 0.9910 - val_loss: 0.0823 - val_accuracy: 0.9776 - val_recall: 0.9644 - val_f1_score: 0.9773 - val_precision: 0.9907\n",
            "Epoch 43/100\n",
            "2721/2721 [==============================] - 19s 7ms/step - loss: 0.0613 - accuracy: 0.9802 - recall: 0.9692 - f1_score: 0.9799 - precision: 0.9909 - val_loss: 0.0827 - val_accuracy: 0.9778 - val_recall: 0.9645 - val_f1_score: 0.9775 - val_precision: 0.9911\n",
            "Epoch 44/100\n",
            "2721/2721 [==============================] - 16s 6ms/step - loss: 0.0611 - accuracy: 0.9802 - recall: 0.9692 - f1_score: 0.9799 - precision: 0.9910 - val_loss: 0.0832 - val_accuracy: 0.9778 - val_recall: 0.9657 - val_f1_score: 0.9776 - val_precision: 0.9900\n",
            "Epoch 45/100\n",
            "2721/2721 [==============================] - 17s 6ms/step - loss: 0.0607 - accuracy: 0.9803 - recall: 0.9693 - f1_score: 0.9800 - precision: 0.9911 - val_loss: 0.0855 - val_accuracy: 0.9776 - val_recall: 0.9632 - val_f1_score: 0.9773 - val_precision: 0.9919\n",
            "Epoch 46/100\n",
            "2721/2721 [==============================] - 17s 6ms/step - loss: 0.0608 - accuracy: 0.9804 - recall: 0.9695 - f1_score: 0.9801 - precision: 0.9910 - val_loss: 0.0856 - val_accuracy: 0.9774 - val_recall: 0.9647 - val_f1_score: 0.9772 - val_precision: 0.9901\n",
            "Epoch 47/100\n",
            "2721/2721 [==============================] - 17s 6ms/step - loss: 0.0605 - accuracy: 0.9804 - recall: 0.9694 - f1_score: 0.9801 - precision: 0.9912 - val_loss: 0.0817 - val_accuracy: 0.9785 - val_recall: 0.9650 - val_f1_score: 0.9782 - val_precision: 0.9920\n",
            "Epoch 48/100\n",
            "2721/2721 [==============================] - 16s 6ms/step - loss: 0.0603 - accuracy: 0.9806 - recall: 0.9695 - f1_score: 0.9803 - precision: 0.9914 - val_loss: 0.0842 - val_accuracy: 0.9774 - val_recall: 0.9645 - val_f1_score: 0.9771 - val_precision: 0.9902\n",
            "Epoch 49/100\n",
            "2721/2721 [==============================] - 18s 6ms/step - loss: 0.0603 - accuracy: 0.9805 - recall: 0.9695 - f1_score: 0.9802 - precision: 0.9913 - val_loss: 0.0861 - val_accuracy: 0.9785 - val_recall: 0.9649 - val_f1_score: 0.9782 - val_precision: 0.9921\n",
            "Epoch 50/100\n",
            "2721/2721 [==============================] - 18s 7ms/step - loss: 0.0600 - accuracy: 0.9806 - recall: 0.9699 - f1_score: 0.9804 - precision: 0.9912 - val_loss: 0.0881 - val_accuracy: 0.9775 - val_recall: 0.9643 - val_f1_score: 0.9773 - val_precision: 0.9907\n",
            "Epoch 51/100\n",
            "2721/2721 [==============================] - 18s 7ms/step - loss: 0.0598 - accuracy: 0.9808 - recall: 0.9698 - f1_score: 0.9805 - precision: 0.9915 - val_loss: 0.0821 - val_accuracy: 0.9778 - val_recall: 0.9658 - val_f1_score: 0.9776 - val_precision: 0.9898\n",
            "Epoch 52/100\n",
            "2721/2721 [==============================] - 19s 7ms/step - loss: 0.0597 - accuracy: 0.9808 - recall: 0.9698 - f1_score: 0.9805 - precision: 0.9916 - val_loss: 0.0876 - val_accuracy: 0.9780 - val_recall: 0.9653 - val_f1_score: 0.9778 - val_precision: 0.9907\n",
            "Epoch 53/100\n",
            "2721/2721 [==============================] - 17s 6ms/step - loss: 0.0596 - accuracy: 0.9807 - recall: 0.9698 - f1_score: 0.9805 - precision: 0.9914 - val_loss: 0.0791 - val_accuracy: 0.9785 - val_recall: 0.9650 - val_f1_score: 0.9783 - val_precision: 0.9921\n",
            "Epoch 54/100\n",
            "2721/2721 [==============================] - 18s 6ms/step - loss: 0.0593 - accuracy: 0.9810 - recall: 0.9700 - f1_score: 0.9807 - precision: 0.9917 - val_loss: 0.0886 - val_accuracy: 0.9778 - val_recall: 0.9653 - val_f1_score: 0.9776 - val_precision: 0.9904\n",
            "Epoch 55/100\n",
            "2721/2721 [==============================] - 16s 6ms/step - loss: 0.0594 - accuracy: 0.9810 - recall: 0.9700 - f1_score: 0.9807 - precision: 0.9917 - val_loss: 0.0850 - val_accuracy: 0.9784 - val_recall: 0.9652 - val_f1_score: 0.9782 - val_precision: 0.9915\n",
            "Epoch 56/100\n",
            "2721/2721 [==============================] - 17s 6ms/step - loss: 0.0591 - accuracy: 0.9810 - recall: 0.9701 - f1_score: 0.9807 - precision: 0.9917 - val_loss: 0.0825 - val_accuracy: 0.9785 - val_recall: 0.9658 - val_f1_score: 0.9783 - val_precision: 0.9912\n",
            "Epoch 57/100\n",
            "2721/2721 [==============================] - 17s 6ms/step - loss: 0.0590 - accuracy: 0.9810 - recall: 0.9703 - f1_score: 0.9808 - precision: 0.9915 - val_loss: 0.0870 - val_accuracy: 0.9779 - val_recall: 0.9640 - val_f1_score: 0.9776 - val_precision: 0.9918\n",
            "Epoch 58/100\n",
            "2721/2721 [==============================] - 17s 6ms/step - loss: 0.0590 - accuracy: 0.9810 - recall: 0.9703 - f1_score: 0.9808 - precision: 0.9916 - val_loss: 0.0816 - val_accuracy: 0.9786 - val_recall: 0.9641 - val_f1_score: 0.9784 - val_precision: 0.9932\n",
            "Epoch 59/100\n",
            "2721/2721 [==============================] - 18s 7ms/step - loss: 0.0590 - accuracy: 0.9811 - recall: 0.9703 - f1_score: 0.9809 - precision: 0.9917 - val_loss: 0.0823 - val_accuracy: 0.9789 - val_recall: 0.9664 - val_f1_score: 0.9787 - val_precision: 0.9914\n",
            "Epoch 60/100\n",
            "2721/2721 [==============================] - 17s 6ms/step - loss: 0.0589 - accuracy: 0.9811 - recall: 0.9703 - f1_score: 0.9809 - precision: 0.9918 - val_loss: 0.0854 - val_accuracy: 0.9788 - val_recall: 0.9644 - val_f1_score: 0.9786 - val_precision: 0.9932\n",
            "Epoch 61/100\n",
            "2721/2721 [==============================] - 19s 7ms/step - loss: 0.0587 - accuracy: 0.9812 - recall: 0.9705 - f1_score: 0.9809 - precision: 0.9916 - val_loss: 0.0848 - val_accuracy: 0.9787 - val_recall: 0.9659 - val_f1_score: 0.9785 - val_precision: 0.9915\n",
            "Epoch 62/100\n",
            "2721/2721 [==============================] - 17s 6ms/step - loss: 0.0586 - accuracy: 0.9812 - recall: 0.9703 - f1_score: 0.9809 - precision: 0.9918 - val_loss: 0.0851 - val_accuracy: 0.9785 - val_recall: 0.9667 - val_f1_score: 0.9783 - val_precision: 0.9901\n",
            "Epoch 63/100\n",
            "2721/2721 [==============================] - 17s 6ms/step - loss: 0.0585 - accuracy: 0.9812 - recall: 0.9705 - f1_score: 0.9810 - precision: 0.9918 - val_loss: 0.0850 - val_accuracy: 0.9786 - val_recall: 0.9674 - val_f1_score: 0.9784 - val_precision: 0.9897\n",
            "Epoch 64/100\n",
            "2721/2721 [==============================] - 18s 7ms/step - loss: 0.0581 - accuracy: 0.9814 - recall: 0.9708 - f1_score: 0.9812 - precision: 0.9918 - val_loss: 0.0845 - val_accuracy: 0.9784 - val_recall: 0.9650 - val_f1_score: 0.9782 - val_precision: 0.9919\n",
            "Epoch 65/100\n",
            "2721/2721 [==============================] - 18s 7ms/step - loss: 0.0583 - accuracy: 0.9813 - recall: 0.9705 - f1_score: 0.9810 - precision: 0.9919 - val_loss: 0.0839 - val_accuracy: 0.9788 - val_recall: 0.9657 - val_f1_score: 0.9785 - val_precision: 0.9918\n",
            "Epoch 66/100\n",
            "2721/2721 [==============================] - 18s 7ms/step - loss: 0.0581 - accuracy: 0.9814 - recall: 0.9706 - f1_score: 0.9811 - precision: 0.9919 - val_loss: 0.0854 - val_accuracy: 0.9790 - val_recall: 0.9656 - val_f1_score: 0.9787 - val_precision: 0.9923\n",
            "Epoch 67/100\n",
            "2721/2721 [==============================] - 16s 6ms/step - loss: 0.0579 - accuracy: 0.9815 - recall: 0.9707 - f1_score: 0.9813 - precision: 0.9921 - val_loss: 0.0807 - val_accuracy: 0.9786 - val_recall: 0.9658 - val_f1_score: 0.9783 - val_precision: 0.9913\n",
            "Epoch 68/100\n",
            "2721/2721 [==============================] - 18s 6ms/step - loss: 0.0579 - accuracy: 0.9815 - recall: 0.9707 - f1_score: 0.9812 - precision: 0.9920 - val_loss: 0.0853 - val_accuracy: 0.9792 - val_recall: 0.9655 - val_f1_score: 0.9789 - val_precision: 0.9928\n",
            "Epoch 69/100\n",
            "2721/2721 [==============================] - 18s 6ms/step - loss: 0.0578 - accuracy: 0.9815 - recall: 0.9709 - f1_score: 0.9813 - precision: 0.9919 - val_loss: 0.0891 - val_accuracy: 0.9786 - val_recall: 0.9646 - val_f1_score: 0.9783 - val_precision: 0.9926\n",
            "Epoch 70/100\n",
            "2721/2721 [==============================] - 18s 6ms/step - loss: 0.0577 - accuracy: 0.9816 - recall: 0.9709 - f1_score: 0.9813 - precision: 0.9921 - val_loss: 0.0870 - val_accuracy: 0.9787 - val_recall: 0.9644 - val_f1_score: 0.9784 - val_precision: 0.9931\n",
            "Epoch 71/100\n",
            "2721/2721 [==============================] - 18s 6ms/step - loss: 0.0577 - accuracy: 0.9815 - recall: 0.9708 - f1_score: 0.9813 - precision: 0.9921 - val_loss: 0.0861 - val_accuracy: 0.9787 - val_recall: 0.9654 - val_f1_score: 0.9784 - val_precision: 0.9919\n",
            "Epoch 72/100\n",
            "2721/2721 [==============================] - 17s 6ms/step - loss: 0.0574 - accuracy: 0.9816 - recall: 0.9710 - f1_score: 0.9814 - precision: 0.9921 - val_loss: 0.0861 - val_accuracy: 0.9790 - val_recall: 0.9641 - val_f1_score: 0.9787 - val_precision: 0.9938\n",
            "Epoch 73/100\n",
            "2721/2721 [==============================] - 17s 6ms/step - loss: 0.0576 - accuracy: 0.9816 - recall: 0.9708 - f1_score: 0.9813 - precision: 0.9922 - val_loss: 0.0815 - val_accuracy: 0.9789 - val_recall: 0.9655 - val_f1_score: 0.9786 - val_precision: 0.9922\n",
            "Epoch 74/100\n",
            "2721/2721 [==============================] - 17s 6ms/step - loss: 0.0573 - accuracy: 0.9817 - recall: 0.9710 - f1_score: 0.9815 - precision: 0.9923 - val_loss: 0.0784 - val_accuracy: 0.9784 - val_recall: 0.9652 - val_f1_score: 0.9781 - val_precision: 0.9916\n",
            "Epoch 75/100\n",
            "2721/2721 [==============================] - 16s 6ms/step - loss: 0.0572 - accuracy: 0.9817 - recall: 0.9711 - f1_score: 0.9815 - precision: 0.9921 - val_loss: 0.0852 - val_accuracy: 0.9789 - val_recall: 0.9657 - val_f1_score: 0.9787 - val_precision: 0.9921\n",
            "Epoch 76/100\n",
            "2721/2721 [==============================] - 17s 6ms/step - loss: 0.0571 - accuracy: 0.9818 - recall: 0.9711 - f1_score: 0.9815 - precision: 0.9923 - val_loss: 0.0815 - val_accuracy: 0.9792 - val_recall: 0.9677 - val_f1_score: 0.9791 - val_precision: 0.9908\n",
            "Epoch 77/100\n",
            "2721/2721 [==============================] - 17s 6ms/step - loss: 0.0570 - accuracy: 0.9818 - recall: 0.9711 - f1_score: 0.9815 - precision: 0.9922 - val_loss: 0.0861 - val_accuracy: 0.9785 - val_recall: 0.9664 - val_f1_score: 0.9783 - val_precision: 0.9906\n",
            "Epoch 78/100\n",
            "2721/2721 [==============================] - 18s 7ms/step - loss: 0.0568 - accuracy: 0.9819 - recall: 0.9712 - f1_score: 0.9817 - precision: 0.9924 - val_loss: 0.0877 - val_accuracy: 0.9791 - val_recall: 0.9655 - val_f1_score: 0.9789 - val_precision: 0.9928\n",
            "Epoch 79/100\n",
            "2721/2721 [==============================] - 18s 7ms/step - loss: 0.0570 - accuracy: 0.9819 - recall: 0.9713 - f1_score: 0.9817 - precision: 0.9923 - val_loss: 0.0881 - val_accuracy: 0.9790 - val_recall: 0.9659 - val_f1_score: 0.9787 - val_precision: 0.9921\n",
            "Epoch 80/100\n",
            "2721/2721 [==============================] - 17s 6ms/step - loss: 0.0570 - accuracy: 0.9818 - recall: 0.9713 - f1_score: 0.9816 - precision: 0.9922 - val_loss: 0.0790 - val_accuracy: 0.9795 - val_recall: 0.9665 - val_f1_score: 0.9793 - val_precision: 0.9926\n",
            "Epoch 81/100\n",
            "2721/2721 [==============================] - 17s 6ms/step - loss: 0.0566 - accuracy: 0.9819 - recall: 0.9712 - f1_score: 0.9816 - precision: 0.9924 - val_loss: 0.0908 - val_accuracy: 0.9793 - val_recall: 0.9657 - val_f1_score: 0.9791 - val_precision: 0.9930\n",
            "Epoch 82/100\n",
            "2721/2721 [==============================] - 18s 7ms/step - loss: 0.0566 - accuracy: 0.9820 - recall: 0.9714 - f1_score: 0.9817 - precision: 0.9923 - val_loss: 0.0879 - val_accuracy: 0.9790 - val_recall: 0.9651 - val_f1_score: 0.9788 - val_precision: 0.9930\n",
            "Epoch 83/100\n",
            "2721/2721 [==============================] - 17s 6ms/step - loss: 0.0565 - accuracy: 0.9820 - recall: 0.9715 - f1_score: 0.9818 - precision: 0.9923 - val_loss: 0.0914 - val_accuracy: 0.9794 - val_recall: 0.9662 - val_f1_score: 0.9792 - val_precision: 0.9926\n",
            "Epoch 84/100\n",
            "2721/2721 [==============================] - 18s 7ms/step - loss: 0.0565 - accuracy: 0.9821 - recall: 0.9717 - f1_score: 0.9819 - precision: 0.9924 - val_loss: 0.0826 - val_accuracy: 0.9792 - val_recall: 0.9663 - val_f1_score: 0.9789 - val_precision: 0.9920\n",
            "Epoch 85/100\n",
            "2721/2721 [==============================] - 18s 6ms/step - loss: 0.0565 - accuracy: 0.9820 - recall: 0.9714 - f1_score: 0.9818 - precision: 0.9924 - val_loss: 0.0806 - val_accuracy: 0.9796 - val_recall: 0.9673 - val_f1_score: 0.9794 - val_precision: 0.9920\n",
            "Epoch 86/100\n",
            "2721/2721 [==============================] - 17s 6ms/step - loss: 0.0569 - accuracy: 0.9821 - recall: 0.9717 - f1_score: 0.9819 - precision: 0.9923 - val_loss: 0.0885 - val_accuracy: 0.9800 - val_recall: 0.9660 - val_f1_score: 0.9798 - val_precision: 0.9941\n",
            "Epoch 87/100\n",
            "2721/2721 [==============================] - 17s 6ms/step - loss: 0.0560 - accuracy: 0.9822 - recall: 0.9718 - f1_score: 0.9820 - precision: 0.9925 - val_loss: 0.0831 - val_accuracy: 0.9797 - val_recall: 0.9677 - val_f1_score: 0.9795 - val_precision: 0.9916\n",
            "Epoch 88/100\n",
            "2721/2721 [==============================] - 17s 6ms/step - loss: 0.0560 - accuracy: 0.9822 - recall: 0.9715 - f1_score: 0.9819 - precision: 0.9927 - val_loss: 0.0844 - val_accuracy: 0.9795 - val_recall: 0.9670 - val_f1_score: 0.9793 - val_precision: 0.9921\n",
            "Epoch 89/100\n",
            "2721/2721 [==============================] - 18s 6ms/step - loss: 0.0561 - accuracy: 0.9822 - recall: 0.9717 - f1_score: 0.9819 - precision: 0.9925 - val_loss: 0.0833 - val_accuracy: 0.9792 - val_recall: 0.9661 - val_f1_score: 0.9790 - val_precision: 0.9924\n",
            "Epoch 90/100\n",
            "2721/2721 [==============================] - 18s 7ms/step - loss: 0.0562 - accuracy: 0.9822 - recall: 0.9718 - f1_score: 0.9820 - precision: 0.9924 - val_loss: 0.0833 - val_accuracy: 0.9796 - val_recall: 0.9669 - val_f1_score: 0.9794 - val_precision: 0.9924\n",
            "Epoch 91/100\n",
            "2721/2721 [==============================] - 16s 6ms/step - loss: 0.0559 - accuracy: 0.9823 - recall: 0.9719 - f1_score: 0.9820 - precision: 0.9924 - val_loss: 0.0876 - val_accuracy: 0.9795 - val_recall: 0.9664 - val_f1_score: 0.9792 - val_precision: 0.9925\n",
            "Epoch 92/100\n",
            "2721/2721 [==============================] - 16s 6ms/step - loss: 0.0559 - accuracy: 0.9822 - recall: 0.9718 - f1_score: 0.9820 - precision: 0.9925 - val_loss: 0.0847 - val_accuracy: 0.9799 - val_recall: 0.9667 - val_f1_score: 0.9797 - val_precision: 0.9931\n",
            "Epoch 93/100\n",
            "2721/2721 [==============================] - 17s 6ms/step - loss: 0.0557 - accuracy: 0.9823 - recall: 0.9719 - f1_score: 0.9821 - precision: 0.9925 - val_loss: 0.0898 - val_accuracy: 0.9797 - val_recall: 0.9658 - val_f1_score: 0.9794 - val_precision: 0.9935\n",
            "Epoch 94/100\n",
            "2721/2721 [==============================] - 17s 6ms/step - loss: 0.0556 - accuracy: 0.9824 - recall: 0.9719 - f1_score: 0.9822 - precision: 0.9928 - val_loss: 0.0866 - val_accuracy: 0.9796 - val_recall: 0.9658 - val_f1_score: 0.9794 - val_precision: 0.9934\n",
            "Epoch 95/100\n",
            "2721/2721 [==============================] - 17s 6ms/step - loss: 0.0558 - accuracy: 0.9823 - recall: 0.9718 - f1_score: 0.9821 - precision: 0.9926 - val_loss: 0.0862 - val_accuracy: 0.9797 - val_recall: 0.9690 - val_f1_score: 0.9795 - val_precision: 0.9903\n",
            "Epoch 96/100\n",
            "2721/2721 [==============================] - 17s 6ms/step - loss: 0.0559 - accuracy: 0.9823 - recall: 0.9718 - f1_score: 0.9820 - precision: 0.9925 - val_loss: 0.0852 - val_accuracy: 0.9790 - val_recall: 0.9641 - val_f1_score: 0.9787 - val_precision: 0.9939\n",
            "Epoch 97/100\n",
            "2721/2721 [==============================] - 18s 6ms/step - loss: 0.0554 - accuracy: 0.9825 - recall: 0.9721 - f1_score: 0.9823 - precision: 0.9928 - val_loss: 0.0881 - val_accuracy: 0.9798 - val_recall: 0.9664 - val_f1_score: 0.9796 - val_precision: 0.9932\n",
            "Epoch 98/100\n",
            "2721/2721 [==============================] - 16s 6ms/step - loss: 0.0557 - accuracy: 0.9825 - recall: 0.9720 - f1_score: 0.9822 - precision: 0.9928 - val_loss: 0.0889 - val_accuracy: 0.9798 - val_recall: 0.9663 - val_f1_score: 0.9796 - val_precision: 0.9933\n",
            "Epoch 99/100\n",
            "2721/2721 [==============================] - 17s 6ms/step - loss: 0.0554 - accuracy: 0.9824 - recall: 0.9720 - f1_score: 0.9822 - precision: 0.9926 - val_loss: 0.0849 - val_accuracy: 0.9797 - val_recall: 0.9666 - val_f1_score: 0.9795 - val_precision: 0.9928\n",
            "Epoch 100/100\n",
            "2721/2721 [==============================] - 17s 6ms/step - loss: 0.0552 - accuracy: 0.9826 - recall: 0.9722 - f1_score: 0.9823 - precision: 0.9927 - val_loss: 0.0782 - val_accuracy: 0.9799 - val_recall: 0.9673 - val_f1_score: 0.9797 - val_precision: 0.9926\n"
          ]
        }
      ],
      "source": [
        "import tensorflow as tf\n",
        "from tensorflow import keras\n",
        "from keras.callbacks import EarlyStopping,History\n",
        "from keras import backend as K\n",
        "from keras.models import Model\n",
        "def recall(y_true, y_pred):\n",
        "    true_positives = K.sum(K.round(K.clip(y_true * y_pred, 0, 1)))\n",
        "    possible_positives = K.sum(K.round(K.clip(y_true, 0, 1)))\n",
        "    return true_positives / (possible_positives + K.epsilon())\n",
        "\n",
        "def precision(y_true, y_pred):\n",
        "    true_positives = K.sum(K.round(K.clip(y_true * y_pred, 0, 1)))\n",
        "    predicted_positives = K.sum(K.round(K.clip(y_pred, 0, 1)))\n",
        "    return true_positives / (predicted_positives + K.epsilon())\n",
        "\n",
        "def f1_score(y_true, y_pred):\n",
        "    p = precision(y_true, y_pred)\n",
        "    r = recall(y_true, y_pred)\n",
        "    return 2*((p*r)/(p+r+K.epsilon()))\n",
        "\n",
        "model = keras.models.Sequential()\n",
        "model.add(keras.layers.Dense(units=1024,activation='relu'))\n",
        "model.add(keras.layers.Dense(units=512, activation='relu'))\n",
        "model.add(keras.layers.Dense(units=128, activation='relu'))\n",
        "model.add(keras.layers.Dense(units=64, activation='relu'))\n",
        "model.add(keras.layers.Dense(units=32, activation='relu'))\n",
        "model.add(keras.layers.Dense(units=1, activation='sigmoid'))\n",
        "\n",
        "\n",
        "model.compile(optimizer='adam',loss='binary_crossentropy',metrics=['accuracy',recall,f1_score,precision])\n",
        "history = model.fit(nndf_train, Y_train,batch_size=450, validation_data=(nndf_test,Y_test),epochs=100,callbacks=EarlyStopping(monitor='val_loss',verbose=1,min_delta=0.0001,patience=60))"
      ]
    },
    {
      "cell_type": "code",
      "execution_count": null,
      "metadata": {
        "id": "Z-y0kML6NNco",
        "colab": {
          "base_uri": "https://localhost:8080/",
          "height": 55
        },
        "outputId": "494aabd1-8265-4bbc-ca3d-8e76a7d7becd"
      },
      "outputs": [
        {
          "data": {
            "application/vnd.google.colaboratory.intrinsic+json": {
              "type": "string"
            },
            "text/plain": [
              "\"from keras.callbacks import ModelCheckpoint, EarlyStopping\\nann.compile(optimizer = 'adam', loss = 'binary_crossentropy', metrics = ['accuracy'])\\nann.fit(nndf_train, Y_train, batch_size = 24,callbacks=EarlyStopping(monitor='val_loss',verbose=1,patience=5))\""
            ]
          },
          "execution_count": 55,
          "metadata": {},
          "output_type": "execute_result"
        }
      ],
      "source": [
        "\"\"\"from keras.callbacks import ModelCheckpoint, EarlyStopping\n",
        "ann.compile(optimizer = 'adam', loss = 'binary_crossentropy', metrics = ['accuracy'])\n",
        "ann.fit(nndf_train, Y_train, batch_size = 24,callbacks=EarlyStopping(monitor='val_loss',verbose=1,patience=5))\"\"\""
      ]
    },
    {
      "cell_type": "code",
      "execution_count": null,
      "metadata": {
        "id": "-ShCiym7NNcp",
        "colab": {
          "base_uri": "https://localhost:8080/",
          "height": 99
        },
        "outputId": "1e0f5c12-bc5a-4e9d-fd08-8cee60f81757"
      },
      "outputs": [
        {
          "output_type": "stream",
          "name": "stdout",
          "text": [
            "9564/9564 [==============================] - 17s 2ms/step\n"
          ]
        },
        {
          "output_type": "execute_result",
          "data": {
            "text/plain": [
              "        Actual Predicted\n",
              "0  CASE_STATUS    [True]"
            ],
            "text/html": [
              "\n",
              "  <div id=\"df-6a64501d-3e91-4dbe-b51b-aa73b162c3db\">\n",
              "    <div class=\"colab-df-container\">\n",
              "      <div>\n",
              "<style scoped>\n",
              "    .dataframe tbody tr th:only-of-type {\n",
              "        vertical-align: middle;\n",
              "    }\n",
              "\n",
              "    .dataframe tbody tr th {\n",
              "        vertical-align: top;\n",
              "    }\n",
              "\n",
              "    .dataframe thead th {\n",
              "        text-align: right;\n",
              "    }\n",
              "</style>\n",
              "<table border=\"1\" class=\"dataframe\">\n",
              "  <thead>\n",
              "    <tr style=\"text-align: right;\">\n",
              "      <th></th>\n",
              "      <th>Actual</th>\n",
              "      <th>Predicted</th>\n",
              "    </tr>\n",
              "  </thead>\n",
              "  <tbody>\n",
              "    <tr>\n",
              "      <th>0</th>\n",
              "      <td>CASE_STATUS</td>\n",
              "      <td>[True]</td>\n",
              "    </tr>\n",
              "  </tbody>\n",
              "</table>\n",
              "</div>\n",
              "      <button class=\"colab-df-convert\" onclick=\"convertToInteractive('df-6a64501d-3e91-4dbe-b51b-aa73b162c3db')\"\n",
              "              title=\"Convert this dataframe to an interactive table.\"\n",
              "              style=\"display:none;\">\n",
              "        \n",
              "  <svg xmlns=\"http://www.w3.org/2000/svg\" height=\"24px\"viewBox=\"0 0 24 24\"\n",
              "       width=\"24px\">\n",
              "    <path d=\"M0 0h24v24H0V0z\" fill=\"none\"/>\n",
              "    <path d=\"M18.56 5.44l.94 2.06.94-2.06 2.06-.94-2.06-.94-.94-2.06-.94 2.06-2.06.94zm-11 1L8.5 8.5l.94-2.06 2.06-.94-2.06-.94L8.5 2.5l-.94 2.06-2.06.94zm10 10l.94 2.06.94-2.06 2.06-.94-2.06-.94-.94-2.06-.94 2.06-2.06.94z\"/><path d=\"M17.41 7.96l-1.37-1.37c-.4-.4-.92-.59-1.43-.59-.52 0-1.04.2-1.43.59L10.3 9.45l-7.72 7.72c-.78.78-.78 2.05 0 2.83L4 21.41c.39.39.9.59 1.41.59.51 0 1.02-.2 1.41-.59l7.78-7.78 2.81-2.81c.8-.78.8-2.07 0-2.86zM5.41 20L4 18.59l7.72-7.72 1.47 1.35L5.41 20z\"/>\n",
              "  </svg>\n",
              "      </button>\n",
              "      \n",
              "  <style>\n",
              "    .colab-df-container {\n",
              "      display:flex;\n",
              "      flex-wrap:wrap;\n",
              "      gap: 12px;\n",
              "    }\n",
              "\n",
              "    .colab-df-convert {\n",
              "      background-color: #E8F0FE;\n",
              "      border: none;\n",
              "      border-radius: 50%;\n",
              "      cursor: pointer;\n",
              "      display: none;\n",
              "      fill: #1967D2;\n",
              "      height: 32px;\n",
              "      padding: 0 0 0 0;\n",
              "      width: 32px;\n",
              "    }\n",
              "\n",
              "    .colab-df-convert:hover {\n",
              "      background-color: #E2EBFA;\n",
              "      box-shadow: 0px 1px 2px rgba(60, 64, 67, 0.3), 0px 1px 3px 1px rgba(60, 64, 67, 0.15);\n",
              "      fill: #174EA6;\n",
              "    }\n",
              "\n",
              "    [theme=dark] .colab-df-convert {\n",
              "      background-color: #3B4455;\n",
              "      fill: #D2E3FC;\n",
              "    }\n",
              "\n",
              "    [theme=dark] .colab-df-convert:hover {\n",
              "      background-color: #434B5C;\n",
              "      box-shadow: 0px 1px 3px 1px rgba(0, 0, 0, 0.15);\n",
              "      filter: drop-shadow(0px 1px 2px rgba(0, 0, 0, 0.3));\n",
              "      fill: #FFFFFF;\n",
              "    }\n",
              "  </style>\n",
              "\n",
              "      <script>\n",
              "        const buttonEl =\n",
              "          document.querySelector('#df-6a64501d-3e91-4dbe-b51b-aa73b162c3db button.colab-df-convert');\n",
              "        buttonEl.style.display =\n",
              "          google.colab.kernel.accessAllowed ? 'block' : 'none';\n",
              "\n",
              "        async function convertToInteractive(key) {\n",
              "          const element = document.querySelector('#df-6a64501d-3e91-4dbe-b51b-aa73b162c3db');\n",
              "          const dataTable =\n",
              "            await google.colab.kernel.invokeFunction('convertToInteractive',\n",
              "                                                     [key], {});\n",
              "          if (!dataTable) return;\n",
              "\n",
              "          const docLinkHtml = 'Like what you see? Visit the ' +\n",
              "            '<a target=\"_blank\" href=https://colab.research.google.com/notebooks/data_table.ipynb>data table notebook</a>'\n",
              "            + ' to learn more about interactive tables.';\n",
              "          element.innerHTML = '';\n",
              "          dataTable['output_type'] = 'display_data';\n",
              "          await google.colab.output.renderOutput(dataTable, element);\n",
              "          const docLink = document.createElement('div');\n",
              "          docLink.innerHTML = docLinkHtml;\n",
              "          element.appendChild(docLink);\n",
              "        }\n",
              "      </script>\n",
              "    </div>\n",
              "  </div>\n",
              "  "
            ]
          },
          "metadata": {},
          "execution_count": 56
        }
      ],
      "source": [
        "Y_pred = model.predict(nndf_test)\n",
        "Y_pred = (Y_pred > 0.5)\n",
        "pd.DataFrame(list(zip(Y_test, Y_pred)), columns=['Actual', 'Predicted'])"
      ]
    },
    {
      "cell_type": "code",
      "execution_count": null,
      "metadata": {
        "id": "uObp8GQTNNcq"
      },
      "outputs": [],
      "source": [
        "from sklearn.metrics import confusion_matrix, accuracy_score,f1_score\n",
        "print(f1_score(Y_test,Y_pred))\n",
        "print(confusion_matrix(Y_test, Y_pred))\n",
        "print(accuracy_score(Y_test, Y_pred))"
      ]
    },
    {
      "cell_type": "code",
      "execution_count": null,
      "metadata": {
        "id": "tFy1kosQjJaa"
      },
      "outputs": [],
      "source": [
        "from sklearn import metrics\n",
        "auc = metrics.roc_auc_score(Y_test, Y_pred)"
      ]
    },
    {
      "cell_type": "code",
      "execution_count": null,
      "metadata": {
        "id": "YLx4KIV9suC8",
        "colab": {
          "base_uri": "https://localhost:8080/"
        },
        "outputId": "e4a026bb-ea44-4b3c-cdaa-4343596be986"
      },
      "outputs": [
        {
          "output_type": "stream",
          "name": "stdout",
          "text": [
            "0.9799726897860271\n"
          ]
        }
      ],
      "source": [
        "print(auc)"
      ]
    },
    {
      "cell_type": "code",
      "execution_count": null,
      "metadata": {
        "id": "5qnu41V18WyB",
        "colab": {
          "base_uri": "https://localhost:8080/",
          "height": 195
        },
        "outputId": "0a9449c5-6e1e-48cd-a448-fec995e729c6"
      },
      "outputs": [
        {
          "output_type": "execute_result",
          "data": {
            "text/plain": [
              "<matplotlib.legend.Legend at 0x7fb59026c220>"
            ]
          },
          "metadata": {},
          "execution_count": 60
        },
        {
          "output_type": "display_data",
          "data": {
            "text/plain": [
              "<Figure size 432x288 with 1 Axes>"
            ],
            "image/png": "[encoded data removed]"
          },
          "metadata": {
            "needs_background": "light"
          }
        }
      ],
      "source": [
        "plt.subplot(2,1,1)\n",
        "plt.plot(history.history['accuracy'])\n",
        "plt.plot(history.history['val_accuracy'])\n",
        "plt.title('model accuracy')\n",
        "plt.ylabel('accuracy')\n",
        "plt.xlabel('epoch')\n",
        "plt.legend(['train', 'test'], loc='lower right')"
      ]
    },
    {
      "cell_type": "code",
      "execution_count": null,
      "metadata": {
        "id": "IuJ2Kr_RYIwo",
        "colab": {
          "base_uri": "https://localhost:8080/",
          "height": 195
        },
        "outputId": "7d0193f1-7160-4375-d6c3-aadc3a454763"
      },
      "outputs": [
        {
          "data": {
            "text/plain": [
              "<matplotlib.legend.Legend at 0x7fb672b33670>"
            ]
          },
          "execution_count": 61,
          "metadata": {},
          "output_type": "execute_result"
        },
        {
          "output_type": "display_data",
          "data": {
            "text/plain": [
              "<Figure size 432x288 with 1 Axes>"
            ],
            "image/png": "[encoded data removed]"
          },
          "metadata": {
            "needs_background": "light"
          }
        }
      ],
      "source": [
        "plt.subplot(2,1,2)\n",
        "plt.plot(history.history['loss'])\n",
        "plt.plot(history.history['val_loss'])\n",
        "plt.title('model loss')\n",
        "plt.ylabel('loss')\n",
        "plt.xlabel('epoch')\n",
        "plt.legend(['train', 'test'], loc='upper right')"
      ]
    },
    {
      "cell_type": "code",
      "execution_count": null,
      "metadata": {
        "id": "PdzyvZweWRRC"
      },
      "outputs": [],
      "source": [
        "from sklearn.metrics import roc_curve\n",
        "fpr_keras, tpr_keras, thresholds_keras = roc_curve(Y_test, Y_pred)"
      ]
    },
    {
      "cell_type": "code",
      "execution_count": null,
      "metadata": {
        "id": "zRfVeci5KQbx"
      },
      "outputs": [],
      "source": [
        "from sklearn.metrics import auc\n",
        "auc_keras = auc(fpr_keras, tpr_keras)"
      ]
    },
    {
      "cell_type": "code",
      "execution_count": null,
      "metadata": {
        "id": "4-2wihe6KuTF",
        "colab": {
          "base_uri": "https://localhost:8080/"
        },
        "outputId": "87f8f83c-55bb-4071-a4c7-05311a9b28ec"
      },
      "outputs": [
        {
          "output_type": "execute_result",
          "data": {
            "text/plain": [
              "0.9799726897860271"
            ]
          },
          "metadata": {},
          "execution_count": 64
        }
      ],
      "source": [
        "auc_keras"
      ]
    },
    {
      "cell_type": "code",
      "execution_count": null,
      "metadata": {
        "id": "sUN0kDKaKnJR",
        "colab": {
          "base_uri": "https://localhost:8080/",
          "height": 295
        },
        "outputId": "60ca40d7-7ff0-4ce0-82ce-261739b27681"
      },
      "outputs": [
        {
          "output_type": "display_data",
          "data": {
            "text/plain": [
              "<Figure size 432x288 with 1 Axes>"
            ],
            "image/png": "[encoded data removed]"
          },
          "metadata": {
            "needs_background": "light"
          }
        }
      ],
      "source": [
        "\n",
        "plt.figure(1)\n",
        "plt.plot([0, 1], [0, 1], 'k--')\n",
        "plt.plot(fpr_keras, tpr_keras, label='Keras (area = {:.3f})'.format(auc_keras))\n",
        "plt.xlabel('False positive rate')\n",
        "plt.ylabel('True positive rate')\n",
        "plt.title('ROC curve')\n",
        "plt.legend(loc='best')\n",
        "plt.show()\n",
        "# Zoom in view of the upper left corner.\n"
      ]
    },
    {
      "cell_type": "code",
      "execution_count": null,
      "metadata": {
        "id": "baC1QqdqK0xx",
        "colab": {
          "base_uri": "https://localhost:8080/",
          "height": 295
        },
        "outputId": "2777d2af-4206-4d80-e2f7-f51200429c3f"
      },
      "outputs": [
        {
          "output_type": "display_data",
          "data": {
            "text/plain": [
              "<Figure size 432x288 with 1 Axes>"
            ],
            "image/png": "[encoded data removed]"
          },
          "metadata": {
            "needs_background": "light"
          }
        }
      ],
      "source": [
        "\n",
        "plt.figure(2)\n",
        "plt.xlim(0, 0.2)\n",
        "plt.ylim(0.8, 1)\n",
        "plt.plot([0, 1], [0, 1], 'k--')\n",
        "plt.plot(fpr_keras, tpr_keras, label='Keras (area = {:.3f})'.format(auc_keras))\n",
        "plt.xlabel('False positive rate')\n",
        "plt.ylabel('True positive rate')\n",
        "plt.title('ROC curve (zoomed in at top left)')\n",
        "plt.legend(loc='best')\n",
        "plt.show()"
      ]
    },
    {
      "cell_type": "code",
      "execution_count": null,
      "metadata": {
        "id": "NMCroveLLkWl",
        "colab": {
          "base_uri": "https://localhost:8080/"
        },
        "outputId": "c6ae52e6-d13f-4dff-c6b0-fecc0225c8f1"
      },
      "outputs": [
        {
          "output_type": "stream",
          "name": "stdout",
          "text": [
            "dict_keys(['loss', 'accuracy', 'recall', 'f1_score', 'precision', 'val_loss', 'val_accuracy', 'val_recall', 'val_f1_score', 'val_precision'])\n"
          ]
        }
      ],
      "source": [
        "print(history.history.keys())"
      ]
    },
    {
      "cell_type": "code",
      "execution_count": null,
      "metadata": {
        "id": "KMio4P3yCtQv",
        "colab": {
          "base_uri": "https://localhost:8080/",
          "height": 177
        },
        "outputId": "54f50393-ca9e-4a94-de4a-1b3a08e96834"
      },
      "outputs": [
        {
          "output_type": "display_data",
          "data": {
            "text/plain": [
              "<Figure size 432x288 with 1 Axes>"
            ],
            "image/png": "[encoded data removed]"
          },
          "metadata": {
            "needs_background": "light"
          }
        }
      ],
      "source": [
        "plt.subplot(2,1,1)\n",
        "plt.plot(history.history['f1_score'])\n",
        "plt.plot(history.history['val_f1_score'])\n",
        "plt.title('Model F1-Score')\n",
        "plt.ylabel('F1-Score')\n",
        "plt.xlabel('Epoch')\n",
        "plt.legend(['train', 'validation'], loc='lower right')\n",
        "plt.show()"
      ]
    },
    {
      "cell_type": "code",
      "execution_count": null,
      "metadata": {
        "id": "SFaSi2AfC1e6",
        "colab": {
          "base_uri": "https://localhost:8080/",
          "height": 177
        },
        "outputId": "d1b9d981-b0e4-4731-fa05-9fc3273c0074"
      },
      "outputs": [
        {
          "output_type": "display_data",
          "data": {
            "text/plain": [
              "<Figure size 432x288 with 1 Axes>"
            ],
            "image/png": "[encoded data removed]"
          },
          "metadata": {
            "needs_background": "light"
          }
        }
      ],
      "source": [
        "plt.subplot(2,1,1)\n",
        "plt.plot(history.history['recall'])\n",
        "plt.plot(history.history['val_recall'])\n",
        "plt.title('Model Recall')\n",
        "plt.ylabel('Recall')\n",
        "plt.xlabel('Epoch')\n",
        "plt.legend(['train', 'validation'], loc='lower right')\n",
        "plt.show()"
      ]
    },
    {
      "cell_type": "code",
      "execution_count": null,
      "metadata": {
        "id": "st3Q1-Q5C_Bc",
        "colab": {
          "base_uri": "https://localhost:8080/",
          "height": 177
        },
        "outputId": "f649ed20-7b32-4dcd-87af-c89f82696946"
      },
      "outputs": [
        {
          "output_type": "display_data",
          "data": {
            "text/plain": [
              "<Figure size 432x288 with 1 Axes>"
            ],
            "image/png": "[encoded data removed]"
          },
          "metadata": {
            "needs_background": "light"
          }
        }
      ],
      "source": [
        "plt.subplot(2,1,1)\n",
        "plt.plot(history.history['precision'])\n",
        "plt.plot(history.history['val_precision'])\n",
        "plt.title('Model Precision')\n",
        "plt.ylabel('Precision')\n",
        "plt.xlabel('Epoch')\n",
        "plt.legend(['train', 'validation'], loc='lower right')\n",
        "plt.show()"
      ]
    },
    {
      "cell_type": "code",
      "execution_count": null,
      "metadata": {
        "id": "80SiXuiEJq7L",
        "colab": {
          "base_uri": "https://localhost:8080/",
          "height": 295
        },
        "outputId": "4b1fe317-4ac4-4e0d-e72a-e9c70acb65fe"
      },
      "outputs": [
        {
          "output_type": "display_data",
          "data": {
            "text/plain": [
              "<Figure size 432x288 with 2 Axes>"
            ],
            "image/png": "[encoded data removed]"
          },
          "metadata": {
            "needs_background": "light"
          }
        }
      ],
      "source": [
        "cm = confusion_matrix(Y_test, Y_pred)\n",
        "\n",
        "# Create heatmap from confusion matrix\n",
        "sns.heatmap(cm, annot=True, cmap='Blues', fmt='g')\n",
        "\n",
        "# Add labels and title\n",
        "plt.xlabel('Predicted')\n",
        "plt.ylabel('True')\n",
        "plt.title('Confusion Matrix')\n",
        "\n",
        "plt.show()"
      ]
    },
    {
      "cell_type": "code",
      "source": [
        "fig, axs = plt.subplots(2, 3, figsize=(20,5),gridspec_kw={'hspace': 0.5})\n",
        "\n",
        "# Plot accuracy\n",
        "axs[0, 0].plot(history.history['accuracy'], label='accuracy')\n",
        "axs[0, 0].plot(history.history['val_accuracy'], label='val_accuracy')\n",
        "axs[0, 0].set_title('Accuracy')\n",
        "axs[0, 0].set_xlabel('Epoch')\n",
        "axs[0, 0].set_ylabel('Accuracy')\n",
        "axs[0, 0].legend()\n",
        "\n",
        "# Plot loss\n",
        "axs[0, 1].plot(history.history['loss'], label='loss')\n",
        "axs[0, 1].plot(history.history['val_loss'], label='val_loss')\n",
        "axs[0, 1].set_title('Loss')\n",
        "axs[0, 1].set_xlabel('Epoch')\n",
        "axs[0, 1].set_ylabel('Loss')\n",
        "axs[0, 1].legend()\n",
        "\n",
        "# Plot precision\n",
        "axs[0, 2].plot(history.history['precision'], label='precision')\n",
        "axs[0, 2].plot(history.history['val_precision'], label='val_precision')\n",
        "axs[0, 2].set_title('Precision')\n",
        "axs[0, 2].set_xlabel('Epoch')\n",
        "axs[0, 2].set_ylabel('Precision')\n",
        "axs[0, 2].legend()\n",
        "\n",
        "# Plot recall\n",
        "axs[1, 0].plot(history.history['recall'], label='recall')\n",
        "axs[1, 0].plot(history.history['val_recall'], label='val_recall')\n",
        "axs[1, 0].set_title('Recall')\n",
        "axs[1, 0].set_xlabel('Epoch')\n",
        "axs[1, 0].set_ylabel('Recall')\n",
        "axs[1, 0].legend()\n",
        "\n",
        "# Plot F1 score\n",
        "axs[1, 1].plot(history.history['f1_score'], label='f1_score')\n",
        "axs[1, 1].plot(history.history['val_f1_score'], label='val_f1_score')\n",
        "axs[1, 1].set_title('F1 Score')\n",
        "axs[1, 1].set_xlabel('Epoch')\n",
        "axs[1, 1].set_ylabel('F1 Score')\n",
        "axs[1, 1].legend()\n",
        "\n",
        "# Add placeholder subplot\n",
        "axs[1, 2].axis('off')\n",
        "\n",
        "# Display the plots\n",
        "plt.show()"
      ],
      "metadata": {
        "id": "OK0GBRU0kuEz",
        "colab": {
          "base_uri": "https://localhost:8080/",
          "height": 350
        },
        "outputId": "3028d694-45e2-4117-898d-efa31eee98ff"
      },
      "execution_count": 171,
      "outputs": [
        {
          "output_type": "display_data",
          "data": {
            "text/plain": [
              "<Figure size 1440x360 with 6 Axes>"
            ],
            "image/png": "[encoded data removed]"
          },
          "metadata": {
            "needs_background": "light"
          }
        }
      ]
    },
    {
      "cell_type": "code",
      "source": [],
      "metadata": {
        "id": "WWz7QTepqIUt"
      },
      "execution_count": null,
      "outputs": []
    }
  ],
  "metadata": {
    "colab": {
      "provenance": []
    },
    "gpuClass": "standard",
    "kernelspec": {
      "display_name": "Python 3.10.7 64-bit",
      "language": "python",
      "name": "python3"
    },
    "language_info": {
      "codemirror_mode": {
        "name": "ipython",
        "version": 3
      },
      "file_extension": ".py",
      "mimetype": "text/x-python",
      "name": "python",
      "nbconvert_exporter": "python",
      "pygments_lexer": "ipython3",
      "version": "3.10.7"
    },
    "vscode": {
      "interpreter": {
        "hash": "916dbcbb3f70747c44a77c7bcd40155683ae19c65e1c03b4aa3499c5328201f1"
      }
    },
    "accelerator": "GPU"
  },
  "nbformat": 4,
  "nbformat_minor": 0
}